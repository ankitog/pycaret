{
 "cells": [
  {
   "cell_type": "code",
   "execution_count": 1,
   "metadata": {},
   "outputs": [],
   "source": [
    "# loading datset from pycaret\n",
    "from pycaret.datasets import get_data"
   ]
  },
  {
   "cell_type": "code",
   "execution_count": 4,
   "metadata": {},
   "outputs": [
    {
     "output_type": "display_data",
     "data": {
      "text/plain": "   Number of times pregnant  \\\n0                         6   \n1                         1   \n2                         8   \n3                         1   \n4                         0   \n\n   Plasma glucose concentration a 2 hours in an oral glucose tolerance test  \\\n0                                                148                          \n1                                                 85                          \n2                                                183                          \n3                                                 89                          \n4                                                137                          \n\n   Diastolic blood pressure (mm Hg)  Triceps skin fold thickness (mm)  \\\n0                                72                                35   \n1                                66                                29   \n2                                64                                 0   \n3                                66                                23   \n4                                40                                35   \n\n   2-Hour serum insulin (mu U/ml)  \\\n0                               0   \n1                               0   \n2                               0   \n3                              94   \n4                             168   \n\n   Body mass index (weight in kg/(height in m)^2)  Diabetes pedigree function  \\\n0                                            33.6                       0.627   \n1                                            26.6                       0.351   \n2                                            23.3                       0.672   \n3                                            28.1                       0.167   \n4                                            43.1                       2.288   \n\n   Age (years)  Class variable  \n0           50               1  \n1           31               0  \n2           32               1  \n3           21               0  \n4           33               1  ",
      "text/html": "<div>\n<style scoped>\n    .dataframe tbody tr th:only-of-type {\n        vertical-align: middle;\n    }\n\n    .dataframe tbody tr th {\n        vertical-align: top;\n    }\n\n    .dataframe thead th {\n        text-align: right;\n    }\n</style>\n<table border=\"1\" class=\"dataframe\">\n  <thead>\n    <tr style=\"text-align: right;\">\n      <th></th>\n      <th>Number of times pregnant</th>\n      <th>Plasma glucose concentration a 2 hours in an oral glucose tolerance test</th>\n      <th>Diastolic blood pressure (mm Hg)</th>\n      <th>Triceps skin fold thickness (mm)</th>\n      <th>2-Hour serum insulin (mu U/ml)</th>\n      <th>Body mass index (weight in kg/(height in m)^2)</th>\n      <th>Diabetes pedigree function</th>\n      <th>Age (years)</th>\n      <th>Class variable</th>\n    </tr>\n  </thead>\n  <tbody>\n    <tr>\n      <th>0</th>\n      <td>6</td>\n      <td>148</td>\n      <td>72</td>\n      <td>35</td>\n      <td>0</td>\n      <td>33.6</td>\n      <td>0.627</td>\n      <td>50</td>\n      <td>1</td>\n    </tr>\n    <tr>\n      <th>1</th>\n      <td>1</td>\n      <td>85</td>\n      <td>66</td>\n      <td>29</td>\n      <td>0</td>\n      <td>26.6</td>\n      <td>0.351</td>\n      <td>31</td>\n      <td>0</td>\n    </tr>\n    <tr>\n      <th>2</th>\n      <td>8</td>\n      <td>183</td>\n      <td>64</td>\n      <td>0</td>\n      <td>0</td>\n      <td>23.3</td>\n      <td>0.672</td>\n      <td>32</td>\n      <td>1</td>\n    </tr>\n    <tr>\n      <th>3</th>\n      <td>1</td>\n      <td>89</td>\n      <td>66</td>\n      <td>23</td>\n      <td>94</td>\n      <td>28.1</td>\n      <td>0.167</td>\n      <td>21</td>\n      <td>0</td>\n    </tr>\n    <tr>\n      <th>4</th>\n      <td>0</td>\n      <td>137</td>\n      <td>40</td>\n      <td>35</td>\n      <td>168</td>\n      <td>43.1</td>\n      <td>2.288</td>\n      <td>33</td>\n      <td>1</td>\n    </tr>\n  </tbody>\n</table>\n</div>"
     },
     "metadata": {}
    }
   ],
   "source": [
    "# classification example\n",
    "diabetes_df = get_data('diabetes')"
   ]
  },
  {
   "cell_type": "code",
   "execution_count": 6,
   "metadata": {
    "tags": []
   },
   "outputs": [
    {
     "output_type": "stream",
     "name": "stdout",
     "text": "\nSetup Succesfully Completed!\n"
    },
    {
     "output_type": "display_data",
     "data": {
      "text/plain": "<pandas.io.formats.style.Styler at 0x20408308>",
      "text/html": "<style  type=\"text/css\" >\n</style><table id=\"T_4fbcd798_cf59_11ea_a133_afc4bdc4f0b1\" ><thead>    <tr>        <th class=\"blank level0\" ></th>        <th class=\"col_heading level0 col0\" >Description</th>        <th class=\"col_heading level0 col1\" >Value</th>    </tr></thead><tbody>\n                <tr>\n                        <th id=\"T_4fbcd798_cf59_11ea_a133_afc4bdc4f0b1level0_row0\" class=\"row_heading level0 row0\" >0</th>\n                        <td id=\"T_4fbcd798_cf59_11ea_a133_afc4bdc4f0b1row0_col0\" class=\"data row0 col0\" >session_id</td>\n                        <td id=\"T_4fbcd798_cf59_11ea_a133_afc4bdc4f0b1row0_col1\" class=\"data row0 col1\" >171</td>\n            </tr>\n            <tr>\n                        <th id=\"T_4fbcd798_cf59_11ea_a133_afc4bdc4f0b1level0_row1\" class=\"row_heading level0 row1\" >1</th>\n                        <td id=\"T_4fbcd798_cf59_11ea_a133_afc4bdc4f0b1row1_col0\" class=\"data row1 col0\" >Target Type</td>\n                        <td id=\"T_4fbcd798_cf59_11ea_a133_afc4bdc4f0b1row1_col1\" class=\"data row1 col1\" >Binary</td>\n            </tr>\n            <tr>\n                        <th id=\"T_4fbcd798_cf59_11ea_a133_afc4bdc4f0b1level0_row2\" class=\"row_heading level0 row2\" >2</th>\n                        <td id=\"T_4fbcd798_cf59_11ea_a133_afc4bdc4f0b1row2_col0\" class=\"data row2 col0\" >Label Encoded</td>\n                        <td id=\"T_4fbcd798_cf59_11ea_a133_afc4bdc4f0b1row2_col1\" class=\"data row2 col1\" >None</td>\n            </tr>\n            <tr>\n                        <th id=\"T_4fbcd798_cf59_11ea_a133_afc4bdc4f0b1level0_row3\" class=\"row_heading level0 row3\" >3</th>\n                        <td id=\"T_4fbcd798_cf59_11ea_a133_afc4bdc4f0b1row3_col0\" class=\"data row3 col0\" >Original Data</td>\n                        <td id=\"T_4fbcd798_cf59_11ea_a133_afc4bdc4f0b1row3_col1\" class=\"data row3 col1\" >(768, 9)</td>\n            </tr>\n            <tr>\n                        <th id=\"T_4fbcd798_cf59_11ea_a133_afc4bdc4f0b1level0_row4\" class=\"row_heading level0 row4\" >4</th>\n                        <td id=\"T_4fbcd798_cf59_11ea_a133_afc4bdc4f0b1row4_col0\" class=\"data row4 col0\" >Missing Values </td>\n                        <td id=\"T_4fbcd798_cf59_11ea_a133_afc4bdc4f0b1row4_col1\" class=\"data row4 col1\" >False</td>\n            </tr>\n            <tr>\n                        <th id=\"T_4fbcd798_cf59_11ea_a133_afc4bdc4f0b1level0_row5\" class=\"row_heading level0 row5\" >5</th>\n                        <td id=\"T_4fbcd798_cf59_11ea_a133_afc4bdc4f0b1row5_col0\" class=\"data row5 col0\" >Numeric Features </td>\n                        <td id=\"T_4fbcd798_cf59_11ea_a133_afc4bdc4f0b1row5_col1\" class=\"data row5 col1\" >7</td>\n            </tr>\n            <tr>\n                        <th id=\"T_4fbcd798_cf59_11ea_a133_afc4bdc4f0b1level0_row6\" class=\"row_heading level0 row6\" >6</th>\n                        <td id=\"T_4fbcd798_cf59_11ea_a133_afc4bdc4f0b1row6_col0\" class=\"data row6 col0\" >Categorical Features </td>\n                        <td id=\"T_4fbcd798_cf59_11ea_a133_afc4bdc4f0b1row6_col1\" class=\"data row6 col1\" >1</td>\n            </tr>\n            <tr>\n                        <th id=\"T_4fbcd798_cf59_11ea_a133_afc4bdc4f0b1level0_row7\" class=\"row_heading level0 row7\" >7</th>\n                        <td id=\"T_4fbcd798_cf59_11ea_a133_afc4bdc4f0b1row7_col0\" class=\"data row7 col0\" >Ordinal Features </td>\n                        <td id=\"T_4fbcd798_cf59_11ea_a133_afc4bdc4f0b1row7_col1\" class=\"data row7 col1\" >False</td>\n            </tr>\n            <tr>\n                        <th id=\"T_4fbcd798_cf59_11ea_a133_afc4bdc4f0b1level0_row8\" class=\"row_heading level0 row8\" >8</th>\n                        <td id=\"T_4fbcd798_cf59_11ea_a133_afc4bdc4f0b1row8_col0\" class=\"data row8 col0\" >High Cardinality Features </td>\n                        <td id=\"T_4fbcd798_cf59_11ea_a133_afc4bdc4f0b1row8_col1\" class=\"data row8 col1\" >False</td>\n            </tr>\n            <tr>\n                        <th id=\"T_4fbcd798_cf59_11ea_a133_afc4bdc4f0b1level0_row9\" class=\"row_heading level0 row9\" >9</th>\n                        <td id=\"T_4fbcd798_cf59_11ea_a133_afc4bdc4f0b1row9_col0\" class=\"data row9 col0\" >High Cardinality Method </td>\n                        <td id=\"T_4fbcd798_cf59_11ea_a133_afc4bdc4f0b1row9_col1\" class=\"data row9 col1\" >None</td>\n            </tr>\n            <tr>\n                        <th id=\"T_4fbcd798_cf59_11ea_a133_afc4bdc4f0b1level0_row10\" class=\"row_heading level0 row10\" >10</th>\n                        <td id=\"T_4fbcd798_cf59_11ea_a133_afc4bdc4f0b1row10_col0\" class=\"data row10 col0\" >Sampled Data</td>\n                        <td id=\"T_4fbcd798_cf59_11ea_a133_afc4bdc4f0b1row10_col1\" class=\"data row10 col1\" >(768, 9)</td>\n            </tr>\n            <tr>\n                        <th id=\"T_4fbcd798_cf59_11ea_a133_afc4bdc4f0b1level0_row11\" class=\"row_heading level0 row11\" >11</th>\n                        <td id=\"T_4fbcd798_cf59_11ea_a133_afc4bdc4f0b1row11_col0\" class=\"data row11 col0\" >Transformed Train Set</td>\n                        <td id=\"T_4fbcd798_cf59_11ea_a133_afc4bdc4f0b1row11_col1\" class=\"data row11 col1\" >(537, 24)</td>\n            </tr>\n            <tr>\n                        <th id=\"T_4fbcd798_cf59_11ea_a133_afc4bdc4f0b1level0_row12\" class=\"row_heading level0 row12\" >12</th>\n                        <td id=\"T_4fbcd798_cf59_11ea_a133_afc4bdc4f0b1row12_col0\" class=\"data row12 col0\" >Transformed Test Set</td>\n                        <td id=\"T_4fbcd798_cf59_11ea_a133_afc4bdc4f0b1row12_col1\" class=\"data row12 col1\" >(231, 24)</td>\n            </tr>\n            <tr>\n                        <th id=\"T_4fbcd798_cf59_11ea_a133_afc4bdc4f0b1level0_row13\" class=\"row_heading level0 row13\" >13</th>\n                        <td id=\"T_4fbcd798_cf59_11ea_a133_afc4bdc4f0b1row13_col0\" class=\"data row13 col0\" >Numeric Imputer </td>\n                        <td id=\"T_4fbcd798_cf59_11ea_a133_afc4bdc4f0b1row13_col1\" class=\"data row13 col1\" >mean</td>\n            </tr>\n            <tr>\n                        <th id=\"T_4fbcd798_cf59_11ea_a133_afc4bdc4f0b1level0_row14\" class=\"row_heading level0 row14\" >14</th>\n                        <td id=\"T_4fbcd798_cf59_11ea_a133_afc4bdc4f0b1row14_col0\" class=\"data row14 col0\" >Categorical Imputer </td>\n                        <td id=\"T_4fbcd798_cf59_11ea_a133_afc4bdc4f0b1row14_col1\" class=\"data row14 col1\" >constant</td>\n            </tr>\n            <tr>\n                        <th id=\"T_4fbcd798_cf59_11ea_a133_afc4bdc4f0b1level0_row15\" class=\"row_heading level0 row15\" >15</th>\n                        <td id=\"T_4fbcd798_cf59_11ea_a133_afc4bdc4f0b1row15_col0\" class=\"data row15 col0\" >Normalize </td>\n                        <td id=\"T_4fbcd798_cf59_11ea_a133_afc4bdc4f0b1row15_col1\" class=\"data row15 col1\" >False</td>\n            </tr>\n            <tr>\n                        <th id=\"T_4fbcd798_cf59_11ea_a133_afc4bdc4f0b1level0_row16\" class=\"row_heading level0 row16\" >16</th>\n                        <td id=\"T_4fbcd798_cf59_11ea_a133_afc4bdc4f0b1row16_col0\" class=\"data row16 col0\" >Normalize Method </td>\n                        <td id=\"T_4fbcd798_cf59_11ea_a133_afc4bdc4f0b1row16_col1\" class=\"data row16 col1\" >None</td>\n            </tr>\n            <tr>\n                        <th id=\"T_4fbcd798_cf59_11ea_a133_afc4bdc4f0b1level0_row17\" class=\"row_heading level0 row17\" >17</th>\n                        <td id=\"T_4fbcd798_cf59_11ea_a133_afc4bdc4f0b1row17_col0\" class=\"data row17 col0\" >Transformation </td>\n                        <td id=\"T_4fbcd798_cf59_11ea_a133_afc4bdc4f0b1row17_col1\" class=\"data row17 col1\" >False</td>\n            </tr>\n            <tr>\n                        <th id=\"T_4fbcd798_cf59_11ea_a133_afc4bdc4f0b1level0_row18\" class=\"row_heading level0 row18\" >18</th>\n                        <td id=\"T_4fbcd798_cf59_11ea_a133_afc4bdc4f0b1row18_col0\" class=\"data row18 col0\" >Transformation Method </td>\n                        <td id=\"T_4fbcd798_cf59_11ea_a133_afc4bdc4f0b1row18_col1\" class=\"data row18 col1\" >None</td>\n            </tr>\n            <tr>\n                        <th id=\"T_4fbcd798_cf59_11ea_a133_afc4bdc4f0b1level0_row19\" class=\"row_heading level0 row19\" >19</th>\n                        <td id=\"T_4fbcd798_cf59_11ea_a133_afc4bdc4f0b1row19_col0\" class=\"data row19 col0\" >PCA </td>\n                        <td id=\"T_4fbcd798_cf59_11ea_a133_afc4bdc4f0b1row19_col1\" class=\"data row19 col1\" >False</td>\n            </tr>\n            <tr>\n                        <th id=\"T_4fbcd798_cf59_11ea_a133_afc4bdc4f0b1level0_row20\" class=\"row_heading level0 row20\" >20</th>\n                        <td id=\"T_4fbcd798_cf59_11ea_a133_afc4bdc4f0b1row20_col0\" class=\"data row20 col0\" >PCA Method </td>\n                        <td id=\"T_4fbcd798_cf59_11ea_a133_afc4bdc4f0b1row20_col1\" class=\"data row20 col1\" >None</td>\n            </tr>\n            <tr>\n                        <th id=\"T_4fbcd798_cf59_11ea_a133_afc4bdc4f0b1level0_row21\" class=\"row_heading level0 row21\" >21</th>\n                        <td id=\"T_4fbcd798_cf59_11ea_a133_afc4bdc4f0b1row21_col0\" class=\"data row21 col0\" >PCA Components </td>\n                        <td id=\"T_4fbcd798_cf59_11ea_a133_afc4bdc4f0b1row21_col1\" class=\"data row21 col1\" >None</td>\n            </tr>\n            <tr>\n                        <th id=\"T_4fbcd798_cf59_11ea_a133_afc4bdc4f0b1level0_row22\" class=\"row_heading level0 row22\" >22</th>\n                        <td id=\"T_4fbcd798_cf59_11ea_a133_afc4bdc4f0b1row22_col0\" class=\"data row22 col0\" >Ignore Low Variance </td>\n                        <td id=\"T_4fbcd798_cf59_11ea_a133_afc4bdc4f0b1row22_col1\" class=\"data row22 col1\" >False</td>\n            </tr>\n            <tr>\n                        <th id=\"T_4fbcd798_cf59_11ea_a133_afc4bdc4f0b1level0_row23\" class=\"row_heading level0 row23\" >23</th>\n                        <td id=\"T_4fbcd798_cf59_11ea_a133_afc4bdc4f0b1row23_col0\" class=\"data row23 col0\" >Combine Rare Levels </td>\n                        <td id=\"T_4fbcd798_cf59_11ea_a133_afc4bdc4f0b1row23_col1\" class=\"data row23 col1\" >False</td>\n            </tr>\n            <tr>\n                        <th id=\"T_4fbcd798_cf59_11ea_a133_afc4bdc4f0b1level0_row24\" class=\"row_heading level0 row24\" >24</th>\n                        <td id=\"T_4fbcd798_cf59_11ea_a133_afc4bdc4f0b1row24_col0\" class=\"data row24 col0\" >Rare Level Threshold </td>\n                        <td id=\"T_4fbcd798_cf59_11ea_a133_afc4bdc4f0b1row24_col1\" class=\"data row24 col1\" >None</td>\n            </tr>\n            <tr>\n                        <th id=\"T_4fbcd798_cf59_11ea_a133_afc4bdc4f0b1level0_row25\" class=\"row_heading level0 row25\" >25</th>\n                        <td id=\"T_4fbcd798_cf59_11ea_a133_afc4bdc4f0b1row25_col0\" class=\"data row25 col0\" >Numeric Binning </td>\n                        <td id=\"T_4fbcd798_cf59_11ea_a133_afc4bdc4f0b1row25_col1\" class=\"data row25 col1\" >False</td>\n            </tr>\n            <tr>\n                        <th id=\"T_4fbcd798_cf59_11ea_a133_afc4bdc4f0b1level0_row26\" class=\"row_heading level0 row26\" >26</th>\n                        <td id=\"T_4fbcd798_cf59_11ea_a133_afc4bdc4f0b1row26_col0\" class=\"data row26 col0\" >Remove Outliers </td>\n                        <td id=\"T_4fbcd798_cf59_11ea_a133_afc4bdc4f0b1row26_col1\" class=\"data row26 col1\" >False</td>\n            </tr>\n            <tr>\n                        <th id=\"T_4fbcd798_cf59_11ea_a133_afc4bdc4f0b1level0_row27\" class=\"row_heading level0 row27\" >27</th>\n                        <td id=\"T_4fbcd798_cf59_11ea_a133_afc4bdc4f0b1row27_col0\" class=\"data row27 col0\" >Outliers Threshold </td>\n                        <td id=\"T_4fbcd798_cf59_11ea_a133_afc4bdc4f0b1row27_col1\" class=\"data row27 col1\" >None</td>\n            </tr>\n            <tr>\n                        <th id=\"T_4fbcd798_cf59_11ea_a133_afc4bdc4f0b1level0_row28\" class=\"row_heading level0 row28\" >28</th>\n                        <td id=\"T_4fbcd798_cf59_11ea_a133_afc4bdc4f0b1row28_col0\" class=\"data row28 col0\" >Remove Multicollinearity </td>\n                        <td id=\"T_4fbcd798_cf59_11ea_a133_afc4bdc4f0b1row28_col1\" class=\"data row28 col1\" >False</td>\n            </tr>\n            <tr>\n                        <th id=\"T_4fbcd798_cf59_11ea_a133_afc4bdc4f0b1level0_row29\" class=\"row_heading level0 row29\" >29</th>\n                        <td id=\"T_4fbcd798_cf59_11ea_a133_afc4bdc4f0b1row29_col0\" class=\"data row29 col0\" >Multicollinearity Threshold </td>\n                        <td id=\"T_4fbcd798_cf59_11ea_a133_afc4bdc4f0b1row29_col1\" class=\"data row29 col1\" >None</td>\n            </tr>\n            <tr>\n                        <th id=\"T_4fbcd798_cf59_11ea_a133_afc4bdc4f0b1level0_row30\" class=\"row_heading level0 row30\" >30</th>\n                        <td id=\"T_4fbcd798_cf59_11ea_a133_afc4bdc4f0b1row30_col0\" class=\"data row30 col0\" >Clustering </td>\n                        <td id=\"T_4fbcd798_cf59_11ea_a133_afc4bdc4f0b1row30_col1\" class=\"data row30 col1\" >False</td>\n            </tr>\n            <tr>\n                        <th id=\"T_4fbcd798_cf59_11ea_a133_afc4bdc4f0b1level0_row31\" class=\"row_heading level0 row31\" >31</th>\n                        <td id=\"T_4fbcd798_cf59_11ea_a133_afc4bdc4f0b1row31_col0\" class=\"data row31 col0\" >Clustering Iteration </td>\n                        <td id=\"T_4fbcd798_cf59_11ea_a133_afc4bdc4f0b1row31_col1\" class=\"data row31 col1\" >None</td>\n            </tr>\n            <tr>\n                        <th id=\"T_4fbcd798_cf59_11ea_a133_afc4bdc4f0b1level0_row32\" class=\"row_heading level0 row32\" >32</th>\n                        <td id=\"T_4fbcd798_cf59_11ea_a133_afc4bdc4f0b1row32_col0\" class=\"data row32 col0\" >Polynomial Features </td>\n                        <td id=\"T_4fbcd798_cf59_11ea_a133_afc4bdc4f0b1row32_col1\" class=\"data row32 col1\" >False</td>\n            </tr>\n            <tr>\n                        <th id=\"T_4fbcd798_cf59_11ea_a133_afc4bdc4f0b1level0_row33\" class=\"row_heading level0 row33\" >33</th>\n                        <td id=\"T_4fbcd798_cf59_11ea_a133_afc4bdc4f0b1row33_col0\" class=\"data row33 col0\" >Polynomial Degree </td>\n                        <td id=\"T_4fbcd798_cf59_11ea_a133_afc4bdc4f0b1row33_col1\" class=\"data row33 col1\" >None</td>\n            </tr>\n            <tr>\n                        <th id=\"T_4fbcd798_cf59_11ea_a133_afc4bdc4f0b1level0_row34\" class=\"row_heading level0 row34\" >34</th>\n                        <td id=\"T_4fbcd798_cf59_11ea_a133_afc4bdc4f0b1row34_col0\" class=\"data row34 col0\" >Trignometry Features </td>\n                        <td id=\"T_4fbcd798_cf59_11ea_a133_afc4bdc4f0b1row34_col1\" class=\"data row34 col1\" >False</td>\n            </tr>\n            <tr>\n                        <th id=\"T_4fbcd798_cf59_11ea_a133_afc4bdc4f0b1level0_row35\" class=\"row_heading level0 row35\" >35</th>\n                        <td id=\"T_4fbcd798_cf59_11ea_a133_afc4bdc4f0b1row35_col0\" class=\"data row35 col0\" >Polynomial Threshold </td>\n                        <td id=\"T_4fbcd798_cf59_11ea_a133_afc4bdc4f0b1row35_col1\" class=\"data row35 col1\" >None</td>\n            </tr>\n            <tr>\n                        <th id=\"T_4fbcd798_cf59_11ea_a133_afc4bdc4f0b1level0_row36\" class=\"row_heading level0 row36\" >36</th>\n                        <td id=\"T_4fbcd798_cf59_11ea_a133_afc4bdc4f0b1row36_col0\" class=\"data row36 col0\" >Group Features </td>\n                        <td id=\"T_4fbcd798_cf59_11ea_a133_afc4bdc4f0b1row36_col1\" class=\"data row36 col1\" >False</td>\n            </tr>\n            <tr>\n                        <th id=\"T_4fbcd798_cf59_11ea_a133_afc4bdc4f0b1level0_row37\" class=\"row_heading level0 row37\" >37</th>\n                        <td id=\"T_4fbcd798_cf59_11ea_a133_afc4bdc4f0b1row37_col0\" class=\"data row37 col0\" >Feature Selection </td>\n                        <td id=\"T_4fbcd798_cf59_11ea_a133_afc4bdc4f0b1row37_col1\" class=\"data row37 col1\" >False</td>\n            </tr>\n            <tr>\n                        <th id=\"T_4fbcd798_cf59_11ea_a133_afc4bdc4f0b1level0_row38\" class=\"row_heading level0 row38\" >38</th>\n                        <td id=\"T_4fbcd798_cf59_11ea_a133_afc4bdc4f0b1row38_col0\" class=\"data row38 col0\" >Features Selection Threshold </td>\n                        <td id=\"T_4fbcd798_cf59_11ea_a133_afc4bdc4f0b1row38_col1\" class=\"data row38 col1\" >None</td>\n            </tr>\n            <tr>\n                        <th id=\"T_4fbcd798_cf59_11ea_a133_afc4bdc4f0b1level0_row39\" class=\"row_heading level0 row39\" >39</th>\n                        <td id=\"T_4fbcd798_cf59_11ea_a133_afc4bdc4f0b1row39_col0\" class=\"data row39 col0\" >Feature Interaction </td>\n                        <td id=\"T_4fbcd798_cf59_11ea_a133_afc4bdc4f0b1row39_col1\" class=\"data row39 col1\" >False</td>\n            </tr>\n            <tr>\n                        <th id=\"T_4fbcd798_cf59_11ea_a133_afc4bdc4f0b1level0_row40\" class=\"row_heading level0 row40\" >40</th>\n                        <td id=\"T_4fbcd798_cf59_11ea_a133_afc4bdc4f0b1row40_col0\" class=\"data row40 col0\" >Feature Ratio </td>\n                        <td id=\"T_4fbcd798_cf59_11ea_a133_afc4bdc4f0b1row40_col1\" class=\"data row40 col1\" >False</td>\n            </tr>\n            <tr>\n                        <th id=\"T_4fbcd798_cf59_11ea_a133_afc4bdc4f0b1level0_row41\" class=\"row_heading level0 row41\" >41</th>\n                        <td id=\"T_4fbcd798_cf59_11ea_a133_afc4bdc4f0b1row41_col0\" class=\"data row41 col0\" >Interaction Threshold </td>\n                        <td id=\"T_4fbcd798_cf59_11ea_a133_afc4bdc4f0b1row41_col1\" class=\"data row41 col1\" >None</td>\n            </tr>\n    </tbody></table>"
     },
     "metadata": {}
    }
   ],
   "source": [
    "# import all classification model and setup\n",
    "from pycaret.classification import *\n",
    "clf = setup(data=diabetes_df, target='Class variable')"
   ]
  },
  {
   "cell_type": "code",
   "execution_count": 9,
   "metadata": {},
   "outputs": [
    {
     "output_type": "display_data",
     "data": {
      "text/plain": "      crim    zn  indus  chas    nox     rm   age     dis  rad  tax  ptratio  \\\n0  0.00632  18.0   2.31     0  0.538  6.575  65.2  4.0900    1  296     15.3   \n1  0.02731   0.0   7.07     0  0.469  6.421  78.9  4.9671    2  242     17.8   \n2  0.02729   0.0   7.07     0  0.469  7.185  61.1  4.9671    2  242     17.8   \n3  0.03237   0.0   2.18     0  0.458  6.998  45.8  6.0622    3  222     18.7   \n4  0.06905   0.0   2.18     0  0.458  7.147  54.2  6.0622    3  222     18.7   \n\n    black  lstat  medv  \n0  396.90   4.98  24.0  \n1  396.90   9.14  21.6  \n2  392.83   4.03  34.7  \n3  394.63   2.94  33.4  \n4  396.90   5.33  36.2  ",
      "text/html": "<div>\n<style scoped>\n    .dataframe tbody tr th:only-of-type {\n        vertical-align: middle;\n    }\n\n    .dataframe tbody tr th {\n        vertical-align: top;\n    }\n\n    .dataframe thead th {\n        text-align: right;\n    }\n</style>\n<table border=\"1\" class=\"dataframe\">\n  <thead>\n    <tr style=\"text-align: right;\">\n      <th></th>\n      <th>crim</th>\n      <th>zn</th>\n      <th>indus</th>\n      <th>chas</th>\n      <th>nox</th>\n      <th>rm</th>\n      <th>age</th>\n      <th>dis</th>\n      <th>rad</th>\n      <th>tax</th>\n      <th>ptratio</th>\n      <th>black</th>\n      <th>lstat</th>\n      <th>medv</th>\n    </tr>\n  </thead>\n  <tbody>\n    <tr>\n      <th>0</th>\n      <td>0.00632</td>\n      <td>18.0</td>\n      <td>2.31</td>\n      <td>0</td>\n      <td>0.538</td>\n      <td>6.575</td>\n      <td>65.2</td>\n      <td>4.0900</td>\n      <td>1</td>\n      <td>296</td>\n      <td>15.3</td>\n      <td>396.90</td>\n      <td>4.98</td>\n      <td>24.0</td>\n    </tr>\n    <tr>\n      <th>1</th>\n      <td>0.02731</td>\n      <td>0.0</td>\n      <td>7.07</td>\n      <td>0</td>\n      <td>0.469</td>\n      <td>6.421</td>\n      <td>78.9</td>\n      <td>4.9671</td>\n      <td>2</td>\n      <td>242</td>\n      <td>17.8</td>\n      <td>396.90</td>\n      <td>9.14</td>\n      <td>21.6</td>\n    </tr>\n    <tr>\n      <th>2</th>\n      <td>0.02729</td>\n      <td>0.0</td>\n      <td>7.07</td>\n      <td>0</td>\n      <td>0.469</td>\n      <td>7.185</td>\n      <td>61.1</td>\n      <td>4.9671</td>\n      <td>2</td>\n      <td>242</td>\n      <td>17.8</td>\n      <td>392.83</td>\n      <td>4.03</td>\n      <td>34.7</td>\n    </tr>\n    <tr>\n      <th>3</th>\n      <td>0.03237</td>\n      <td>0.0</td>\n      <td>2.18</td>\n      <td>0</td>\n      <td>0.458</td>\n      <td>6.998</td>\n      <td>45.8</td>\n      <td>6.0622</td>\n      <td>3</td>\n      <td>222</td>\n      <td>18.7</td>\n      <td>394.63</td>\n      <td>2.94</td>\n      <td>33.4</td>\n    </tr>\n    <tr>\n      <th>4</th>\n      <td>0.06905</td>\n      <td>0.0</td>\n      <td>2.18</td>\n      <td>0</td>\n      <td>0.458</td>\n      <td>7.147</td>\n      <td>54.2</td>\n      <td>6.0622</td>\n      <td>3</td>\n      <td>222</td>\n      <td>18.7</td>\n      <td>396.90</td>\n      <td>5.33</td>\n      <td>36.2</td>\n    </tr>\n  </tbody>\n</table>\n</div>"
     },
     "metadata": {}
    }
   ],
   "source": [
    "# regression example\n",
    "boston_df = get_data('boston')"
   ]
  },
  {
   "cell_type": "code",
   "execution_count": 10,
   "metadata": {
    "tags": []
   },
   "outputs": [
    {
     "output_type": "stream",
     "name": "stdout",
     "text": "\nSetup Succesfully Completed!\n"
    },
    {
     "output_type": "display_data",
     "data": {
      "text/plain": "<pandas.io.formats.style.Styler at 0x2a446908>",
      "text/html": "<style  type=\"text/css\" >\n</style><table id=\"T_c57e74ee_cf59_11ea_aa9a_afc4bdc4f0b1\" ><thead>    <tr>        <th class=\"blank level0\" ></th>        <th class=\"col_heading level0 col0\" >Description</th>        <th class=\"col_heading level0 col1\" >Value</th>    </tr></thead><tbody>\n                <tr>\n                        <th id=\"T_c57e74ee_cf59_11ea_aa9a_afc4bdc4f0b1level0_row0\" class=\"row_heading level0 row0\" >0</th>\n                        <td id=\"T_c57e74ee_cf59_11ea_aa9a_afc4bdc4f0b1row0_col0\" class=\"data row0 col0\" >session_id</td>\n                        <td id=\"T_c57e74ee_cf59_11ea_aa9a_afc4bdc4f0b1row0_col1\" class=\"data row0 col1\" >2415</td>\n            </tr>\n            <tr>\n                        <th id=\"T_c57e74ee_cf59_11ea_aa9a_afc4bdc4f0b1level0_row1\" class=\"row_heading level0 row1\" >1</th>\n                        <td id=\"T_c57e74ee_cf59_11ea_aa9a_afc4bdc4f0b1row1_col0\" class=\"data row1 col0\" >Transform Target </td>\n                        <td id=\"T_c57e74ee_cf59_11ea_aa9a_afc4bdc4f0b1row1_col1\" class=\"data row1 col1\" >False</td>\n            </tr>\n            <tr>\n                        <th id=\"T_c57e74ee_cf59_11ea_aa9a_afc4bdc4f0b1level0_row2\" class=\"row_heading level0 row2\" >2</th>\n                        <td id=\"T_c57e74ee_cf59_11ea_aa9a_afc4bdc4f0b1row2_col0\" class=\"data row2 col0\" >Transform Target Method</td>\n                        <td id=\"T_c57e74ee_cf59_11ea_aa9a_afc4bdc4f0b1row2_col1\" class=\"data row2 col1\" >None</td>\n            </tr>\n            <tr>\n                        <th id=\"T_c57e74ee_cf59_11ea_aa9a_afc4bdc4f0b1level0_row3\" class=\"row_heading level0 row3\" >3</th>\n                        <td id=\"T_c57e74ee_cf59_11ea_aa9a_afc4bdc4f0b1row3_col0\" class=\"data row3 col0\" >Original Data</td>\n                        <td id=\"T_c57e74ee_cf59_11ea_aa9a_afc4bdc4f0b1row3_col1\" class=\"data row3 col1\" >(506, 14)</td>\n            </tr>\n            <tr>\n                        <th id=\"T_c57e74ee_cf59_11ea_aa9a_afc4bdc4f0b1level0_row4\" class=\"row_heading level0 row4\" >4</th>\n                        <td id=\"T_c57e74ee_cf59_11ea_aa9a_afc4bdc4f0b1row4_col0\" class=\"data row4 col0\" >Missing Values </td>\n                        <td id=\"T_c57e74ee_cf59_11ea_aa9a_afc4bdc4f0b1row4_col1\" class=\"data row4 col1\" >False</td>\n            </tr>\n            <tr>\n                        <th id=\"T_c57e74ee_cf59_11ea_aa9a_afc4bdc4f0b1level0_row5\" class=\"row_heading level0 row5\" >5</th>\n                        <td id=\"T_c57e74ee_cf59_11ea_aa9a_afc4bdc4f0b1row5_col0\" class=\"data row5 col0\" >Numeric Features </td>\n                        <td id=\"T_c57e74ee_cf59_11ea_aa9a_afc4bdc4f0b1row5_col1\" class=\"data row5 col1\" >11</td>\n            </tr>\n            <tr>\n                        <th id=\"T_c57e74ee_cf59_11ea_aa9a_afc4bdc4f0b1level0_row6\" class=\"row_heading level0 row6\" >6</th>\n                        <td id=\"T_c57e74ee_cf59_11ea_aa9a_afc4bdc4f0b1row6_col0\" class=\"data row6 col0\" >Categorical Features </td>\n                        <td id=\"T_c57e74ee_cf59_11ea_aa9a_afc4bdc4f0b1row6_col1\" class=\"data row6 col1\" >2</td>\n            </tr>\n            <tr>\n                        <th id=\"T_c57e74ee_cf59_11ea_aa9a_afc4bdc4f0b1level0_row7\" class=\"row_heading level0 row7\" >7</th>\n                        <td id=\"T_c57e74ee_cf59_11ea_aa9a_afc4bdc4f0b1row7_col0\" class=\"data row7 col0\" >Ordinal Features </td>\n                        <td id=\"T_c57e74ee_cf59_11ea_aa9a_afc4bdc4f0b1row7_col1\" class=\"data row7 col1\" >False</td>\n            </tr>\n            <tr>\n                        <th id=\"T_c57e74ee_cf59_11ea_aa9a_afc4bdc4f0b1level0_row8\" class=\"row_heading level0 row8\" >8</th>\n                        <td id=\"T_c57e74ee_cf59_11ea_aa9a_afc4bdc4f0b1row8_col0\" class=\"data row8 col0\" >High Cardinality Features </td>\n                        <td id=\"T_c57e74ee_cf59_11ea_aa9a_afc4bdc4f0b1row8_col1\" class=\"data row8 col1\" >False</td>\n            </tr>\n            <tr>\n                        <th id=\"T_c57e74ee_cf59_11ea_aa9a_afc4bdc4f0b1level0_row9\" class=\"row_heading level0 row9\" >9</th>\n                        <td id=\"T_c57e74ee_cf59_11ea_aa9a_afc4bdc4f0b1row9_col0\" class=\"data row9 col0\" >High Cardinality Method </td>\n                        <td id=\"T_c57e74ee_cf59_11ea_aa9a_afc4bdc4f0b1row9_col1\" class=\"data row9 col1\" >None</td>\n            </tr>\n            <tr>\n                        <th id=\"T_c57e74ee_cf59_11ea_aa9a_afc4bdc4f0b1level0_row10\" class=\"row_heading level0 row10\" >10</th>\n                        <td id=\"T_c57e74ee_cf59_11ea_aa9a_afc4bdc4f0b1row10_col0\" class=\"data row10 col0\" >Sampled Data</td>\n                        <td id=\"T_c57e74ee_cf59_11ea_aa9a_afc4bdc4f0b1row10_col1\" class=\"data row10 col1\" >(506, 14)</td>\n            </tr>\n            <tr>\n                        <th id=\"T_c57e74ee_cf59_11ea_aa9a_afc4bdc4f0b1level0_row11\" class=\"row_heading level0 row11\" >11</th>\n                        <td id=\"T_c57e74ee_cf59_11ea_aa9a_afc4bdc4f0b1row11_col0\" class=\"data row11 col0\" >Transformed Train Set</td>\n                        <td id=\"T_c57e74ee_cf59_11ea_aa9a_afc4bdc4f0b1row11_col1\" class=\"data row11 col1\" >(354, 21)</td>\n            </tr>\n            <tr>\n                        <th id=\"T_c57e74ee_cf59_11ea_aa9a_afc4bdc4f0b1level0_row12\" class=\"row_heading level0 row12\" >12</th>\n                        <td id=\"T_c57e74ee_cf59_11ea_aa9a_afc4bdc4f0b1row12_col0\" class=\"data row12 col0\" >Transformed Test Set</td>\n                        <td id=\"T_c57e74ee_cf59_11ea_aa9a_afc4bdc4f0b1row12_col1\" class=\"data row12 col1\" >(152, 21)</td>\n            </tr>\n            <tr>\n                        <th id=\"T_c57e74ee_cf59_11ea_aa9a_afc4bdc4f0b1level0_row13\" class=\"row_heading level0 row13\" >13</th>\n                        <td id=\"T_c57e74ee_cf59_11ea_aa9a_afc4bdc4f0b1row13_col0\" class=\"data row13 col0\" >Numeric Imputer </td>\n                        <td id=\"T_c57e74ee_cf59_11ea_aa9a_afc4bdc4f0b1row13_col1\" class=\"data row13 col1\" >mean</td>\n            </tr>\n            <tr>\n                        <th id=\"T_c57e74ee_cf59_11ea_aa9a_afc4bdc4f0b1level0_row14\" class=\"row_heading level0 row14\" >14</th>\n                        <td id=\"T_c57e74ee_cf59_11ea_aa9a_afc4bdc4f0b1row14_col0\" class=\"data row14 col0\" >Categorical Imputer </td>\n                        <td id=\"T_c57e74ee_cf59_11ea_aa9a_afc4bdc4f0b1row14_col1\" class=\"data row14 col1\" >constant</td>\n            </tr>\n            <tr>\n                        <th id=\"T_c57e74ee_cf59_11ea_aa9a_afc4bdc4f0b1level0_row15\" class=\"row_heading level0 row15\" >15</th>\n                        <td id=\"T_c57e74ee_cf59_11ea_aa9a_afc4bdc4f0b1row15_col0\" class=\"data row15 col0\" >Normalize </td>\n                        <td id=\"T_c57e74ee_cf59_11ea_aa9a_afc4bdc4f0b1row15_col1\" class=\"data row15 col1\" >False</td>\n            </tr>\n            <tr>\n                        <th id=\"T_c57e74ee_cf59_11ea_aa9a_afc4bdc4f0b1level0_row16\" class=\"row_heading level0 row16\" >16</th>\n                        <td id=\"T_c57e74ee_cf59_11ea_aa9a_afc4bdc4f0b1row16_col0\" class=\"data row16 col0\" >Normalize Method </td>\n                        <td id=\"T_c57e74ee_cf59_11ea_aa9a_afc4bdc4f0b1row16_col1\" class=\"data row16 col1\" >None</td>\n            </tr>\n            <tr>\n                        <th id=\"T_c57e74ee_cf59_11ea_aa9a_afc4bdc4f0b1level0_row17\" class=\"row_heading level0 row17\" >17</th>\n                        <td id=\"T_c57e74ee_cf59_11ea_aa9a_afc4bdc4f0b1row17_col0\" class=\"data row17 col0\" >Transformation </td>\n                        <td id=\"T_c57e74ee_cf59_11ea_aa9a_afc4bdc4f0b1row17_col1\" class=\"data row17 col1\" >False</td>\n            </tr>\n            <tr>\n                        <th id=\"T_c57e74ee_cf59_11ea_aa9a_afc4bdc4f0b1level0_row18\" class=\"row_heading level0 row18\" >18</th>\n                        <td id=\"T_c57e74ee_cf59_11ea_aa9a_afc4bdc4f0b1row18_col0\" class=\"data row18 col0\" >Transformation Method </td>\n                        <td id=\"T_c57e74ee_cf59_11ea_aa9a_afc4bdc4f0b1row18_col1\" class=\"data row18 col1\" >None</td>\n            </tr>\n            <tr>\n                        <th id=\"T_c57e74ee_cf59_11ea_aa9a_afc4bdc4f0b1level0_row19\" class=\"row_heading level0 row19\" >19</th>\n                        <td id=\"T_c57e74ee_cf59_11ea_aa9a_afc4bdc4f0b1row19_col0\" class=\"data row19 col0\" >PCA </td>\n                        <td id=\"T_c57e74ee_cf59_11ea_aa9a_afc4bdc4f0b1row19_col1\" class=\"data row19 col1\" >False</td>\n            </tr>\n            <tr>\n                        <th id=\"T_c57e74ee_cf59_11ea_aa9a_afc4bdc4f0b1level0_row20\" class=\"row_heading level0 row20\" >20</th>\n                        <td id=\"T_c57e74ee_cf59_11ea_aa9a_afc4bdc4f0b1row20_col0\" class=\"data row20 col0\" >PCA Method </td>\n                        <td id=\"T_c57e74ee_cf59_11ea_aa9a_afc4bdc4f0b1row20_col1\" class=\"data row20 col1\" >None</td>\n            </tr>\n            <tr>\n                        <th id=\"T_c57e74ee_cf59_11ea_aa9a_afc4bdc4f0b1level0_row21\" class=\"row_heading level0 row21\" >21</th>\n                        <td id=\"T_c57e74ee_cf59_11ea_aa9a_afc4bdc4f0b1row21_col0\" class=\"data row21 col0\" >PCA Components </td>\n                        <td id=\"T_c57e74ee_cf59_11ea_aa9a_afc4bdc4f0b1row21_col1\" class=\"data row21 col1\" >None</td>\n            </tr>\n            <tr>\n                        <th id=\"T_c57e74ee_cf59_11ea_aa9a_afc4bdc4f0b1level0_row22\" class=\"row_heading level0 row22\" >22</th>\n                        <td id=\"T_c57e74ee_cf59_11ea_aa9a_afc4bdc4f0b1row22_col0\" class=\"data row22 col0\" >Ignore Low Variance </td>\n                        <td id=\"T_c57e74ee_cf59_11ea_aa9a_afc4bdc4f0b1row22_col1\" class=\"data row22 col1\" >False</td>\n            </tr>\n            <tr>\n                        <th id=\"T_c57e74ee_cf59_11ea_aa9a_afc4bdc4f0b1level0_row23\" class=\"row_heading level0 row23\" >23</th>\n                        <td id=\"T_c57e74ee_cf59_11ea_aa9a_afc4bdc4f0b1row23_col0\" class=\"data row23 col0\" >Combine Rare Levels </td>\n                        <td id=\"T_c57e74ee_cf59_11ea_aa9a_afc4bdc4f0b1row23_col1\" class=\"data row23 col1\" >False</td>\n            </tr>\n            <tr>\n                        <th id=\"T_c57e74ee_cf59_11ea_aa9a_afc4bdc4f0b1level0_row24\" class=\"row_heading level0 row24\" >24</th>\n                        <td id=\"T_c57e74ee_cf59_11ea_aa9a_afc4bdc4f0b1row24_col0\" class=\"data row24 col0\" >Rare Level Threshold </td>\n                        <td id=\"T_c57e74ee_cf59_11ea_aa9a_afc4bdc4f0b1row24_col1\" class=\"data row24 col1\" >None</td>\n            </tr>\n            <tr>\n                        <th id=\"T_c57e74ee_cf59_11ea_aa9a_afc4bdc4f0b1level0_row25\" class=\"row_heading level0 row25\" >25</th>\n                        <td id=\"T_c57e74ee_cf59_11ea_aa9a_afc4bdc4f0b1row25_col0\" class=\"data row25 col0\" >Numeric Binning </td>\n                        <td id=\"T_c57e74ee_cf59_11ea_aa9a_afc4bdc4f0b1row25_col1\" class=\"data row25 col1\" >False</td>\n            </tr>\n            <tr>\n                        <th id=\"T_c57e74ee_cf59_11ea_aa9a_afc4bdc4f0b1level0_row26\" class=\"row_heading level0 row26\" >26</th>\n                        <td id=\"T_c57e74ee_cf59_11ea_aa9a_afc4bdc4f0b1row26_col0\" class=\"data row26 col0\" >Remove Outliers </td>\n                        <td id=\"T_c57e74ee_cf59_11ea_aa9a_afc4bdc4f0b1row26_col1\" class=\"data row26 col1\" >False</td>\n            </tr>\n            <tr>\n                        <th id=\"T_c57e74ee_cf59_11ea_aa9a_afc4bdc4f0b1level0_row27\" class=\"row_heading level0 row27\" >27</th>\n                        <td id=\"T_c57e74ee_cf59_11ea_aa9a_afc4bdc4f0b1row27_col0\" class=\"data row27 col0\" >Outliers Threshold </td>\n                        <td id=\"T_c57e74ee_cf59_11ea_aa9a_afc4bdc4f0b1row27_col1\" class=\"data row27 col1\" >None</td>\n            </tr>\n            <tr>\n                        <th id=\"T_c57e74ee_cf59_11ea_aa9a_afc4bdc4f0b1level0_row28\" class=\"row_heading level0 row28\" >28</th>\n                        <td id=\"T_c57e74ee_cf59_11ea_aa9a_afc4bdc4f0b1row28_col0\" class=\"data row28 col0\" >Remove Multicollinearity </td>\n                        <td id=\"T_c57e74ee_cf59_11ea_aa9a_afc4bdc4f0b1row28_col1\" class=\"data row28 col1\" >False</td>\n            </tr>\n            <tr>\n                        <th id=\"T_c57e74ee_cf59_11ea_aa9a_afc4bdc4f0b1level0_row29\" class=\"row_heading level0 row29\" >29</th>\n                        <td id=\"T_c57e74ee_cf59_11ea_aa9a_afc4bdc4f0b1row29_col0\" class=\"data row29 col0\" >Multicollinearity Threshold </td>\n                        <td id=\"T_c57e74ee_cf59_11ea_aa9a_afc4bdc4f0b1row29_col1\" class=\"data row29 col1\" >None</td>\n            </tr>\n            <tr>\n                        <th id=\"T_c57e74ee_cf59_11ea_aa9a_afc4bdc4f0b1level0_row30\" class=\"row_heading level0 row30\" >30</th>\n                        <td id=\"T_c57e74ee_cf59_11ea_aa9a_afc4bdc4f0b1row30_col0\" class=\"data row30 col0\" >Clustering </td>\n                        <td id=\"T_c57e74ee_cf59_11ea_aa9a_afc4bdc4f0b1row30_col1\" class=\"data row30 col1\" >False</td>\n            </tr>\n            <tr>\n                        <th id=\"T_c57e74ee_cf59_11ea_aa9a_afc4bdc4f0b1level0_row31\" class=\"row_heading level0 row31\" >31</th>\n                        <td id=\"T_c57e74ee_cf59_11ea_aa9a_afc4bdc4f0b1row31_col0\" class=\"data row31 col0\" >Clustering Iteration </td>\n                        <td id=\"T_c57e74ee_cf59_11ea_aa9a_afc4bdc4f0b1row31_col1\" class=\"data row31 col1\" >None</td>\n            </tr>\n            <tr>\n                        <th id=\"T_c57e74ee_cf59_11ea_aa9a_afc4bdc4f0b1level0_row32\" class=\"row_heading level0 row32\" >32</th>\n                        <td id=\"T_c57e74ee_cf59_11ea_aa9a_afc4bdc4f0b1row32_col0\" class=\"data row32 col0\" >Polynomial Features </td>\n                        <td id=\"T_c57e74ee_cf59_11ea_aa9a_afc4bdc4f0b1row32_col1\" class=\"data row32 col1\" >False</td>\n            </tr>\n            <tr>\n                        <th id=\"T_c57e74ee_cf59_11ea_aa9a_afc4bdc4f0b1level0_row33\" class=\"row_heading level0 row33\" >33</th>\n                        <td id=\"T_c57e74ee_cf59_11ea_aa9a_afc4bdc4f0b1row33_col0\" class=\"data row33 col0\" >Polynomial Degree </td>\n                        <td id=\"T_c57e74ee_cf59_11ea_aa9a_afc4bdc4f0b1row33_col1\" class=\"data row33 col1\" >None</td>\n            </tr>\n            <tr>\n                        <th id=\"T_c57e74ee_cf59_11ea_aa9a_afc4bdc4f0b1level0_row34\" class=\"row_heading level0 row34\" >34</th>\n                        <td id=\"T_c57e74ee_cf59_11ea_aa9a_afc4bdc4f0b1row34_col0\" class=\"data row34 col0\" >Trignometry Features </td>\n                        <td id=\"T_c57e74ee_cf59_11ea_aa9a_afc4bdc4f0b1row34_col1\" class=\"data row34 col1\" >False</td>\n            </tr>\n            <tr>\n                        <th id=\"T_c57e74ee_cf59_11ea_aa9a_afc4bdc4f0b1level0_row35\" class=\"row_heading level0 row35\" >35</th>\n                        <td id=\"T_c57e74ee_cf59_11ea_aa9a_afc4bdc4f0b1row35_col0\" class=\"data row35 col0\" >Polynomial Threshold </td>\n                        <td id=\"T_c57e74ee_cf59_11ea_aa9a_afc4bdc4f0b1row35_col1\" class=\"data row35 col1\" >None</td>\n            </tr>\n            <tr>\n                        <th id=\"T_c57e74ee_cf59_11ea_aa9a_afc4bdc4f0b1level0_row36\" class=\"row_heading level0 row36\" >36</th>\n                        <td id=\"T_c57e74ee_cf59_11ea_aa9a_afc4bdc4f0b1row36_col0\" class=\"data row36 col0\" >Group Features </td>\n                        <td id=\"T_c57e74ee_cf59_11ea_aa9a_afc4bdc4f0b1row36_col1\" class=\"data row36 col1\" >False</td>\n            </tr>\n            <tr>\n                        <th id=\"T_c57e74ee_cf59_11ea_aa9a_afc4bdc4f0b1level0_row37\" class=\"row_heading level0 row37\" >37</th>\n                        <td id=\"T_c57e74ee_cf59_11ea_aa9a_afc4bdc4f0b1row37_col0\" class=\"data row37 col0\" >Feature Selection </td>\n                        <td id=\"T_c57e74ee_cf59_11ea_aa9a_afc4bdc4f0b1row37_col1\" class=\"data row37 col1\" >False</td>\n            </tr>\n            <tr>\n                        <th id=\"T_c57e74ee_cf59_11ea_aa9a_afc4bdc4f0b1level0_row38\" class=\"row_heading level0 row38\" >38</th>\n                        <td id=\"T_c57e74ee_cf59_11ea_aa9a_afc4bdc4f0b1row38_col0\" class=\"data row38 col0\" >Features Selection Threshold </td>\n                        <td id=\"T_c57e74ee_cf59_11ea_aa9a_afc4bdc4f0b1row38_col1\" class=\"data row38 col1\" >None</td>\n            </tr>\n            <tr>\n                        <th id=\"T_c57e74ee_cf59_11ea_aa9a_afc4bdc4f0b1level0_row39\" class=\"row_heading level0 row39\" >39</th>\n                        <td id=\"T_c57e74ee_cf59_11ea_aa9a_afc4bdc4f0b1row39_col0\" class=\"data row39 col0\" >Feature Interaction </td>\n                        <td id=\"T_c57e74ee_cf59_11ea_aa9a_afc4bdc4f0b1row39_col1\" class=\"data row39 col1\" >False</td>\n            </tr>\n            <tr>\n                        <th id=\"T_c57e74ee_cf59_11ea_aa9a_afc4bdc4f0b1level0_row40\" class=\"row_heading level0 row40\" >40</th>\n                        <td id=\"T_c57e74ee_cf59_11ea_aa9a_afc4bdc4f0b1row40_col0\" class=\"data row40 col0\" >Feature Ratio </td>\n                        <td id=\"T_c57e74ee_cf59_11ea_aa9a_afc4bdc4f0b1row40_col1\" class=\"data row40 col1\" >False</td>\n            </tr>\n            <tr>\n                        <th id=\"T_c57e74ee_cf59_11ea_aa9a_afc4bdc4f0b1level0_row41\" class=\"row_heading level0 row41\" >41</th>\n                        <td id=\"T_c57e74ee_cf59_11ea_aa9a_afc4bdc4f0b1row41_col0\" class=\"data row41 col0\" >Interaction Threshold </td>\n                        <td id=\"T_c57e74ee_cf59_11ea_aa9a_afc4bdc4f0b1row41_col1\" class=\"data row41 col1\" >None</td>\n            </tr>\n    </tbody></table>"
     },
     "metadata": {}
    }
   ],
   "source": [
    "# import all regression model and setup\n",
    "from pycaret.regression import *\n",
    "reg = setup(data=boston_df, target='medv')"
   ]
  },
  {
   "cell_type": "code",
   "execution_count": 11,
   "metadata": {},
   "outputs": [
    {
     "output_type": "execute_result",
     "data": {
      "text/plain": "<pandas.io.formats.style.Styler at 0x2a3d8d88>",
      "text/html": "<style  type=\"text/css\" >\n    #T_20d4d62e_cf5a_11ea_9f4a_afc4bdc4f0b1 th {\n          text-align: left;\n    }    #T_20d4d62e_cf5a_11ea_9f4a_afc4bdc4f0b1row0_col0 {\n            text-align:  left;\n        }    #T_20d4d62e_cf5a_11ea_9f4a_afc4bdc4f0b1row0_col1 {\n            : ;\n            text-align:  left;\n        }    #T_20d4d62e_cf5a_11ea_9f4a_afc4bdc4f0b1row0_col2 {\n            background-color:  yellow;\n            text-align:  left;\n        }    #T_20d4d62e_cf5a_11ea_9f4a_afc4bdc4f0b1row0_col3 {\n            : ;\n            text-align:  left;\n        }    #T_20d4d62e_cf5a_11ea_9f4a_afc4bdc4f0b1row0_col4 {\n            text-align:  left;\n        }    #T_20d4d62e_cf5a_11ea_9f4a_afc4bdc4f0b1row0_col5 {\n            : ;\n            text-align:  left;\n        }    #T_20d4d62e_cf5a_11ea_9f4a_afc4bdc4f0b1row0_col6 {\n            : ;\n            text-align:  left;\n        }    #T_20d4d62e_cf5a_11ea_9f4a_afc4bdc4f0b1row1_col0 {\n            text-align:  left;\n        }    #T_20d4d62e_cf5a_11ea_9f4a_afc4bdc4f0b1row1_col1 {\n            background-color:  yellow;\n            text-align:  left;\n        }    #T_20d4d62e_cf5a_11ea_9f4a_afc4bdc4f0b1row1_col2 {\n            : ;\n            text-align:  left;\n        }    #T_20d4d62e_cf5a_11ea_9f4a_afc4bdc4f0b1row1_col3 {\n            background-color:  yellow;\n            text-align:  left;\n        }    #T_20d4d62e_cf5a_11ea_9f4a_afc4bdc4f0b1row1_col4 {\n            text-align:  left;\n        }    #T_20d4d62e_cf5a_11ea_9f4a_afc4bdc4f0b1row1_col5 {\n            background-color:  yellow;\n            text-align:  left;\n        }    #T_20d4d62e_cf5a_11ea_9f4a_afc4bdc4f0b1row1_col6 {\n            background-color:  yellow;\n            text-align:  left;\n        }    #T_20d4d62e_cf5a_11ea_9f4a_afc4bdc4f0b1row2_col0 {\n            text-align:  left;\n        }    #T_20d4d62e_cf5a_11ea_9f4a_afc4bdc4f0b1row2_col1 {\n            : ;\n            text-align:  left;\n        }    #T_20d4d62e_cf5a_11ea_9f4a_afc4bdc4f0b1row2_col2 {\n            : ;\n            text-align:  left;\n        }    #T_20d4d62e_cf5a_11ea_9f4a_afc4bdc4f0b1row2_col3 {\n            : ;\n            text-align:  left;\n        }    #T_20d4d62e_cf5a_11ea_9f4a_afc4bdc4f0b1row2_col4 {\n            text-align:  left;\n        }    #T_20d4d62e_cf5a_11ea_9f4a_afc4bdc4f0b1row2_col5 {\n            : ;\n            text-align:  left;\n        }    #T_20d4d62e_cf5a_11ea_9f4a_afc4bdc4f0b1row2_col6 {\n            : ;\n            text-align:  left;\n        }    #T_20d4d62e_cf5a_11ea_9f4a_afc4bdc4f0b1row3_col0 {\n            text-align:  left;\n        }    #T_20d4d62e_cf5a_11ea_9f4a_afc4bdc4f0b1row3_col1 {\n            : ;\n            text-align:  left;\n        }    #T_20d4d62e_cf5a_11ea_9f4a_afc4bdc4f0b1row3_col2 {\n            : ;\n            text-align:  left;\n        }    #T_20d4d62e_cf5a_11ea_9f4a_afc4bdc4f0b1row3_col3 {\n            : ;\n            text-align:  left;\n        }    #T_20d4d62e_cf5a_11ea_9f4a_afc4bdc4f0b1row3_col4 {\n            text-align:  left;\n        }    #T_20d4d62e_cf5a_11ea_9f4a_afc4bdc4f0b1row3_col5 {\n            : ;\n            text-align:  left;\n        }    #T_20d4d62e_cf5a_11ea_9f4a_afc4bdc4f0b1row3_col6 {\n            : ;\n            text-align:  left;\n        }    #T_20d4d62e_cf5a_11ea_9f4a_afc4bdc4f0b1row4_col0 {\n            text-align:  left;\n        }    #T_20d4d62e_cf5a_11ea_9f4a_afc4bdc4f0b1row4_col1 {\n            : ;\n            text-align:  left;\n        }    #T_20d4d62e_cf5a_11ea_9f4a_afc4bdc4f0b1row4_col2 {\n            : ;\n            text-align:  left;\n        }    #T_20d4d62e_cf5a_11ea_9f4a_afc4bdc4f0b1row4_col3 {\n            : ;\n            text-align:  left;\n        }    #T_20d4d62e_cf5a_11ea_9f4a_afc4bdc4f0b1row4_col4 {\n            text-align:  left;\n        }    #T_20d4d62e_cf5a_11ea_9f4a_afc4bdc4f0b1row4_col5 {\n            : ;\n            text-align:  left;\n        }    #T_20d4d62e_cf5a_11ea_9f4a_afc4bdc4f0b1row4_col6 {\n            : ;\n            text-align:  left;\n        }    #T_20d4d62e_cf5a_11ea_9f4a_afc4bdc4f0b1row5_col0 {\n            text-align:  left;\n        }    #T_20d4d62e_cf5a_11ea_9f4a_afc4bdc4f0b1row5_col1 {\n            : ;\n            text-align:  left;\n        }    #T_20d4d62e_cf5a_11ea_9f4a_afc4bdc4f0b1row5_col2 {\n            : ;\n            text-align:  left;\n        }    #T_20d4d62e_cf5a_11ea_9f4a_afc4bdc4f0b1row5_col3 {\n            : ;\n            text-align:  left;\n        }    #T_20d4d62e_cf5a_11ea_9f4a_afc4bdc4f0b1row5_col4 {\n            text-align:  left;\n        }    #T_20d4d62e_cf5a_11ea_9f4a_afc4bdc4f0b1row5_col5 {\n            : ;\n            text-align:  left;\n        }    #T_20d4d62e_cf5a_11ea_9f4a_afc4bdc4f0b1row5_col6 {\n            : ;\n            text-align:  left;\n        }    #T_20d4d62e_cf5a_11ea_9f4a_afc4bdc4f0b1row6_col0 {\n            text-align:  left;\n        }    #T_20d4d62e_cf5a_11ea_9f4a_afc4bdc4f0b1row6_col1 {\n            : ;\n            text-align:  left;\n        }    #T_20d4d62e_cf5a_11ea_9f4a_afc4bdc4f0b1row6_col2 {\n            : ;\n            text-align:  left;\n        }    #T_20d4d62e_cf5a_11ea_9f4a_afc4bdc4f0b1row6_col3 {\n            : ;\n            text-align:  left;\n        }    #T_20d4d62e_cf5a_11ea_9f4a_afc4bdc4f0b1row6_col4 {\n            text-align:  left;\n        }    #T_20d4d62e_cf5a_11ea_9f4a_afc4bdc4f0b1row6_col5 {\n            : ;\n            text-align:  left;\n        }    #T_20d4d62e_cf5a_11ea_9f4a_afc4bdc4f0b1row6_col6 {\n            : ;\n            text-align:  left;\n        }    #T_20d4d62e_cf5a_11ea_9f4a_afc4bdc4f0b1row7_col0 {\n            text-align:  left;\n        }    #T_20d4d62e_cf5a_11ea_9f4a_afc4bdc4f0b1row7_col1 {\n            : ;\n            text-align:  left;\n        }    #T_20d4d62e_cf5a_11ea_9f4a_afc4bdc4f0b1row7_col2 {\n            : ;\n            text-align:  left;\n        }    #T_20d4d62e_cf5a_11ea_9f4a_afc4bdc4f0b1row7_col3 {\n            : ;\n            text-align:  left;\n        }    #T_20d4d62e_cf5a_11ea_9f4a_afc4bdc4f0b1row7_col4 {\n            text-align:  left;\n        }    #T_20d4d62e_cf5a_11ea_9f4a_afc4bdc4f0b1row7_col5 {\n            : ;\n            text-align:  left;\n        }    #T_20d4d62e_cf5a_11ea_9f4a_afc4bdc4f0b1row7_col6 {\n            : ;\n            text-align:  left;\n        }    #T_20d4d62e_cf5a_11ea_9f4a_afc4bdc4f0b1row8_col0 {\n            text-align:  left;\n        }    #T_20d4d62e_cf5a_11ea_9f4a_afc4bdc4f0b1row8_col1 {\n            : ;\n            text-align:  left;\n        }    #T_20d4d62e_cf5a_11ea_9f4a_afc4bdc4f0b1row8_col2 {\n            : ;\n            text-align:  left;\n        }    #T_20d4d62e_cf5a_11ea_9f4a_afc4bdc4f0b1row8_col3 {\n            : ;\n            text-align:  left;\n        }    #T_20d4d62e_cf5a_11ea_9f4a_afc4bdc4f0b1row8_col4 {\n            text-align:  left;\n        }    #T_20d4d62e_cf5a_11ea_9f4a_afc4bdc4f0b1row8_col5 {\n            : ;\n            text-align:  left;\n        }    #T_20d4d62e_cf5a_11ea_9f4a_afc4bdc4f0b1row8_col6 {\n            : ;\n            text-align:  left;\n        }    #T_20d4d62e_cf5a_11ea_9f4a_afc4bdc4f0b1row9_col0 {\n            text-align:  left;\n        }    #T_20d4d62e_cf5a_11ea_9f4a_afc4bdc4f0b1row9_col1 {\n            : ;\n            text-align:  left;\n        }    #T_20d4d62e_cf5a_11ea_9f4a_afc4bdc4f0b1row9_col2 {\n            : ;\n            text-align:  left;\n        }    #T_20d4d62e_cf5a_11ea_9f4a_afc4bdc4f0b1row9_col3 {\n            : ;\n            text-align:  left;\n        }    #T_20d4d62e_cf5a_11ea_9f4a_afc4bdc4f0b1row9_col4 {\n            text-align:  left;\n        }    #T_20d4d62e_cf5a_11ea_9f4a_afc4bdc4f0b1row9_col5 {\n            : ;\n            text-align:  left;\n        }    #T_20d4d62e_cf5a_11ea_9f4a_afc4bdc4f0b1row9_col6 {\n            : ;\n            text-align:  left;\n        }    #T_20d4d62e_cf5a_11ea_9f4a_afc4bdc4f0b1row10_col0 {\n            text-align:  left;\n        }    #T_20d4d62e_cf5a_11ea_9f4a_afc4bdc4f0b1row10_col1 {\n            : ;\n            text-align:  left;\n        }    #T_20d4d62e_cf5a_11ea_9f4a_afc4bdc4f0b1row10_col2 {\n            : ;\n            text-align:  left;\n        }    #T_20d4d62e_cf5a_11ea_9f4a_afc4bdc4f0b1row10_col3 {\n            : ;\n            text-align:  left;\n        }    #T_20d4d62e_cf5a_11ea_9f4a_afc4bdc4f0b1row10_col4 {\n            text-align:  left;\n        }    #T_20d4d62e_cf5a_11ea_9f4a_afc4bdc4f0b1row10_col5 {\n            : ;\n            text-align:  left;\n        }    #T_20d4d62e_cf5a_11ea_9f4a_afc4bdc4f0b1row10_col6 {\n            : ;\n            text-align:  left;\n        }    #T_20d4d62e_cf5a_11ea_9f4a_afc4bdc4f0b1row11_col0 {\n            text-align:  left;\n        }    #T_20d4d62e_cf5a_11ea_9f4a_afc4bdc4f0b1row11_col1 {\n            : ;\n            text-align:  left;\n        }    #T_20d4d62e_cf5a_11ea_9f4a_afc4bdc4f0b1row11_col2 {\n            : ;\n            text-align:  left;\n        }    #T_20d4d62e_cf5a_11ea_9f4a_afc4bdc4f0b1row11_col3 {\n            : ;\n            text-align:  left;\n        }    #T_20d4d62e_cf5a_11ea_9f4a_afc4bdc4f0b1row11_col4 {\n            text-align:  left;\n        }    #T_20d4d62e_cf5a_11ea_9f4a_afc4bdc4f0b1row11_col5 {\n            : ;\n            text-align:  left;\n        }    #T_20d4d62e_cf5a_11ea_9f4a_afc4bdc4f0b1row11_col6 {\n            : ;\n            text-align:  left;\n        }    #T_20d4d62e_cf5a_11ea_9f4a_afc4bdc4f0b1row12_col0 {\n            text-align:  left;\n        }    #T_20d4d62e_cf5a_11ea_9f4a_afc4bdc4f0b1row12_col1 {\n            : ;\n            text-align:  left;\n        }    #T_20d4d62e_cf5a_11ea_9f4a_afc4bdc4f0b1row12_col2 {\n            : ;\n            text-align:  left;\n        }    #T_20d4d62e_cf5a_11ea_9f4a_afc4bdc4f0b1row12_col3 {\n            : ;\n            text-align:  left;\n        }    #T_20d4d62e_cf5a_11ea_9f4a_afc4bdc4f0b1row12_col4 {\n            text-align:  left;\n        }    #T_20d4d62e_cf5a_11ea_9f4a_afc4bdc4f0b1row12_col5 {\n            : ;\n            text-align:  left;\n        }    #T_20d4d62e_cf5a_11ea_9f4a_afc4bdc4f0b1row12_col6 {\n            : ;\n            text-align:  left;\n        }    #T_20d4d62e_cf5a_11ea_9f4a_afc4bdc4f0b1row13_col0 {\n            text-align:  left;\n        }    #T_20d4d62e_cf5a_11ea_9f4a_afc4bdc4f0b1row13_col1 {\n            : ;\n            text-align:  left;\n        }    #T_20d4d62e_cf5a_11ea_9f4a_afc4bdc4f0b1row13_col2 {\n            : ;\n            text-align:  left;\n        }    #T_20d4d62e_cf5a_11ea_9f4a_afc4bdc4f0b1row13_col3 {\n            : ;\n            text-align:  left;\n        }    #T_20d4d62e_cf5a_11ea_9f4a_afc4bdc4f0b1row13_col4 {\n            text-align:  left;\n        }    #T_20d4d62e_cf5a_11ea_9f4a_afc4bdc4f0b1row13_col5 {\n            : ;\n            text-align:  left;\n        }    #T_20d4d62e_cf5a_11ea_9f4a_afc4bdc4f0b1row13_col6 {\n            : ;\n            text-align:  left;\n        }    #T_20d4d62e_cf5a_11ea_9f4a_afc4bdc4f0b1row14_col0 {\n            text-align:  left;\n        }    #T_20d4d62e_cf5a_11ea_9f4a_afc4bdc4f0b1row14_col1 {\n            : ;\n            text-align:  left;\n        }    #T_20d4d62e_cf5a_11ea_9f4a_afc4bdc4f0b1row14_col2 {\n            : ;\n            text-align:  left;\n        }    #T_20d4d62e_cf5a_11ea_9f4a_afc4bdc4f0b1row14_col3 {\n            : ;\n            text-align:  left;\n        }    #T_20d4d62e_cf5a_11ea_9f4a_afc4bdc4f0b1row14_col4 {\n            text-align:  left;\n        }    #T_20d4d62e_cf5a_11ea_9f4a_afc4bdc4f0b1row14_col5 {\n            : ;\n            text-align:  left;\n        }    #T_20d4d62e_cf5a_11ea_9f4a_afc4bdc4f0b1row14_col6 {\n            : ;\n            text-align:  left;\n        }    #T_20d4d62e_cf5a_11ea_9f4a_afc4bdc4f0b1row15_col0 {\n            text-align:  left;\n        }    #T_20d4d62e_cf5a_11ea_9f4a_afc4bdc4f0b1row15_col1 {\n            : ;\n            text-align:  left;\n        }    #T_20d4d62e_cf5a_11ea_9f4a_afc4bdc4f0b1row15_col2 {\n            : ;\n            text-align:  left;\n        }    #T_20d4d62e_cf5a_11ea_9f4a_afc4bdc4f0b1row15_col3 {\n            : ;\n            text-align:  left;\n        }    #T_20d4d62e_cf5a_11ea_9f4a_afc4bdc4f0b1row15_col4 {\n            text-align:  left;\n        }    #T_20d4d62e_cf5a_11ea_9f4a_afc4bdc4f0b1row15_col5 {\n            : ;\n            text-align:  left;\n        }    #T_20d4d62e_cf5a_11ea_9f4a_afc4bdc4f0b1row15_col6 {\n            : ;\n            text-align:  left;\n        }    #T_20d4d62e_cf5a_11ea_9f4a_afc4bdc4f0b1row16_col0 {\n            text-align:  left;\n        }    #T_20d4d62e_cf5a_11ea_9f4a_afc4bdc4f0b1row16_col1 {\n            : ;\n            text-align:  left;\n        }    #T_20d4d62e_cf5a_11ea_9f4a_afc4bdc4f0b1row16_col2 {\n            : ;\n            text-align:  left;\n        }    #T_20d4d62e_cf5a_11ea_9f4a_afc4bdc4f0b1row16_col3 {\n            : ;\n            text-align:  left;\n        }    #T_20d4d62e_cf5a_11ea_9f4a_afc4bdc4f0b1row16_col4 {\n            text-align:  left;\n        }    #T_20d4d62e_cf5a_11ea_9f4a_afc4bdc4f0b1row16_col5 {\n            : ;\n            text-align:  left;\n        }    #T_20d4d62e_cf5a_11ea_9f4a_afc4bdc4f0b1row16_col6 {\n            : ;\n            text-align:  left;\n        }    #T_20d4d62e_cf5a_11ea_9f4a_afc4bdc4f0b1row17_col0 {\n            text-align:  left;\n        }    #T_20d4d62e_cf5a_11ea_9f4a_afc4bdc4f0b1row17_col1 {\n            : ;\n            text-align:  left;\n        }    #T_20d4d62e_cf5a_11ea_9f4a_afc4bdc4f0b1row17_col2 {\n            : ;\n            text-align:  left;\n        }    #T_20d4d62e_cf5a_11ea_9f4a_afc4bdc4f0b1row17_col3 {\n            : ;\n            text-align:  left;\n        }    #T_20d4d62e_cf5a_11ea_9f4a_afc4bdc4f0b1row17_col4 {\n            text-align:  left;\n        }    #T_20d4d62e_cf5a_11ea_9f4a_afc4bdc4f0b1row17_col5 {\n            : ;\n            text-align:  left;\n        }    #T_20d4d62e_cf5a_11ea_9f4a_afc4bdc4f0b1row17_col6 {\n            : ;\n            text-align:  left;\n        }    #T_20d4d62e_cf5a_11ea_9f4a_afc4bdc4f0b1row18_col0 {\n            text-align:  left;\n        }    #T_20d4d62e_cf5a_11ea_9f4a_afc4bdc4f0b1row18_col1 {\n            : ;\n            text-align:  left;\n        }    #T_20d4d62e_cf5a_11ea_9f4a_afc4bdc4f0b1row18_col2 {\n            : ;\n            text-align:  left;\n        }    #T_20d4d62e_cf5a_11ea_9f4a_afc4bdc4f0b1row18_col3 {\n            : ;\n            text-align:  left;\n        }    #T_20d4d62e_cf5a_11ea_9f4a_afc4bdc4f0b1row18_col4 {\n            text-align:  left;\n        }    #T_20d4d62e_cf5a_11ea_9f4a_afc4bdc4f0b1row18_col5 {\n            : ;\n            text-align:  left;\n        }    #T_20d4d62e_cf5a_11ea_9f4a_afc4bdc4f0b1row18_col6 {\n            : ;\n            text-align:  left;\n        }    #T_20d4d62e_cf5a_11ea_9f4a_afc4bdc4f0b1row19_col0 {\n            text-align:  left;\n        }    #T_20d4d62e_cf5a_11ea_9f4a_afc4bdc4f0b1row19_col1 {\n            : ;\n            text-align:  left;\n        }    #T_20d4d62e_cf5a_11ea_9f4a_afc4bdc4f0b1row19_col2 {\n            : ;\n            text-align:  left;\n        }    #T_20d4d62e_cf5a_11ea_9f4a_afc4bdc4f0b1row19_col3 {\n            : ;\n            text-align:  left;\n        }    #T_20d4d62e_cf5a_11ea_9f4a_afc4bdc4f0b1row19_col4 {\n            text-align:  left;\n        }    #T_20d4d62e_cf5a_11ea_9f4a_afc4bdc4f0b1row19_col5 {\n            : ;\n            text-align:  left;\n        }    #T_20d4d62e_cf5a_11ea_9f4a_afc4bdc4f0b1row19_col6 {\n            : ;\n            text-align:  left;\n        }    #T_20d4d62e_cf5a_11ea_9f4a_afc4bdc4f0b1row20_col0 {\n            text-align:  left;\n        }    #T_20d4d62e_cf5a_11ea_9f4a_afc4bdc4f0b1row20_col1 {\n            : ;\n            text-align:  left;\n        }    #T_20d4d62e_cf5a_11ea_9f4a_afc4bdc4f0b1row20_col2 {\n            : ;\n            text-align:  left;\n        }    #T_20d4d62e_cf5a_11ea_9f4a_afc4bdc4f0b1row20_col3 {\n            : ;\n            text-align:  left;\n        }    #T_20d4d62e_cf5a_11ea_9f4a_afc4bdc4f0b1row20_col4 {\n            text-align:  left;\n        }    #T_20d4d62e_cf5a_11ea_9f4a_afc4bdc4f0b1row20_col5 {\n            : ;\n            text-align:  left;\n        }    #T_20d4d62e_cf5a_11ea_9f4a_afc4bdc4f0b1row20_col6 {\n            : ;\n            text-align:  left;\n        }    #T_20d4d62e_cf5a_11ea_9f4a_afc4bdc4f0b1row21_col0 {\n            text-align:  left;\n        }    #T_20d4d62e_cf5a_11ea_9f4a_afc4bdc4f0b1row21_col1 {\n            : ;\n            text-align:  left;\n        }    #T_20d4d62e_cf5a_11ea_9f4a_afc4bdc4f0b1row21_col2 {\n            : ;\n            text-align:  left;\n        }    #T_20d4d62e_cf5a_11ea_9f4a_afc4bdc4f0b1row21_col3 {\n            : ;\n            text-align:  left;\n        }    #T_20d4d62e_cf5a_11ea_9f4a_afc4bdc4f0b1row21_col4 {\n            text-align:  left;\n        }    #T_20d4d62e_cf5a_11ea_9f4a_afc4bdc4f0b1row21_col5 {\n            : ;\n            text-align:  left;\n        }    #T_20d4d62e_cf5a_11ea_9f4a_afc4bdc4f0b1row21_col6 {\n            : ;\n            text-align:  left;\n        }</style><table id=\"T_20d4d62e_cf5a_11ea_9f4a_afc4bdc4f0b1\" ><thead>    <tr>        <th class=\"blank level0\" ></th>        <th class=\"col_heading level0 col0\" >Model</th>        <th class=\"col_heading level0 col1\" >MAE</th>        <th class=\"col_heading level0 col2\" >MSE</th>        <th class=\"col_heading level0 col3\" >RMSE</th>        <th class=\"col_heading level0 col4\" >R2</th>        <th class=\"col_heading level0 col5\" >RMSLE</th>        <th class=\"col_heading level0 col6\" >MAPE</th>    </tr></thead><tbody>\n                <tr>\n                        <th id=\"T_20d4d62e_cf5a_11ea_9f4a_afc4bdc4f0b1level0_row0\" class=\"row_heading level0 row0\" >0</th>\n                        <td id=\"T_20d4d62e_cf5a_11ea_9f4a_afc4bdc4f0b1row0_col0\" class=\"data row0 col0\" >Gradient Boosting Regressor</td>\n                        <td id=\"T_20d4d62e_cf5a_11ea_9f4a_afc4bdc4f0b1row0_col1\" class=\"data row0 col1\" >2.173900</td>\n                        <td id=\"T_20d4d62e_cf5a_11ea_9f4a_afc4bdc4f0b1row0_col2\" class=\"data row0 col2\" >10.131600</td>\n                        <td id=\"T_20d4d62e_cf5a_11ea_9f4a_afc4bdc4f0b1row0_col3\" class=\"data row0 col3\" >3.024700</td>\n                        <td id=\"T_20d4d62e_cf5a_11ea_9f4a_afc4bdc4f0b1row0_col4\" class=\"data row0 col4\" >0.879600</td>\n                        <td id=\"T_20d4d62e_cf5a_11ea_9f4a_afc4bdc4f0b1row0_col5\" class=\"data row0 col5\" >0.137000</td>\n                        <td id=\"T_20d4d62e_cf5a_11ea_9f4a_afc4bdc4f0b1row0_col6\" class=\"data row0 col6\" >0.110100</td>\n            </tr>\n            <tr>\n                        <th id=\"T_20d4d62e_cf5a_11ea_9f4a_afc4bdc4f0b1level0_row1\" class=\"row_heading level0 row1\" >1</th>\n                        <td id=\"T_20d4d62e_cf5a_11ea_9f4a_afc4bdc4f0b1row1_col0\" class=\"data row1 col0\" >CatBoost Regressor</td>\n                        <td id=\"T_20d4d62e_cf5a_11ea_9f4a_afc4bdc4f0b1row1_col1\" class=\"data row1 col1\" >2.110900</td>\n                        <td id=\"T_20d4d62e_cf5a_11ea_9f4a_afc4bdc4f0b1row1_col2\" class=\"data row1 col2\" >10.137600</td>\n                        <td id=\"T_20d4d62e_cf5a_11ea_9f4a_afc4bdc4f0b1row1_col3\" class=\"data row1 col3\" >3.021000</td>\n                        <td id=\"T_20d4d62e_cf5a_11ea_9f4a_afc4bdc4f0b1row1_col4\" class=\"data row1 col4\" >0.872600</td>\n                        <td id=\"T_20d4d62e_cf5a_11ea_9f4a_afc4bdc4f0b1row1_col5\" class=\"data row1 col5\" >0.130400</td>\n                        <td id=\"T_20d4d62e_cf5a_11ea_9f4a_afc4bdc4f0b1row1_col6\" class=\"data row1 col6\" >0.102800</td>\n            </tr>\n            <tr>\n                        <th id=\"T_20d4d62e_cf5a_11ea_9f4a_afc4bdc4f0b1level0_row2\" class=\"row_heading level0 row2\" >2</th>\n                        <td id=\"T_20d4d62e_cf5a_11ea_9f4a_afc4bdc4f0b1row2_col0\" class=\"data row2 col0\" >Random Forest</td>\n                        <td id=\"T_20d4d62e_cf5a_11ea_9f4a_afc4bdc4f0b1row2_col1\" class=\"data row2 col1\" >2.298300</td>\n                        <td id=\"T_20d4d62e_cf5a_11ea_9f4a_afc4bdc4f0b1row2_col2\" class=\"data row2 col2\" >11.429500</td>\n                        <td id=\"T_20d4d62e_cf5a_11ea_9f4a_afc4bdc4f0b1row2_col3\" class=\"data row2 col3\" >3.237200</td>\n                        <td id=\"T_20d4d62e_cf5a_11ea_9f4a_afc4bdc4f0b1row2_col4\" class=\"data row2 col4\" >0.859700</td>\n                        <td id=\"T_20d4d62e_cf5a_11ea_9f4a_afc4bdc4f0b1row2_col5\" class=\"data row2 col5\" >0.144400</td>\n                        <td id=\"T_20d4d62e_cf5a_11ea_9f4a_afc4bdc4f0b1row2_col6\" class=\"data row2 col6\" >0.115300</td>\n            </tr>\n            <tr>\n                        <th id=\"T_20d4d62e_cf5a_11ea_9f4a_afc4bdc4f0b1level0_row3\" class=\"row_heading level0 row3\" >3</th>\n                        <td id=\"T_20d4d62e_cf5a_11ea_9f4a_afc4bdc4f0b1row3_col0\" class=\"data row3 col0\" >Extreme Gradient Boosting</td>\n                        <td id=\"T_20d4d62e_cf5a_11ea_9f4a_afc4bdc4f0b1row3_col1\" class=\"data row3 col1\" >2.272500</td>\n                        <td id=\"T_20d4d62e_cf5a_11ea_9f4a_afc4bdc4f0b1row3_col2\" class=\"data row3 col2\" >11.545800</td>\n                        <td id=\"T_20d4d62e_cf5a_11ea_9f4a_afc4bdc4f0b1row3_col3\" class=\"data row3 col3\" >3.170500</td>\n                        <td id=\"T_20d4d62e_cf5a_11ea_9f4a_afc4bdc4f0b1row3_col4\" class=\"data row3 col4\" >0.859600</td>\n                        <td id=\"T_20d4d62e_cf5a_11ea_9f4a_afc4bdc4f0b1row3_col5\" class=\"data row3 col5\" >0.141000</td>\n                        <td id=\"T_20d4d62e_cf5a_11ea_9f4a_afc4bdc4f0b1row3_col6\" class=\"data row3 col6\" >0.112600</td>\n            </tr>\n            <tr>\n                        <th id=\"T_20d4d62e_cf5a_11ea_9f4a_afc4bdc4f0b1level0_row4\" class=\"row_heading level0 row4\" >4</th>\n                        <td id=\"T_20d4d62e_cf5a_11ea_9f4a_afc4bdc4f0b1row4_col0\" class=\"data row4 col0\" >Extra Trees Regressor</td>\n                        <td id=\"T_20d4d62e_cf5a_11ea_9f4a_afc4bdc4f0b1row4_col1\" class=\"data row4 col1\" >2.215000</td>\n                        <td id=\"T_20d4d62e_cf5a_11ea_9f4a_afc4bdc4f0b1row4_col2\" class=\"data row4 col2\" >11.306000</td>\n                        <td id=\"T_20d4d62e_cf5a_11ea_9f4a_afc4bdc4f0b1row4_col3\" class=\"data row4 col3\" >3.193200</td>\n                        <td id=\"T_20d4d62e_cf5a_11ea_9f4a_afc4bdc4f0b1row4_col4\" class=\"data row4 col4\" >0.858600</td>\n                        <td id=\"T_20d4d62e_cf5a_11ea_9f4a_afc4bdc4f0b1row4_col5\" class=\"data row4 col5\" >0.136300</td>\n                        <td id=\"T_20d4d62e_cf5a_11ea_9f4a_afc4bdc4f0b1row4_col6\" class=\"data row4 col6\" >0.108100</td>\n            </tr>\n            <tr>\n                        <th id=\"T_20d4d62e_cf5a_11ea_9f4a_afc4bdc4f0b1level0_row5\" class=\"row_heading level0 row5\" >5</th>\n                        <td id=\"T_20d4d62e_cf5a_11ea_9f4a_afc4bdc4f0b1row5_col0\" class=\"data row5 col0\" >Light Gradient Boosting Machine</td>\n                        <td id=\"T_20d4d62e_cf5a_11ea_9f4a_afc4bdc4f0b1row5_col1\" class=\"data row5 col1\" >2.353900</td>\n                        <td id=\"T_20d4d62e_cf5a_11ea_9f4a_afc4bdc4f0b1row5_col2\" class=\"data row5 col2\" >13.462800</td>\n                        <td id=\"T_20d4d62e_cf5a_11ea_9f4a_afc4bdc4f0b1row5_col3\" class=\"data row5 col3\" >3.412700</td>\n                        <td id=\"T_20d4d62e_cf5a_11ea_9f4a_afc4bdc4f0b1row5_col4\" class=\"data row5 col4\" >0.832900</td>\n                        <td id=\"T_20d4d62e_cf5a_11ea_9f4a_afc4bdc4f0b1row5_col5\" class=\"data row5 col5\" >0.144100</td>\n                        <td id=\"T_20d4d62e_cf5a_11ea_9f4a_afc4bdc4f0b1row5_col6\" class=\"data row5 col6\" >0.115500</td>\n            </tr>\n            <tr>\n                        <th id=\"T_20d4d62e_cf5a_11ea_9f4a_afc4bdc4f0b1level0_row6\" class=\"row_heading level0 row6\" >6</th>\n                        <td id=\"T_20d4d62e_cf5a_11ea_9f4a_afc4bdc4f0b1row6_col0\" class=\"data row6 col0\" >AdaBoost Regressor</td>\n                        <td id=\"T_20d4d62e_cf5a_11ea_9f4a_afc4bdc4f0b1row6_col1\" class=\"data row6 col1\" >2.799200</td>\n                        <td id=\"T_20d4d62e_cf5a_11ea_9f4a_afc4bdc4f0b1row6_col2\" class=\"data row6 col2\" >15.410500</td>\n                        <td id=\"T_20d4d62e_cf5a_11ea_9f4a_afc4bdc4f0b1row6_col3\" class=\"data row6 col3\" >3.738500</td>\n                        <td id=\"T_20d4d62e_cf5a_11ea_9f4a_afc4bdc4f0b1row6_col4\" class=\"data row6 col4\" >0.810100</td>\n                        <td id=\"T_20d4d62e_cf5a_11ea_9f4a_afc4bdc4f0b1row6_col5\" class=\"data row6 col5\" >0.180400</td>\n                        <td id=\"T_20d4d62e_cf5a_11ea_9f4a_afc4bdc4f0b1row6_col6\" class=\"data row6 col6\" >0.149900</td>\n            </tr>\n            <tr>\n                        <th id=\"T_20d4d62e_cf5a_11ea_9f4a_afc4bdc4f0b1level0_row7\" class=\"row_heading level0 row7\" >7</th>\n                        <td id=\"T_20d4d62e_cf5a_11ea_9f4a_afc4bdc4f0b1row7_col0\" class=\"data row7 col0\" >Decision Tree</td>\n                        <td id=\"T_20d4d62e_cf5a_11ea_9f4a_afc4bdc4f0b1row7_col1\" class=\"data row7 col1\" >3.352200</td>\n                        <td id=\"T_20d4d62e_cf5a_11ea_9f4a_afc4bdc4f0b1row7_col2\" class=\"data row7 col2\" >23.174000</td>\n                        <td id=\"T_20d4d62e_cf5a_11ea_9f4a_afc4bdc4f0b1row7_col3\" class=\"data row7 col3\" >4.697100</td>\n                        <td id=\"T_20d4d62e_cf5a_11ea_9f4a_afc4bdc4f0b1row7_col4\" class=\"data row7 col4\" >0.705000</td>\n                        <td id=\"T_20d4d62e_cf5a_11ea_9f4a_afc4bdc4f0b1row7_col5\" class=\"data row7 col5\" >0.206900</td>\n                        <td id=\"T_20d4d62e_cf5a_11ea_9f4a_afc4bdc4f0b1row7_col6\" class=\"data row7 col6\" >0.167300</td>\n            </tr>\n            <tr>\n                        <th id=\"T_20d4d62e_cf5a_11ea_9f4a_afc4bdc4f0b1level0_row8\" class=\"row_heading level0 row8\" >8</th>\n                        <td id=\"T_20d4d62e_cf5a_11ea_9f4a_afc4bdc4f0b1row8_col0\" class=\"data row8 col0\" >Linear Regression</td>\n                        <td id=\"T_20d4d62e_cf5a_11ea_9f4a_afc4bdc4f0b1row8_col1\" class=\"data row8 col1\" >3.429800</td>\n                        <td id=\"T_20d4d62e_cf5a_11ea_9f4a_afc4bdc4f0b1row8_col2\" class=\"data row8 col2\" >24.810800</td>\n                        <td id=\"T_20d4d62e_cf5a_11ea_9f4a_afc4bdc4f0b1row8_col3\" class=\"data row8 col3\" >4.813400</td>\n                        <td id=\"T_20d4d62e_cf5a_11ea_9f4a_afc4bdc4f0b1row8_col4\" class=\"data row8 col4\" >0.680700</td>\n                        <td id=\"T_20d4d62e_cf5a_11ea_9f4a_afc4bdc4f0b1row8_col5\" class=\"data row8 col5\" >0.253500</td>\n                        <td id=\"T_20d4d62e_cf5a_11ea_9f4a_afc4bdc4f0b1row8_col6\" class=\"data row8 col6\" >0.168000</td>\n            </tr>\n            <tr>\n                        <th id=\"T_20d4d62e_cf5a_11ea_9f4a_afc4bdc4f0b1level0_row9\" class=\"row_heading level0 row9\" >9</th>\n                        <td id=\"T_20d4d62e_cf5a_11ea_9f4a_afc4bdc4f0b1row9_col0\" class=\"data row9 col0\" >Ridge Regression</td>\n                        <td id=\"T_20d4d62e_cf5a_11ea_9f4a_afc4bdc4f0b1row9_col1\" class=\"data row9 col1\" >3.402600</td>\n                        <td id=\"T_20d4d62e_cf5a_11ea_9f4a_afc4bdc4f0b1row9_col2\" class=\"data row9 col2\" >24.912100</td>\n                        <td id=\"T_20d4d62e_cf5a_11ea_9f4a_afc4bdc4f0b1row9_col3\" class=\"data row9 col3\" >4.817200</td>\n                        <td id=\"T_20d4d62e_cf5a_11ea_9f4a_afc4bdc4f0b1row9_col4\" class=\"data row9 col4\" >0.680100</td>\n                        <td id=\"T_20d4d62e_cf5a_11ea_9f4a_afc4bdc4f0b1row9_col5\" class=\"data row9 col5\" >0.257600</td>\n                        <td id=\"T_20d4d62e_cf5a_11ea_9f4a_afc4bdc4f0b1row9_col6\" class=\"data row9 col6\" >0.167100</td>\n            </tr>\n            <tr>\n                        <th id=\"T_20d4d62e_cf5a_11ea_9f4a_afc4bdc4f0b1level0_row10\" class=\"row_heading level0 row10\" >10</th>\n                        <td id=\"T_20d4d62e_cf5a_11ea_9f4a_afc4bdc4f0b1row10_col0\" class=\"data row10 col0\" >Bayesian Ridge</td>\n                        <td id=\"T_20d4d62e_cf5a_11ea_9f4a_afc4bdc4f0b1row10_col1\" class=\"data row10 col1\" >3.422300</td>\n                        <td id=\"T_20d4d62e_cf5a_11ea_9f4a_afc4bdc4f0b1row10_col2\" class=\"data row10 col2\" >25.627400</td>\n                        <td id=\"T_20d4d62e_cf5a_11ea_9f4a_afc4bdc4f0b1row10_col3\" class=\"data row10 col3\" >4.894400</td>\n                        <td id=\"T_20d4d62e_cf5a_11ea_9f4a_afc4bdc4f0b1row10_col4\" class=\"data row10 col4\" >0.671000</td>\n                        <td id=\"T_20d4d62e_cf5a_11ea_9f4a_afc4bdc4f0b1row10_col5\" class=\"data row10 col5\" >0.251400</td>\n                        <td id=\"T_20d4d62e_cf5a_11ea_9f4a_afc4bdc4f0b1row10_col6\" class=\"data row10 col6\" >0.168500</td>\n            </tr>\n            <tr>\n                        <th id=\"T_20d4d62e_cf5a_11ea_9f4a_afc4bdc4f0b1level0_row11\" class=\"row_heading level0 row11\" >11</th>\n                        <td id=\"T_20d4d62e_cf5a_11ea_9f4a_afc4bdc4f0b1row11_col0\" class=\"data row11 col0\" >TheilSen Regressor</td>\n                        <td id=\"T_20d4d62e_cf5a_11ea_9f4a_afc4bdc4f0b1row11_col1\" class=\"data row11 col1\" >3.452600</td>\n                        <td id=\"T_20d4d62e_cf5a_11ea_9f4a_afc4bdc4f0b1row11_col2\" class=\"data row11 col2\" >26.345300</td>\n                        <td id=\"T_20d4d62e_cf5a_11ea_9f4a_afc4bdc4f0b1row11_col3\" class=\"data row11 col3\" >4.927200</td>\n                        <td id=\"T_20d4d62e_cf5a_11ea_9f4a_afc4bdc4f0b1row11_col4\" class=\"data row11 col4\" >0.667300</td>\n                        <td id=\"T_20d4d62e_cf5a_11ea_9f4a_afc4bdc4f0b1row11_col5\" class=\"data row11 col5\" >0.244200</td>\n                        <td id=\"T_20d4d62e_cf5a_11ea_9f4a_afc4bdc4f0b1row11_col6\" class=\"data row11 col6\" >0.165000</td>\n            </tr>\n            <tr>\n                        <th id=\"T_20d4d62e_cf5a_11ea_9f4a_afc4bdc4f0b1level0_row12\" class=\"row_heading level0 row12\" >12</th>\n                        <td id=\"T_20d4d62e_cf5a_11ea_9f4a_afc4bdc4f0b1row12_col0\" class=\"data row12 col0\" >Random Sample Consensus</td>\n                        <td id=\"T_20d4d62e_cf5a_11ea_9f4a_afc4bdc4f0b1row12_col1\" class=\"data row12 col1\" >3.318900</td>\n                        <td id=\"T_20d4d62e_cf5a_11ea_9f4a_afc4bdc4f0b1row12_col2\" class=\"data row12 col2\" >27.322500</td>\n                        <td id=\"T_20d4d62e_cf5a_11ea_9f4a_afc4bdc4f0b1row12_col3\" class=\"data row12 col3\" >4.959600</td>\n                        <td id=\"T_20d4d62e_cf5a_11ea_9f4a_afc4bdc4f0b1row12_col4\" class=\"data row12 col4\" >0.665200</td>\n                        <td id=\"T_20d4d62e_cf5a_11ea_9f4a_afc4bdc4f0b1row12_col5\" class=\"data row12 col5\" >0.239400</td>\n                        <td id=\"T_20d4d62e_cf5a_11ea_9f4a_afc4bdc4f0b1row12_col6\" class=\"data row12 col6\" >0.155700</td>\n            </tr>\n            <tr>\n                        <th id=\"T_20d4d62e_cf5a_11ea_9f4a_afc4bdc4f0b1level0_row13\" class=\"row_heading level0 row13\" >13</th>\n                        <td id=\"T_20d4d62e_cf5a_11ea_9f4a_afc4bdc4f0b1row13_col0\" class=\"data row13 col0\" >Least Angle Regression</td>\n                        <td id=\"T_20d4d62e_cf5a_11ea_9f4a_afc4bdc4f0b1row13_col1\" class=\"data row13 col1\" >3.572500</td>\n                        <td id=\"T_20d4d62e_cf5a_11ea_9f4a_afc4bdc4f0b1row13_col2\" class=\"data row13 col2\" >26.342800</td>\n                        <td id=\"T_20d4d62e_cf5a_11ea_9f4a_afc4bdc4f0b1row13_col3\" class=\"data row13 col3\" >4.912800</td>\n                        <td id=\"T_20d4d62e_cf5a_11ea_9f4a_afc4bdc4f0b1row13_col4\" class=\"data row13 col4\" >0.664500</td>\n                        <td id=\"T_20d4d62e_cf5a_11ea_9f4a_afc4bdc4f0b1row13_col5\" class=\"data row13 col5\" >0.260100</td>\n                        <td id=\"T_20d4d62e_cf5a_11ea_9f4a_afc4bdc4f0b1row13_col6\" class=\"data row13 col6\" >0.176800</td>\n            </tr>\n            <tr>\n                        <th id=\"T_20d4d62e_cf5a_11ea_9f4a_afc4bdc4f0b1level0_row14\" class=\"row_heading level0 row14\" >14</th>\n                        <td id=\"T_20d4d62e_cf5a_11ea_9f4a_afc4bdc4f0b1row14_col0\" class=\"data row14 col0\" >Huber Regressor</td>\n                        <td id=\"T_20d4d62e_cf5a_11ea_9f4a_afc4bdc4f0b1row14_col1\" class=\"data row14 col1\" >3.382100</td>\n                        <td id=\"T_20d4d62e_cf5a_11ea_9f4a_afc4bdc4f0b1row14_col2\" class=\"data row14 col2\" >26.839400</td>\n                        <td id=\"T_20d4d62e_cf5a_11ea_9f4a_afc4bdc4f0b1row14_col3\" class=\"data row14 col3\" >4.963500</td>\n                        <td id=\"T_20d4d62e_cf5a_11ea_9f4a_afc4bdc4f0b1row14_col4\" class=\"data row14 col4\" >0.663800</td>\n                        <td id=\"T_20d4d62e_cf5a_11ea_9f4a_afc4bdc4f0b1row14_col5\" class=\"data row14 col5\" >0.265400</td>\n                        <td id=\"T_20d4d62e_cf5a_11ea_9f4a_afc4bdc4f0b1row14_col6\" class=\"data row14 col6\" >0.167000</td>\n            </tr>\n            <tr>\n                        <th id=\"T_20d4d62e_cf5a_11ea_9f4a_afc4bdc4f0b1level0_row15\" class=\"row_heading level0 row15\" >15</th>\n                        <td id=\"T_20d4d62e_cf5a_11ea_9f4a_afc4bdc4f0b1row15_col0\" class=\"data row15 col0\" >Elastic Net</td>\n                        <td id=\"T_20d4d62e_cf5a_11ea_9f4a_afc4bdc4f0b1row15_col1\" class=\"data row15 col1\" >3.767900</td>\n                        <td id=\"T_20d4d62e_cf5a_11ea_9f4a_afc4bdc4f0b1row15_col2\" class=\"data row15 col2\" >29.120200</td>\n                        <td id=\"T_20d4d62e_cf5a_11ea_9f4a_afc4bdc4f0b1row15_col3\" class=\"data row15 col3\" >5.299000</td>\n                        <td id=\"T_20d4d62e_cf5a_11ea_9f4a_afc4bdc4f0b1row15_col4\" class=\"data row15 col4\" >0.620400</td>\n                        <td id=\"T_20d4d62e_cf5a_11ea_9f4a_afc4bdc4f0b1row15_col5\" class=\"data row15 col5\" >0.256700</td>\n                        <td id=\"T_20d4d62e_cf5a_11ea_9f4a_afc4bdc4f0b1row15_col6\" class=\"data row15 col6\" >0.179300</td>\n            </tr>\n            <tr>\n                        <th id=\"T_20d4d62e_cf5a_11ea_9f4a_afc4bdc4f0b1level0_row16\" class=\"row_heading level0 row16\" >16</th>\n                        <td id=\"T_20d4d62e_cf5a_11ea_9f4a_afc4bdc4f0b1row16_col0\" class=\"data row16 col0\" >Lasso Regression</td>\n                        <td id=\"T_20d4d62e_cf5a_11ea_9f4a_afc4bdc4f0b1row16_col1\" class=\"data row16 col1\" >3.838400</td>\n                        <td id=\"T_20d4d62e_cf5a_11ea_9f4a_afc4bdc4f0b1row16_col2\" class=\"data row16 col2\" >30.248900</td>\n                        <td id=\"T_20d4d62e_cf5a_11ea_9f4a_afc4bdc4f0b1row16_col3\" class=\"data row16 col3\" >5.403300</td>\n                        <td id=\"T_20d4d62e_cf5a_11ea_9f4a_afc4bdc4f0b1row16_col4\" class=\"data row16 col4\" >0.606400</td>\n                        <td id=\"T_20d4d62e_cf5a_11ea_9f4a_afc4bdc4f0b1row16_col5\" class=\"data row16 col5\" >0.258900</td>\n                        <td id=\"T_20d4d62e_cf5a_11ea_9f4a_afc4bdc4f0b1row16_col6\" class=\"data row16 col6\" >0.181800</td>\n            </tr>\n            <tr>\n                        <th id=\"T_20d4d62e_cf5a_11ea_9f4a_afc4bdc4f0b1level0_row17\" class=\"row_heading level0 row17\" >17</th>\n                        <td id=\"T_20d4d62e_cf5a_11ea_9f4a_afc4bdc4f0b1row17_col0\" class=\"data row17 col0\" >Orthogonal Matching Pursuit</td>\n                        <td id=\"T_20d4d62e_cf5a_11ea_9f4a_afc4bdc4f0b1row17_col1\" class=\"data row17 col1\" >4.031300</td>\n                        <td id=\"T_20d4d62e_cf5a_11ea_9f4a_afc4bdc4f0b1row17_col2\" class=\"data row17 col2\" >31.912500</td>\n                        <td id=\"T_20d4d62e_cf5a_11ea_9f4a_afc4bdc4f0b1row17_col3\" class=\"data row17 col3\" >5.587300</td>\n                        <td id=\"T_20d4d62e_cf5a_11ea_9f4a_afc4bdc4f0b1row17_col4\" class=\"data row17 col4\" >0.580200</td>\n                        <td id=\"T_20d4d62e_cf5a_11ea_9f4a_afc4bdc4f0b1row17_col5\" class=\"data row17 col5\" >0.251400</td>\n                        <td id=\"T_20d4d62e_cf5a_11ea_9f4a_afc4bdc4f0b1row17_col6\" class=\"data row17 col6\" >0.186100</td>\n            </tr>\n            <tr>\n                        <th id=\"T_20d4d62e_cf5a_11ea_9f4a_afc4bdc4f0b1level0_row18\" class=\"row_heading level0 row18\" >18</th>\n                        <td id=\"T_20d4d62e_cf5a_11ea_9f4a_afc4bdc4f0b1row18_col0\" class=\"data row18 col0\" >K Neighbors Regressor</td>\n                        <td id=\"T_20d4d62e_cf5a_11ea_9f4a_afc4bdc4f0b1row18_col1\" class=\"data row18 col1\" >4.621500</td>\n                        <td id=\"T_20d4d62e_cf5a_11ea_9f4a_afc4bdc4f0b1row18_col2\" class=\"data row18 col2\" >46.905600</td>\n                        <td id=\"T_20d4d62e_cf5a_11ea_9f4a_afc4bdc4f0b1row18_col3\" class=\"data row18 col3\" >6.643800</td>\n                        <td id=\"T_20d4d62e_cf5a_11ea_9f4a_afc4bdc4f0b1row18_col4\" class=\"data row18 col4\" >0.411200</td>\n                        <td id=\"T_20d4d62e_cf5a_11ea_9f4a_afc4bdc4f0b1row18_col5\" class=\"data row18 col5\" >0.256300</td>\n                        <td id=\"T_20d4d62e_cf5a_11ea_9f4a_afc4bdc4f0b1row18_col6\" class=\"data row18 col6\" >0.214400</td>\n            </tr>\n            <tr>\n                        <th id=\"T_20d4d62e_cf5a_11ea_9f4a_afc4bdc4f0b1level0_row19\" class=\"row_heading level0 row19\" >19</th>\n                        <td id=\"T_20d4d62e_cf5a_11ea_9f4a_afc4bdc4f0b1row19_col0\" class=\"data row19 col0\" >Support Vector Machine</td>\n                        <td id=\"T_20d4d62e_cf5a_11ea_9f4a_afc4bdc4f0b1row19_col1\" class=\"data row19 col1\" >5.407400</td>\n                        <td id=\"T_20d4d62e_cf5a_11ea_9f4a_afc4bdc4f0b1row19_col2\" class=\"data row19 col2\" >66.839100</td>\n                        <td id=\"T_20d4d62e_cf5a_11ea_9f4a_afc4bdc4f0b1row19_col3\" class=\"data row19 col3\" >7.996400</td>\n                        <td id=\"T_20d4d62e_cf5a_11ea_9f4a_afc4bdc4f0b1row19_col4\" class=\"data row19 col4\" >0.183100</td>\n                        <td id=\"T_20d4d62e_cf5a_11ea_9f4a_afc4bdc4f0b1row19_col5\" class=\"data row19 col5\" >0.314900</td>\n                        <td id=\"T_20d4d62e_cf5a_11ea_9f4a_afc4bdc4f0b1row19_col6\" class=\"data row19 col6\" >0.246600</td>\n            </tr>\n            <tr>\n                        <th id=\"T_20d4d62e_cf5a_11ea_9f4a_afc4bdc4f0b1level0_row20\" class=\"row_heading level0 row20\" >20</th>\n                        <td id=\"T_20d4d62e_cf5a_11ea_9f4a_afc4bdc4f0b1row20_col0\" class=\"data row20 col0\" >Lasso Least Angle Regression</td>\n                        <td id=\"T_20d4d62e_cf5a_11ea_9f4a_afc4bdc4f0b1row20_col1\" class=\"data row20 col1\" >6.563300</td>\n                        <td id=\"T_20d4d62e_cf5a_11ea_9f4a_afc4bdc4f0b1row20_col2\" class=\"data row20 col2\" >82.381100</td>\n                        <td id=\"T_20d4d62e_cf5a_11ea_9f4a_afc4bdc4f0b1row20_col3\" class=\"data row20 col3\" >9.011700</td>\n                        <td id=\"T_20d4d62e_cf5a_11ea_9f4a_afc4bdc4f0b1row20_col4\" class=\"data row20 col4\" >-0.050000</td>\n                        <td id=\"T_20d4d62e_cf5a_11ea_9f4a_afc4bdc4f0b1row20_col5\" class=\"data row20 col5\" >0.389200</td>\n                        <td id=\"T_20d4d62e_cf5a_11ea_9f4a_afc4bdc4f0b1row20_col6\" class=\"data row20 col6\" >0.360400</td>\n            </tr>\n            <tr>\n                        <th id=\"T_20d4d62e_cf5a_11ea_9f4a_afc4bdc4f0b1level0_row21\" class=\"row_heading level0 row21\" >21</th>\n                        <td id=\"T_20d4d62e_cf5a_11ea_9f4a_afc4bdc4f0b1row21_col0\" class=\"data row21 col0\" >Passive Aggressive Regressor</td>\n                        <td id=\"T_20d4d62e_cf5a_11ea_9f4a_afc4bdc4f0b1row21_col1\" class=\"data row21 col1\" >8.531800</td>\n                        <td id=\"T_20d4d62e_cf5a_11ea_9f4a_afc4bdc4f0b1row21_col2\" class=\"data row21 col2\" >129.591200</td>\n                        <td id=\"T_20d4d62e_cf5a_11ea_9f4a_afc4bdc4f0b1row21_col3\" class=\"data row21 col3\" >10.790800</td>\n                        <td id=\"T_20d4d62e_cf5a_11ea_9f4a_afc4bdc4f0b1row21_col4\" class=\"data row21 col4\" >-0.614300</td>\n                        <td id=\"T_20d4d62e_cf5a_11ea_9f4a_afc4bdc4f0b1row21_col5\" class=\"data row21 col5\" >0.483400</td>\n                        <td id=\"T_20d4d62e_cf5a_11ea_9f4a_afc4bdc4f0b1row21_col6\" class=\"data row21 col6\" >0.464900</td>\n            </tr>\n    </tbody></table>"
     },
     "metadata": {},
     "execution_count": 11
    }
   ],
   "source": [
    "# train all model and compare\n",
    "compare_models()"
   ]
  },
  {
   "cell_type": "code",
   "execution_count": 17,
   "metadata": {},
   "outputs": [
    {
     "output_type": "display_data",
     "data": {
      "text/plain": "   Age  Income  SpendingScore       Savings\n0   58   77769       0.791329   6559.829923\n1   59   81799       0.791082   5417.661426\n2   62   74751       0.702657   9258.992965\n3   59   74373       0.765680   7346.334504\n4   87   17760       0.348778  16869.507130",
      "text/html": "<div>\n<style scoped>\n    .dataframe tbody tr th:only-of-type {\n        vertical-align: middle;\n    }\n\n    .dataframe tbody tr th {\n        vertical-align: top;\n    }\n\n    .dataframe thead th {\n        text-align: right;\n    }\n</style>\n<table border=\"1\" class=\"dataframe\">\n  <thead>\n    <tr style=\"text-align: right;\">\n      <th></th>\n      <th>Age</th>\n      <th>Income</th>\n      <th>SpendingScore</th>\n      <th>Savings</th>\n    </tr>\n  </thead>\n  <tbody>\n    <tr>\n      <th>0</th>\n      <td>58</td>\n      <td>77769</td>\n      <td>0.791329</td>\n      <td>6559.829923</td>\n    </tr>\n    <tr>\n      <th>1</th>\n      <td>59</td>\n      <td>81799</td>\n      <td>0.791082</td>\n      <td>5417.661426</td>\n    </tr>\n    <tr>\n      <th>2</th>\n      <td>62</td>\n      <td>74751</td>\n      <td>0.702657</td>\n      <td>9258.992965</td>\n    </tr>\n    <tr>\n      <th>3</th>\n      <td>59</td>\n      <td>74373</td>\n      <td>0.765680</td>\n      <td>7346.334504</td>\n    </tr>\n    <tr>\n      <th>4</th>\n      <td>87</td>\n      <td>17760</td>\n      <td>0.348778</td>\n      <td>16869.507130</td>\n    </tr>\n  </tbody>\n</table>\n</div>"
     },
     "metadata": {}
    }
   ],
   "source": [
    "# clustering example\n",
    "# get dataset \n",
    "jewellery = get_data('jewellery')"
   ]
  },
  {
   "cell_type": "code",
   "execution_count": 13,
   "metadata": {},
   "outputs": [
    {
     "output_type": "display_data",
     "data": {
      "text/plain": "         MAE      MSE    RMSE      R2   RMSLE    MAPE\n0     2.2552  13.2070  3.6341  0.7530  0.1352  0.1054\n1     2.4390  10.3365  3.2150  0.8927  0.1453  0.1202\n2     1.7811   4.8746  2.2078  0.8776  0.1232  0.1017\n3     2.1949   9.6404  3.1049  0.8707  0.1273  0.0957\n4     1.7669   5.4821  2.3414  0.9374  0.1110  0.0874\n5     1.9306   5.6757  2.3824  0.9380  0.1217  0.1035\n6     3.0728  32.1979  5.6743  0.6934  0.1850  0.1257\n7     1.5550   4.3928  2.0959  0.9289  0.0810  0.0655\n8     2.2682   9.2819  3.0466  0.9089  0.1176  0.1011\n9     1.8450   6.2873  2.5075  0.9252  0.1567  0.1216\nMean  2.1109  10.1376  3.0210  0.8726  0.1304  0.1028\nSD    0.4153   7.8371  1.0056  0.0791  0.0265  0.0170",
      "text/html": "<div>\n<style scoped>\n    .dataframe tbody tr th:only-of-type {\n        vertical-align: middle;\n    }\n\n    .dataframe tbody tr th {\n        vertical-align: top;\n    }\n\n    .dataframe thead th {\n        text-align: right;\n    }\n</style>\n<table border=\"1\" class=\"dataframe\">\n  <thead>\n    <tr style=\"text-align: right;\">\n      <th></th>\n      <th>MAE</th>\n      <th>MSE</th>\n      <th>RMSE</th>\n      <th>R2</th>\n      <th>RMSLE</th>\n      <th>MAPE</th>\n    </tr>\n  </thead>\n  <tbody>\n    <tr>\n      <th>0</th>\n      <td>2.2552</td>\n      <td>13.2070</td>\n      <td>3.6341</td>\n      <td>0.7530</td>\n      <td>0.1352</td>\n      <td>0.1054</td>\n    </tr>\n    <tr>\n      <th>1</th>\n      <td>2.4390</td>\n      <td>10.3365</td>\n      <td>3.2150</td>\n      <td>0.8927</td>\n      <td>0.1453</td>\n      <td>0.1202</td>\n    </tr>\n    <tr>\n      <th>2</th>\n      <td>1.7811</td>\n      <td>4.8746</td>\n      <td>2.2078</td>\n      <td>0.8776</td>\n      <td>0.1232</td>\n      <td>0.1017</td>\n    </tr>\n    <tr>\n      <th>3</th>\n      <td>2.1949</td>\n      <td>9.6404</td>\n      <td>3.1049</td>\n      <td>0.8707</td>\n      <td>0.1273</td>\n      <td>0.0957</td>\n    </tr>\n    <tr>\n      <th>4</th>\n      <td>1.7669</td>\n      <td>5.4821</td>\n      <td>2.3414</td>\n      <td>0.9374</td>\n      <td>0.1110</td>\n      <td>0.0874</td>\n    </tr>\n    <tr>\n      <th>5</th>\n      <td>1.9306</td>\n      <td>5.6757</td>\n      <td>2.3824</td>\n      <td>0.9380</td>\n      <td>0.1217</td>\n      <td>0.1035</td>\n    </tr>\n    <tr>\n      <th>6</th>\n      <td>3.0728</td>\n      <td>32.1979</td>\n      <td>5.6743</td>\n      <td>0.6934</td>\n      <td>0.1850</td>\n      <td>0.1257</td>\n    </tr>\n    <tr>\n      <th>7</th>\n      <td>1.5550</td>\n      <td>4.3928</td>\n      <td>2.0959</td>\n      <td>0.9289</td>\n      <td>0.0810</td>\n      <td>0.0655</td>\n    </tr>\n    <tr>\n      <th>8</th>\n      <td>2.2682</td>\n      <td>9.2819</td>\n      <td>3.0466</td>\n      <td>0.9089</td>\n      <td>0.1176</td>\n      <td>0.1011</td>\n    </tr>\n    <tr>\n      <th>9</th>\n      <td>1.8450</td>\n      <td>6.2873</td>\n      <td>2.5075</td>\n      <td>0.9252</td>\n      <td>0.1567</td>\n      <td>0.1216</td>\n    </tr>\n    <tr>\n      <th>Mean</th>\n      <td>2.1109</td>\n      <td>10.1376</td>\n      <td>3.0210</td>\n      <td>0.8726</td>\n      <td>0.1304</td>\n      <td>0.1028</td>\n    </tr>\n    <tr>\n      <th>SD</th>\n      <td>0.4153</td>\n      <td>7.8371</td>\n      <td>1.0056</td>\n      <td>0.0791</td>\n      <td>0.0265</td>\n      <td>0.0170</td>\n    </tr>\n  </tbody>\n</table>\n</div>"
     },
     "metadata": {}
    }
   ],
   "source": [
    "reg_model = create_model('catboost')"
   ]
  },
  {
   "cell_type": "code",
   "execution_count": 19,
   "metadata": {
    "tags": []
   },
   "outputs": [
    {
     "output_type": "stream",
     "name": "stdout",
     "text": "\nSetup Succesfully Completed!\n"
    },
    {
     "output_type": "display_data",
     "data": {
      "text/plain": "<pandas.io.formats.style.Styler at 0x29bf0448>",
      "text/html": "<style  type=\"text/css\" >\n</style><table id=\"T_1aa21cac_cf5b_11ea_9607_afc4bdc4f0b1\" ><thead>    <tr>        <th class=\"blank level0\" ></th>        <th class=\"col_heading level0 col0\" >Description</th>        <th class=\"col_heading level0 col1\" >Value</th>    </tr></thead><tbody>\n                <tr>\n                        <th id=\"T_1aa21cac_cf5b_11ea_9607_afc4bdc4f0b1level0_row0\" class=\"row_heading level0 row0\" >0</th>\n                        <td id=\"T_1aa21cac_cf5b_11ea_9607_afc4bdc4f0b1row0_col0\" class=\"data row0 col0\" >session_id </td>\n                        <td id=\"T_1aa21cac_cf5b_11ea_9607_afc4bdc4f0b1row0_col1\" class=\"data row0 col1\" >6090</td>\n            </tr>\n            <tr>\n                        <th id=\"T_1aa21cac_cf5b_11ea_9607_afc4bdc4f0b1level0_row1\" class=\"row_heading level0 row1\" >1</th>\n                        <td id=\"T_1aa21cac_cf5b_11ea_9607_afc4bdc4f0b1row1_col0\" class=\"data row1 col0\" >Original Data </td>\n                        <td id=\"T_1aa21cac_cf5b_11ea_9607_afc4bdc4f0b1row1_col1\" class=\"data row1 col1\" >(505, 4)</td>\n            </tr>\n            <tr>\n                        <th id=\"T_1aa21cac_cf5b_11ea_9607_afc4bdc4f0b1level0_row2\" class=\"row_heading level0 row2\" >2</th>\n                        <td id=\"T_1aa21cac_cf5b_11ea_9607_afc4bdc4f0b1row2_col0\" class=\"data row2 col0\" >Missing Values </td>\n                        <td id=\"T_1aa21cac_cf5b_11ea_9607_afc4bdc4f0b1row2_col1\" class=\"data row2 col1\" >False</td>\n            </tr>\n            <tr>\n                        <th id=\"T_1aa21cac_cf5b_11ea_9607_afc4bdc4f0b1level0_row3\" class=\"row_heading level0 row3\" >3</th>\n                        <td id=\"T_1aa21cac_cf5b_11ea_9607_afc4bdc4f0b1row3_col0\" class=\"data row3 col0\" >Numeric Features </td>\n                        <td id=\"T_1aa21cac_cf5b_11ea_9607_afc4bdc4f0b1row3_col1\" class=\"data row3 col1\" >4</td>\n            </tr>\n            <tr>\n                        <th id=\"T_1aa21cac_cf5b_11ea_9607_afc4bdc4f0b1level0_row4\" class=\"row_heading level0 row4\" >4</th>\n                        <td id=\"T_1aa21cac_cf5b_11ea_9607_afc4bdc4f0b1row4_col0\" class=\"data row4 col0\" >Categorical Features </td>\n                        <td id=\"T_1aa21cac_cf5b_11ea_9607_afc4bdc4f0b1row4_col1\" class=\"data row4 col1\" >0</td>\n            </tr>\n            <tr>\n                        <th id=\"T_1aa21cac_cf5b_11ea_9607_afc4bdc4f0b1level0_row5\" class=\"row_heading level0 row5\" >5</th>\n                        <td id=\"T_1aa21cac_cf5b_11ea_9607_afc4bdc4f0b1row5_col0\" class=\"data row5 col0\" >Ordinal Features </td>\n                        <td id=\"T_1aa21cac_cf5b_11ea_9607_afc4bdc4f0b1row5_col1\" class=\"data row5 col1\" >False</td>\n            </tr>\n            <tr>\n                        <th id=\"T_1aa21cac_cf5b_11ea_9607_afc4bdc4f0b1level0_row6\" class=\"row_heading level0 row6\" >6</th>\n                        <td id=\"T_1aa21cac_cf5b_11ea_9607_afc4bdc4f0b1row6_col0\" class=\"data row6 col0\" >High Cardinality Features </td>\n                        <td id=\"T_1aa21cac_cf5b_11ea_9607_afc4bdc4f0b1row6_col1\" class=\"data row6 col1\" >False</td>\n            </tr>\n            <tr>\n                        <th id=\"T_1aa21cac_cf5b_11ea_9607_afc4bdc4f0b1level0_row7\" class=\"row_heading level0 row7\" >7</th>\n                        <td id=\"T_1aa21cac_cf5b_11ea_9607_afc4bdc4f0b1row7_col0\" class=\"data row7 col0\" >Transformed Data </td>\n                        <td id=\"T_1aa21cac_cf5b_11ea_9607_afc4bdc4f0b1row7_col1\" class=\"data row7 col1\" >(505, 4)</td>\n            </tr>\n            <tr>\n                        <th id=\"T_1aa21cac_cf5b_11ea_9607_afc4bdc4f0b1level0_row8\" class=\"row_heading level0 row8\" >8</th>\n                        <td id=\"T_1aa21cac_cf5b_11ea_9607_afc4bdc4f0b1row8_col0\" class=\"data row8 col0\" >Numeric Imputer </td>\n                        <td id=\"T_1aa21cac_cf5b_11ea_9607_afc4bdc4f0b1row8_col1\" class=\"data row8 col1\" >mean</td>\n            </tr>\n            <tr>\n                        <th id=\"T_1aa21cac_cf5b_11ea_9607_afc4bdc4f0b1level0_row9\" class=\"row_heading level0 row9\" >9</th>\n                        <td id=\"T_1aa21cac_cf5b_11ea_9607_afc4bdc4f0b1row9_col0\" class=\"data row9 col0\" >Categorical Imputer </td>\n                        <td id=\"T_1aa21cac_cf5b_11ea_9607_afc4bdc4f0b1row9_col1\" class=\"data row9 col1\" >constant</td>\n            </tr>\n            <tr>\n                        <th id=\"T_1aa21cac_cf5b_11ea_9607_afc4bdc4f0b1level0_row10\" class=\"row_heading level0 row10\" >10</th>\n                        <td id=\"T_1aa21cac_cf5b_11ea_9607_afc4bdc4f0b1row10_col0\" class=\"data row10 col0\" >Normalize </td>\n                        <td id=\"T_1aa21cac_cf5b_11ea_9607_afc4bdc4f0b1row10_col1\" class=\"data row10 col1\" >False</td>\n            </tr>\n            <tr>\n                        <th id=\"T_1aa21cac_cf5b_11ea_9607_afc4bdc4f0b1level0_row11\" class=\"row_heading level0 row11\" >11</th>\n                        <td id=\"T_1aa21cac_cf5b_11ea_9607_afc4bdc4f0b1row11_col0\" class=\"data row11 col0\" >Normalize Method </td>\n                        <td id=\"T_1aa21cac_cf5b_11ea_9607_afc4bdc4f0b1row11_col1\" class=\"data row11 col1\" >None</td>\n            </tr>\n            <tr>\n                        <th id=\"T_1aa21cac_cf5b_11ea_9607_afc4bdc4f0b1level0_row12\" class=\"row_heading level0 row12\" >12</th>\n                        <td id=\"T_1aa21cac_cf5b_11ea_9607_afc4bdc4f0b1row12_col0\" class=\"data row12 col0\" >Transformation </td>\n                        <td id=\"T_1aa21cac_cf5b_11ea_9607_afc4bdc4f0b1row12_col1\" class=\"data row12 col1\" >False</td>\n            </tr>\n            <tr>\n                        <th id=\"T_1aa21cac_cf5b_11ea_9607_afc4bdc4f0b1level0_row13\" class=\"row_heading level0 row13\" >13</th>\n                        <td id=\"T_1aa21cac_cf5b_11ea_9607_afc4bdc4f0b1row13_col0\" class=\"data row13 col0\" >Transformation Method </td>\n                        <td id=\"T_1aa21cac_cf5b_11ea_9607_afc4bdc4f0b1row13_col1\" class=\"data row13 col1\" >None</td>\n            </tr>\n            <tr>\n                        <th id=\"T_1aa21cac_cf5b_11ea_9607_afc4bdc4f0b1level0_row14\" class=\"row_heading level0 row14\" >14</th>\n                        <td id=\"T_1aa21cac_cf5b_11ea_9607_afc4bdc4f0b1row14_col0\" class=\"data row14 col0\" >PCA </td>\n                        <td id=\"T_1aa21cac_cf5b_11ea_9607_afc4bdc4f0b1row14_col1\" class=\"data row14 col1\" >False</td>\n            </tr>\n            <tr>\n                        <th id=\"T_1aa21cac_cf5b_11ea_9607_afc4bdc4f0b1level0_row15\" class=\"row_heading level0 row15\" >15</th>\n                        <td id=\"T_1aa21cac_cf5b_11ea_9607_afc4bdc4f0b1row15_col0\" class=\"data row15 col0\" >PCA Method </td>\n                        <td id=\"T_1aa21cac_cf5b_11ea_9607_afc4bdc4f0b1row15_col1\" class=\"data row15 col1\" >None</td>\n            </tr>\n            <tr>\n                        <th id=\"T_1aa21cac_cf5b_11ea_9607_afc4bdc4f0b1level0_row16\" class=\"row_heading level0 row16\" >16</th>\n                        <td id=\"T_1aa21cac_cf5b_11ea_9607_afc4bdc4f0b1row16_col0\" class=\"data row16 col0\" >PCA components </td>\n                        <td id=\"T_1aa21cac_cf5b_11ea_9607_afc4bdc4f0b1row16_col1\" class=\"data row16 col1\" >None</td>\n            </tr>\n            <tr>\n                        <th id=\"T_1aa21cac_cf5b_11ea_9607_afc4bdc4f0b1level0_row17\" class=\"row_heading level0 row17\" >17</th>\n                        <td id=\"T_1aa21cac_cf5b_11ea_9607_afc4bdc4f0b1row17_col0\" class=\"data row17 col0\" >Ignore Low Variance </td>\n                        <td id=\"T_1aa21cac_cf5b_11ea_9607_afc4bdc4f0b1row17_col1\" class=\"data row17 col1\" >False</td>\n            </tr>\n            <tr>\n                        <th id=\"T_1aa21cac_cf5b_11ea_9607_afc4bdc4f0b1level0_row18\" class=\"row_heading level0 row18\" >18</th>\n                        <td id=\"T_1aa21cac_cf5b_11ea_9607_afc4bdc4f0b1row18_col0\" class=\"data row18 col0\" >Combine Rare Levels </td>\n                        <td id=\"T_1aa21cac_cf5b_11ea_9607_afc4bdc4f0b1row18_col1\" class=\"data row18 col1\" >False</td>\n            </tr>\n            <tr>\n                        <th id=\"T_1aa21cac_cf5b_11ea_9607_afc4bdc4f0b1level0_row19\" class=\"row_heading level0 row19\" >19</th>\n                        <td id=\"T_1aa21cac_cf5b_11ea_9607_afc4bdc4f0b1row19_col0\" class=\"data row19 col0\" >Rare Level Threshold </td>\n                        <td id=\"T_1aa21cac_cf5b_11ea_9607_afc4bdc4f0b1row19_col1\" class=\"data row19 col1\" >None</td>\n            </tr>\n            <tr>\n                        <th id=\"T_1aa21cac_cf5b_11ea_9607_afc4bdc4f0b1level0_row20\" class=\"row_heading level0 row20\" >20</th>\n                        <td id=\"T_1aa21cac_cf5b_11ea_9607_afc4bdc4f0b1row20_col0\" class=\"data row20 col0\" >Numeric Binning </td>\n                        <td id=\"T_1aa21cac_cf5b_11ea_9607_afc4bdc4f0b1row20_col1\" class=\"data row20 col1\" >False</td>\n            </tr>\n            <tr>\n                        <th id=\"T_1aa21cac_cf5b_11ea_9607_afc4bdc4f0b1level0_row21\" class=\"row_heading level0 row21\" >21</th>\n                        <td id=\"T_1aa21cac_cf5b_11ea_9607_afc4bdc4f0b1row21_col0\" class=\"data row21 col0\" >Remove Multicollinearity </td>\n                        <td id=\"T_1aa21cac_cf5b_11ea_9607_afc4bdc4f0b1row21_col1\" class=\"data row21 col1\" >False</td>\n            </tr>\n            <tr>\n                        <th id=\"T_1aa21cac_cf5b_11ea_9607_afc4bdc4f0b1level0_row22\" class=\"row_heading level0 row22\" >22</th>\n                        <td id=\"T_1aa21cac_cf5b_11ea_9607_afc4bdc4f0b1row22_col0\" class=\"data row22 col0\" >Multicollinearity Threshold </td>\n                        <td id=\"T_1aa21cac_cf5b_11ea_9607_afc4bdc4f0b1row22_col1\" class=\"data row22 col1\" >None</td>\n            </tr>\n            <tr>\n                        <th id=\"T_1aa21cac_cf5b_11ea_9607_afc4bdc4f0b1level0_row23\" class=\"row_heading level0 row23\" >23</th>\n                        <td id=\"T_1aa21cac_cf5b_11ea_9607_afc4bdc4f0b1row23_col0\" class=\"data row23 col0\" >Group Features </td>\n                        <td id=\"T_1aa21cac_cf5b_11ea_9607_afc4bdc4f0b1row23_col1\" class=\"data row23 col1\" >False</td>\n            </tr>\n    </tbody></table>"
     },
     "metadata": {}
    }
   ],
   "source": [
    "# import clustering model\n",
    "from pycaret.clustering import *\n",
    "clus_algo = setup(jewellery)"
   ]
  },
  {
   "cell_type": "code",
   "execution_count": 20,
   "metadata": {},
   "outputs": [],
   "source": [
    "# create a clustering 'k-mean' model\n",
    "kmeans = create_model('kmeans')"
   ]
  },
  {
   "cell_type": "code",
   "execution_count": 21,
   "metadata": {},
   "outputs": [],
   "source": [
    "kmeans_df = assign_model(kmeans)"
   ]
  },
  {
   "cell_type": "code",
   "execution_count": 22,
   "metadata": {},
   "outputs": [
    {
     "output_type": "display_data",
     "data": {
      "text/html": "        <script type=\"text/javascript\">\n        window.PlotlyConfig = {MathJaxConfig: 'local'};\n        if (window.MathJax) {MathJax.Hub.Config({SVG: {font: \"STIX-Web\"}});}\n        if (typeof require !== 'undefined') {\n        require.undef(\"plotly\");\n        requirejs.config({\n            paths: {\n                'plotly': ['https://cdn.plot.ly/plotly-latest.min']\n            }\n        });\n        require(['plotly'], function(Plotly) {\n            window._Plotly = Plotly;\n        });\n        }\n        </script>\n        "
     },
     "metadata": {}
    },
    {
     "output_type": "display_data",
     "data": {
      "application/vnd.plotly.v1+json": {
       "config": {
        "plotlyServerURL": "https://plot.ly"
       },
       "data": [
        {
         "customdata": [
          [
           58
          ],
          [
           59
          ],
          [
           62
          ],
          [
           59
          ],
          [
           87
          ],
          [
           29
          ],
          [
           54
          ],
          [
           87
          ],
          [
           83
          ],
          [
           84
          ],
          [
           85
          ],
          [
           36
          ],
          [
           30
          ],
          [
           31
          ],
          [
           61
          ],
          [
           92
          ],
          [
           55
          ],
          [
           87
          ],
          [
           82
          ],
          [
           88
          ],
          [
           30
          ],
          [
           84
          ],
          [
           53
          ],
          [
           91
          ],
          [
           89
          ],
          [
           30
          ],
          [
           17
          ],
          [
           55
          ],
          [
           90
          ],
          [
           61
          ],
          [
           59
          ],
          [
           59
          ],
          [
           88
          ],
          [
           56
          ],
          [
           33
          ],
          [
           61
          ],
          [
           84
          ],
          [
           61
          ],
          [
           39
          ],
          [
           31
          ],
          [
           60
          ],
          [
           87
          ],
          [
           20
          ],
          [
           57
          ],
          [
           61
          ],
          [
           18
          ],
          [
           83
          ],
          [
           25
          ],
          [
           31
          ],
          [
           55
          ],
          [
           84
          ],
          [
           36
          ],
          [
           27
          ],
          [
           91
          ],
          [
           53
          ],
          [
           91
          ],
          [
           25
          ],
          [
           83
          ],
          [
           87
          ],
          [
           90
          ],
          [
           83
          ],
          [
           83
          ],
          [
           83
          ],
          [
           61
          ],
          [
           64
          ],
          [
           62
          ],
          [
           91
          ],
          [
           28
          ],
          [
           23
          ],
          [
           55
          ],
          [
           58
          ],
          [
           31
          ],
          [
           83
          ],
          [
           91
          ],
          [
           30
          ],
          [
           57
          ],
          [
           33
          ],
          [
           59
          ],
          [
           58
          ],
          [
           29
          ],
          [
           59
          ],
          [
           84
          ],
          [
           64
          ],
          [
           87
          ],
          [
           88
          ],
          [
           35
          ],
          [
           34
          ],
          [
           58
          ],
          [
           56
          ],
          [
           63
          ],
          [
           58
          ],
          [
           60
          ],
          [
           24
          ],
          [
           94
          ],
          [
           58
          ],
          [
           25
          ],
          [
           36
          ],
          [
           62
          ],
          [
           66
          ],
          [
           37
          ],
          [
           27
          ],
          [
           24
          ],
          [
           31
          ],
          [
           23
          ],
          [
           34
          ],
          [
           88
          ],
          [
           89
          ],
          [
           32
          ],
          [
           38
          ],
          [
           57
          ],
          [
           90
          ],
          [
           33
          ],
          [
           66
          ],
          [
           35
          ],
          [
           31
          ],
          [
           35
          ],
          [
           63
          ],
          [
           30
          ],
          [
           22
          ],
          [
           84
          ],
          [
           28
          ],
          [
           88
          ],
          [
           84
          ],
          [
           88
          ],
          [
           35
          ],
          [
           82
          ],
          [
           64
          ],
          [
           91
          ],
          [
           62
          ],
          [
           62
          ]
         ],
         "hoverlabel": {
          "namelength": 0
         },
         "hovertemplate": "Cluster=Cluster 0<br>PCA1=%{x}<br>PCA2=%{y}<br>Feature=%{customdata[0]}",
         "legendgroup": "Cluster=Cluster 0",
         "marker": {
          "color": "#636efa",
          "opacity": 0.5,
          "symbol": "circle"
         },
         "mode": "markers",
         "name": "Cluster=Cluster 0",
         "showlegend": true,
         "textposition": "top center",
         "type": "scatter",
         "x": [
          34815.25492053794,
          23896.368807904077,
          26578.153196266176,
          28681.54988758575,
          26003.522431925616,
          31202.41268247607,
          33217.92661094808,
          22236.169474372266,
          20592.346613007758,
          39135.37622313006,
          35036.7158554872,
          31317.298064553706,
          18943.372817813026,
          20486.140695945447,
          34834.90179466,
          35572.715386853546,
          30806.77634195278,
          39399.40138181148,
          34753.148485730795,
          23022.21826312664,
          33379.42058468908,
          29861.546669621446,
          28912.89513619994,
          28627.259856400302,
          37228.73474520067,
          24491.38889864472,
          26507.042872359903,
          32691.869561685715,
          28639.385002450483,
          23196.213306438225,
          32289.540207166643,
          34830.86603735357,
          31016.952770667864,
          30268.705481263292,
          40419.57669510415,
          37194.90227907419,
          33345.156271231164,
          31502.360342968223,
          26343.67867390246,
          32561.025360063293,
          23858.59824002341,
          36008.725359122305,
          30155.334159636983,
          26312.372968927517,
          16918.676201100116,
          15177.319714667685,
          30950.101839682382,
          23748.677815454044,
          23392.942046850578,
          35023.21627080028,
          29240.509748648103,
          35711.07999432944,
          19785.994393274665,
          32853.062283695246,
          30836.97830762744,
          26023.566351406153,
          27412.69140542122,
          38543.62512292872,
          32149.921292682862,
          26228.37628643618,
          34060.87750047382,
          24819.360949497743,
          31330.343984524774,
          27758.387575808203,
          28960.634964946767,
          36813.767134203954,
          33203.842568888016,
          27456.913266673106,
          31960.754514207256,
          29210.556946439687,
          36260.39985707387,
          26983.046364278183,
          37939.71700891234,
          39941.23737509613,
          30614.165778553554,
          38938.11813871435,
          23470.84703332801,
          32322.908553122463,
          26071.98118135924,
          34360.481807350574,
          24294.80847834632,
          14006.000965365389,
          25765.790042328346,
          32307.93672914093,
          25328.069962281672,
          32416.93987389553,
          22105.034591078245,
          30046.48908092605,
          31911.00123936632,
          22350.769816321557,
          23967.006087975617,
          30148.68267391608,
          41298.63129283506,
          25363.91922672041,
          25732.344972190545,
          23032.680124651262,
          38847.16976776082,
          15764.491431415814,
          32345.708428700582,
          31045.220255678785,
          31361.085267799142,
          31253.46853044942,
          32210.979768642395,
          35758.275435536685,
          35579.20581580633,
          19295.267686809555,
          21973.307950443814,
          22258.60866856989,
          22393.417730180117,
          40673.85964432745,
          31614.442565419093,
          25474.40276379727,
          32912.892063315834,
          35187.91053468465,
          24827.97878054596,
          40849.48059769063,
          30584.124615113244,
          30949.636901997932,
          24613.751980326113,
          26298.14841024671,
          38869.649452671685,
          39513.27355543244,
          32572.75027236617,
          22224.556143435275,
          32797.643669354926,
          21900.785300032756,
          25938.050496756237,
          25376.693266073147,
          19017.16946491749,
          24706.128352845157
         ],
         "xaxis": "x",
         "y": [
          -5108.281670571712,
          -4653.572550884038,
          -4542.181472406768,
          -4194.11245457707,
          -3786.13364247153,
          -4006.880782404124,
          -4387.404636496325,
          -4400.042331000773,
          -4611.587648361573,
          -4339.707016425757,
          -6415.699536226249,
          -6141.763263553495,
          -6099.92651167516,
          -4804.2037003568,
          -5079.540930731746,
          -4807.665202226774,
          -5560.204679600003,
          -5202.090344164468,
          -4008.589012753901,
          -4439.122859420634,
          -4139.053044046939,
          -4210.491742797325,
          -5224.554435670843,
          -3324.816421778017,
          -4575.537648425253,
          -3378.544090547869,
          -5484.6746561210975,
          -6066.457122934575,
          -3130.9505393461022,
          -5613.71494647387,
          -3634.3413606407385,
          -5377.2290211162135,
          -4865.00440731728,
          -4917.675594824387,
          -6642.233640263946,
          -4030.4860762357503,
          -6080.299826048202,
          -5081.205331963823,
          -3863.0068749343077,
          -5658.529147335398,
          -4857.997302514553,
          -6111.705171395259,
          -6491.845916302064,
          -4286.405360287333,
          -2877.194607876878,
          4253.670268811264,
          -6274.3994076764575,
          -4085.38788854078,
          -5117.926369906292,
          -4416.577273256118,
          -5240.709879901141,
          -4543.481105344734,
          -4699.391527469765,
          -5910.595724540102,
          -4248.41099877993,
          -7172.334785619936,
          -5970.659605817778,
          -7198.063753004437,
          -5508.945169399095,
          -4266.484164687802,
          -5075.678351149005,
          -6443.1165674782,
          -5635.163544619186,
          -3524.6018820414943,
          -5439.902381792009,
          -4615.46212987063,
          -6552.893169384942,
          -4868.312164441829,
          -7950.1376799045365,
          -6286.356908964104,
          -3890.344796261255,
          -2897.4181107781196,
          -4683.440281859751,
          -5237.495032301002,
          -4762.4349126193365,
          -4443.169815276387,
          -4720.2489254083885,
          -3681.290385681804,
          -4687.76461949545,
          -5038.816440742177,
          -3156.174867738152,
          -1775.6050399833528,
          -4647.515091833699,
          -3401.0815217687787,
          -4507.818852759072,
          -3316.8737845198516,
          -4346.187741550611,
          -2733.1094851712646,
          -2672.911296966153,
          -5405.192380070511,
          -5918.696393593376,
          -3727.641222685245,
          -6422.065006311352,
          -6518.877743618625,
          -4846.280009746118,
          -5461.179044520954,
          -8209.63930809387,
          -2149.1522120766244,
          -2201.720436215355,
          -4354.880673536975,
          -4837.589604607753,
          -4792.820172444662,
          -5806.362366658898,
          -4122.472097486012,
          -6195.256515402726,
          -3266.650100279913,
          -5227.972306159951,
          -5195.925409188554,
          -5150.746928288212,
          -5771.827716588529,
          -3948.413153701507,
          -4541.161711915865,
          -4588.664684244311,
          -4164.858385743973,
          -5088.60831230161,
          -5591.4308623525085,
          -5198.651743783722,
          -4397.197322284792,
          -3288.464289351834,
          -5023.038755192274,
          -4117.836047019012,
          -4805.682520520937,
          -6711.005814772026,
          -5737.014216399172,
          -5654.54684838932,
          -5234.914435436246,
          -4054.252841897084,
          -3922.329207394542,
          -4587.056600403997,
          -6304.286871577942
         ],
         "yaxis": "y"
        },
        {
         "customdata": [
          [
           34
          ],
          [
           60
          ],
          [
           32
          ],
          [
           65
          ],
          [
           24
          ],
          [
           88
          ],
          [
           82
          ],
          [
           26
          ],
          [
           60
          ],
          [
           31
          ],
          [
           85
          ],
          [
           63
          ],
          [
           56
          ],
          [
           28
          ],
          [
           58
          ],
          [
           26
          ],
          [
           62
          ],
          [
           86
          ],
          [
           56
          ],
          [
           91
          ],
          [
           59
          ],
          [
           28
          ],
          [
           85
          ],
          [
           65
          ],
          [
           94
          ],
          [
           86
          ],
          [
           30
          ],
          [
           62
          ],
          [
           85
          ],
          [
           59
          ],
          [
           30
          ],
          [
           83
          ],
          [
           66
          ],
          [
           31
          ],
          [
           88
          ],
          [
           28
          ],
          [
           85
          ],
          [
           64
          ],
          [
           33
          ],
          [
           62
          ],
          [
           89
          ],
          [
           61
          ],
          [
           29
          ],
          [
           56
          ],
          [
           92
          ],
          [
           62
          ],
          [
           60
          ],
          [
           85
          ],
          [
           88
          ],
          [
           94
          ],
          [
           62
          ],
          [
           64
          ],
          [
           29
          ],
          [
           27
          ],
          [
           31
          ],
          [
           87
          ],
          [
           32
          ],
          [
           63
          ],
          [
           58
          ],
          [
           62
          ],
          [
           32
          ],
          [
           93
          ],
          [
           59
          ],
          [
           61
          ],
          [
           53
          ],
          [
           82
          ],
          [
           28
          ],
          [
           32
          ],
          [
           89
          ],
          [
           84
          ],
          [
           87
          ],
          [
           29
          ],
          [
           58
          ],
          [
           29
          ],
          [
           55
          ],
          [
           25
          ],
          [
           60
          ],
          [
           88
          ],
          [
           24
          ],
          [
           56
          ],
          [
           95
          ],
          [
           89
          ],
          [
           86
          ],
          [
           85
          ],
          [
           60
          ],
          [
           87
          ],
          [
           29
          ],
          [
           23
          ],
          [
           31
          ],
          [
           89
          ],
          [
           58
          ],
          [
           56
          ],
          [
           37
          ],
          [
           89
          ],
          [
           29
          ],
          [
           23
          ],
          [
           34
          ],
          [
           64
          ],
          [
           63
          ],
          [
           85
          ],
          [
           62
          ],
          [
           59
          ],
          [
           92
          ],
          [
           67
          ],
          [
           58
          ],
          [
           58
          ],
          [
           38
          ],
          [
           57
          ],
          [
           31
          ],
          [
           36
          ],
          [
           25
          ],
          [
           66
          ],
          [
           64
          ],
          [
           59
          ],
          [
           90
          ],
          [
           68
          ],
          [
           35
          ],
          [
           84
          ],
          [
           24
          ],
          [
           29
          ],
          [
           28
          ],
          [
           81
          ],
          [
           57
          ],
          [
           37
          ],
          [
           91
          ],
          [
           82
          ],
          [
           36
          ],
          [
           31
          ],
          [
           61
          ],
          [
           64
          ],
          [
           83
          ],
          [
           63
          ],
          [
           55
          ],
          [
           86
          ],
          [
           57
          ],
          [
           94
          ],
          [
           37
          ],
          [
           26
          ],
          [
           57
          ],
          [
           37
          ],
          [
           88
          ],
          [
           61
          ],
          [
           91
          ],
          [
           84
          ],
          [
           43
          ],
          [
           59
          ],
          [
           90
          ]
         ],
         "hoverlabel": {
          "namelength": 0
         },
         "hovertemplate": "Cluster=Cluster 1<br>PCA1=%{x}<br>PCA2=%{y}<br>Feature=%{customdata[0]}",
         "legendgroup": "Cluster=Cluster 1",
         "marker": {
          "color": "#EF553B",
          "opacity": 0.5,
          "symbol": "circle"
         },
         "mode": "markers",
         "name": "Cluster=Cluster 1",
         "showlegend": true,
         "textposition": "top center",
         "type": "scatter",
         "x": [
          -49206.0729792362,
          -54413.158553524736,
          -48754.553222931434,
          -50446.68725850558,
          -43231.47790879878,
          -63656.34758998013,
          -55368.984275680115,
          -48469.75822555577,
          -51191.18311026796,
          -39063.28667619091,
          -63634.72200273955,
          -49952.56386424755,
          -43811.472620393884,
          -36822.882729901066,
          -42594.24300193297,
          -53514.36608306822,
          -49610.67501015969,
          -28705.212826769803,
          -47927.756153353264,
          -45504.92821664386,
          -46897.28720484183,
          -56491.72616160142,
          -53103.8479128973,
          -50055.78756429356,
          -56854.24491468409,
          -48459.57885316466,
          -50029.048673484416,
          -53329.088908637925,
          -53484.99044797619,
          -49274.44239615929,
          -41272.8953398618,
          -48254.00622992489,
          -55116.83601816838,
          -58771.330100436164,
          -51459.51350546344,
          -57750.75774612389,
          -48448.18982139339,
          -39916.59061152688,
          -56820.08755360424,
          -42172.09142372813,
          -37510.58801132117,
          -42253.87287795822,
          -48890.162042831646,
          -43012.7697834914,
          -44821.27195537093,
          -46206.760709172864,
          -42432.645099662266,
          -48329.37521986343,
          -47000.1717087929,
          -48496.84792497304,
          -46522.91941975117,
          -39882.02333138302,
          -28723.991919566008,
          -37730.769340608174,
          -48762.364668271184,
          -50504.8231427377,
          -45508.35388587765,
          -46108.56441807311,
          -45148.062146087905,
          -58127.50387027001,
          -57495.82751822279,
          -56178.67327005175,
          -39708.646989663466,
          -45316.58140609555,
          -55300.438356116465,
          -51304.42079121019,
          -48867.33422412474,
          -47072.8327082788,
          -52350.13688160767,
          -42485.19893050838,
          -42546.30928703384,
          -52508.30353343573,
          -45053.501151340155,
          -53120.54070874581,
          -48031.600338698336,
          -57516.27318363642,
          -49855.36023906116,
          -38870.67264138034,
          -51858.95285225975,
          -49618.5642515839,
          -42334.047671506334,
          -53905.330808706676,
          -49083.98904448347,
          -47366.64939309712,
          -40276.44813108954,
          -44316.3909761365,
          -46888.40589877376,
          -41183.65207165711,
          -51006.62596717178,
          -46621.67518992086,
          -55003.11473536294,
          -40392.52353813574,
          -55837.89621255908,
          -57945.29400939378,
          -44891.72694017815,
          -33223.7879275869,
          -41229.0853264679,
          -48086.471615067814,
          -45889.16124528394,
          -39730.75492373197,
          -44207.36919669005,
          -52745.271995073825,
          -42152.502819378744,
          -52957.61629178097,
          -48338.70466261931,
          -56895.33602609464,
          -47591.225111219996,
          -52877.38164603336,
          -38257.012522678684,
          -45243.335995709785,
          -51590.97205811302,
          -57888.986937986156,
          -52219.78891026324,
          -39255.47386551346,
          -51240.79467490209,
          -47148.04950665259,
          -45489.12002421861,
          -60035.355735186306,
          -44680.893509319234,
          -47339.94733410826,
          -59885.183450800876,
          -41090.43271162365,
          -51335.69636219804,
          -53680.720585277886,
          -43219.57063079798,
          -58306.89374121131,
          -47490.05337363707,
          -42382.6988320362,
          -40724.156885096636,
          -44945.699014442995,
          -47271.41327624212,
          -40907.25147798809,
          -46752.171891149075,
          -42805.17469366227,
          -49640.5163339359,
          -47211.309218979404,
          -42194.79873495241,
          -57176.86780610604,
          -41047.376366850294,
          -47975.62989430368,
          -46294.69652581509,
          -45592.66271459645,
          -33685.82303783499,
          -41654.28537091672,
          -54957.49098917233,
          -47129.8441634206,
          -49427.52413702613
         ],
         "xaxis": "x",
         "y": [
          646.5438723752033,
          -1055.9968931753695,
          -3476.7575329414076,
          -1789.8310613735064,
          -2464.3665067293477,
          -672.1303645871002,
          -990.6075970316534,
          -975.0110199269376,
          -2999.0481368530072,
          -2178.9512608782666,
          -958.536564511077,
          -1016.3628176053365,
          -3844.0506429942834,
          -3004.1359250357314,
          -4573.135949676131,
          -3511.6505427575603,
          -2494.3460158547696,
          -2125.5165732968326,
          1139.067724989408,
          -1656.4250558163055,
          -1500.5997535503475,
          -1529.9495201383847,
          -1838.6646455566608,
          -458.73293797346946,
          -1039.8869670204508,
          -623.0248233972351,
          -2907.7981801354927,
          -3704.1152030668836,
          -2964.871161538945,
          -1819.141113343568,
          -2039.051945091478,
          -3586.392912339362,
          -3386.631387427837,
          -1946.425634881534,
          -1443.6312210611682,
          -1546.7860227984656,
          -424.49445160247075,
          -5860.406970913431,
          -2626.494760123042,
          -3482.950924420314,
          -2385.930673599972,
          -2813.4088657561038,
          -3117.0435724351246,
          -2388.3975155671865,
          -809.247850406614,
          -3972.4372911141963,
          -2804.3175987818177,
          -2106.956548531857,
          -3258.5927312494296,
          -1255.02312171752,
          -2395.150620327911,
          -3145.8388116696315,
          -1283.24934168422,
          -3447.5228656993527,
          -1902.3037525718132,
          -2541.104074402422,
          -1716.095751517995,
          -4704.900718140079,
          -918.4435413744579,
          -3329.4241557503906,
          -874.593832039625,
          -1450.7318688866635,
          -2812.640832274527,
          72.34189620852506,
          -2379.4453929525357,
          -1341.6421504993375,
          -3330.095089314263,
          -3652.143022077505,
          -1271.8366968001828,
          -1573.129333946469,
          -2323.9550250667417,
          -2003.379558614895,
          -3267.8530880659678,
          -2373.906852113616,
          -2520.879670925899,
          -2662.2379174130597,
          -2551.6409458673006,
          -4966.632983631629,
          -1998.314514884127,
          -1200.4987085747016,
          -946.4427010468281,
          776.7213551828802,
          -2706.9542458595424,
          -2226.523883594684,
          -3159.4030652887404,
          -1681.1078093986168,
          -1747.2845158743762,
          -2299.1775764582526,
          1229.634202103798,
          -1061.3928297006287,
          -1806.3716349634778,
          -1918.0706539765365,
          -2913.151326193392,
          -1690.2235244245417,
          -1059.5099705589166,
          -4327.599800404026,
          -559.8887343311569,
          -3267.6645334787445,
          -3656.860040523121,
          -3215.311753103619,
          -1788.5950192551397,
          -3270.2500120301265,
          -3595.426499455155,
          -512.1681616652364,
          -296.94791022013663,
          -219.83567344032116,
          -2876.016821854162,
          -1034.0462861180692,
          -3209.705699855122,
          -2386.7446703879714,
          -1709.6809922654045,
          -2297.4104284560167,
          -361.82287722906057,
          -2456.0624695072065,
          -337.58311029945867,
          -948.1700320034151,
          -857.2365574199125,
          -2067.7852022028587,
          -3320.2381091067423,
          -2756.210456765216,
          968.1821841701743,
          -2507.468037848859,
          -2253.324954790315,
          -1523.153182779477,
          -982.6374045457433,
          -1498.3070625904022,
          -1025.6556377131587,
          -1026.2178281219428,
          -3403.3549980948787,
          -2663.4363034143594,
          -1422.2632521531466,
          -2247.7230980697595,
          -4260.667936777424,
          -2383.923586492435,
          -2403.452656500528,
          -497.0287321468153,
          -2831.2449726497775,
          -500.3822260290366,
          163.0086019424056,
          -2697.480649636872,
          -3445.1407626668756,
          -1858.7415428672753,
          -2359.981060852438,
          -1284.2763352326017,
          -1273.0340909671552,
          -2166.9455265130255,
          -3282.4967836895175
         ],
         "yaxis": "y"
        },
        {
         "customdata": [
          [
           88
          ],
          [
           59
          ],
          [
           59
          ],
          [
           88
          ],
          [
           37
          ],
          [
           33
          ],
          [
           90
          ],
          [
           31
          ],
          [
           90
          ],
          [
           91
          ],
          [
           29
          ],
          [
           83
          ],
          [
           84
          ],
          [
           87
          ],
          [
           22
          ],
          [
           58
          ],
          [
           31
          ],
          [
           33
          ],
          [
           56
          ],
          [
           30
          ],
          [
           85
          ],
          [
           87
          ],
          [
           34
          ],
          [
           61
          ],
          [
           30
          ],
          [
           88
          ],
          [
           56
          ],
          [
           30
          ],
          [
           25
          ],
          [
           61
          ],
          [
           88
          ],
          [
           37
          ],
          [
           35
          ],
          [
           85
          ],
          [
           85
          ],
          [
           88
          ],
          [
           59
          ],
          [
           90
          ],
          [
           33
          ],
          [
           62
          ],
          [
           59
          ],
          [
           91
          ],
          [
           33
          ],
          [
           87
          ],
          [
           26
          ],
          [
           88
          ],
          [
           24
          ],
          [
           91
          ],
          [
           86
          ],
          [
           36
          ],
          [
           87
          ],
          [
           33
          ],
          [
           59
          ],
          [
           29
          ],
          [
           59
          ],
          [
           57
          ],
          [
           40
          ],
          [
           42
          ],
          [
           89
          ],
          [
           93
          ],
          [
           17
          ],
          [
           24
          ],
          [
           34
          ],
          [
           90
          ],
          [
           20
          ],
          [
           92
          ],
          [
           84
          ],
          [
           59
          ],
          [
           61
          ],
          [
           67
          ],
          [
           82
          ],
          [
           94
          ],
          [
           28
          ],
          [
           36
          ],
          [
           91
          ],
          [
           34
          ],
          [
           77
          ],
          [
           63
          ],
          [
           35
          ],
          [
           21
          ],
          [
           86
          ],
          [
           56
          ],
          [
           83
          ],
          [
           28
          ],
          [
           59
          ],
          [
           83
          ],
          [
           83
          ],
          [
           58
          ],
          [
           91
          ],
          [
           29
          ],
          [
           61
          ],
          [
           84
          ],
          [
           34
          ],
          [
           33
          ],
          [
           55
          ],
          [
           88
          ],
          [
           91
          ],
          [
           91
          ],
          [
           84
          ],
          [
           87
          ],
          [
           39
          ],
          [
           38
          ],
          [
           89
          ],
          [
           59
          ],
          [
           35
          ],
          [
           59
          ],
          [
           87
          ],
          [
           94
          ],
          [
           86
          ],
          [
           60
          ],
          [
           79
          ],
          [
           86
          ],
          [
           60
          ],
          [
           85
          ],
          [
           92
          ],
          [
           37
          ],
          [
           89
          ],
          [
           67
          ],
          [
           31
          ],
          [
           20
          ],
          [
           37
          ],
          [
           57
          ],
          [
           87
          ],
          [
           33
          ],
          [
           56
          ],
          [
           67
          ],
          [
           58
          ],
          [
           89
          ],
          [
           34
          ],
          [
           25
          ],
          [
           44
          ],
          [
           68
          ],
          [
           31
          ],
          [
           58
          ],
          [
           55
          ],
          [
           21
          ],
          [
           36
          ],
          [
           88
          ],
          [
           26
          ],
          [
           29
          ],
          [
           38
          ],
          [
           79
          ],
          [
           51
          ],
          [
           82
          ],
          [
           39
          ],
          [
           87
          ],
          [
           36
          ],
          [
           57
          ],
          [
           61
          ],
          [
           86
          ],
          [
           86
          ],
          [
           35
          ],
          [
           89
          ],
          [
           30
          ],
          [
           60
          ],
          [
           64
          ]
         ],
         "hoverlabel": {
          "namelength": 0
         },
         "hovertemplate": "Cluster=Cluster 2<br>PCA1=%{x}<br>PCA2=%{y}<br>Feature=%{customdata[0]}",
         "legendgroup": "Cluster=Cluster 2",
         "marker": {
          "color": "#00cc96",
          "opacity": 0.5,
          "symbol": "circle"
         },
         "mode": "markers",
         "name": "Cluster=Cluster 2",
         "showlegend": true,
         "textposition": "top center",
         "type": "scatter",
         "x": [
          3574.8676282851334,
          -1709.0067116984346,
          -6075.723945911875,
          5619.125538763621,
          -2220.6354506100633,
          -1755.3663563989924,
          5679.935032255562,
          -4114.665812502659,
          -4883.720561797811,
          -10371.487057071723,
          -5149.414552966316,
          4615.60458978389,
          1855.0479869186836,
          -967.1345292294847,
          7017.407229806946,
          -4794.730185972459,
          -811.2733012583016,
          5122.282562298918,
          -12402.614006035736,
          -7981.746810683438,
          2868.6753358918077,
          4968.7646458745685,
          7034.56699184688,
          -9176.939917160453,
          -805.5182840466955,
          -6214.354917756381,
          -7827.504392605751,
          -7225.656651496556,
          -6586.375015596338,
          -9270.983246113974,
          -1864.5940590614487,
          -9823.292971418665,
          3607.621847535446,
          1547.9124395594213,
          -3147.971690102405,
          -3197.770674931709,
          -3127.746475407193,
          -10419.650727093283,
          -4661.643199436443,
          3333.037008198894,
          -4588.845682887329,
          -1424.296852785254,
          -11770.09622190469,
          -7431.169946592949,
          -6270.130057704636,
          -5787.584457334289,
          -7793.211508914158,
          2555.784235160211,
          -5898.744479681148,
          -5327.512619806889,
          -1710.0091006297778,
          -2630.794135208179,
          1381.2925438038915,
          -10238.83792874304,
          -2329.6167597527683,
          -3536.624899618863,
          -11570.013629472294,
          -12594.175242128531,
          -3881.2792235448283,
          -9447.566957019657,
          -4595.725467462927,
          5567.478117111804,
          9121.208329826177,
          4848.442764387977,
          499.49661809613406,
          -4176.7226317043105,
          -6529.597912750263,
          -7423.928769536235,
          -9153.992100917838,
          4864.683651412995,
          -7249.02812979693,
          7325.256189492691,
          1198.215527285721,
          -6945.490220855903,
          -5628.983771409207,
          -6874.447300583783,
          3175.73010088768,
          -10072.875118803542,
          -5806.077052611819,
          -6051.7980271496435,
          11039.02694203171,
          -4972.92214112997,
          11129.424149229606,
          6644.597612798226,
          -611.892076683543,
          -879.6961231840203,
          1270.5926186365064,
          -3354.409395492048,
          -3652.0516272195223,
          1535.320034923854,
          3442.067865401046,
          1691.1469990055032,
          -9514.74212229377,
          -5495.930030665689,
          -11393.264281389042,
          -1006.7942808926996,
          -11385.807297750884,
          10499.407295945583,
          -5228.773548143096,
          -2009.7086141751695,
          -847.3002227743442,
          -13124.391604038408,
          -6112.701966838939,
          -14757.626854505606,
          -5414.451723823096,
          -4197.995995572508,
          -907.669087609121,
          4241.775895153043,
          -2601.869628345948,
          1797.8692846207534,
          -860.4354477953755,
          13091.374153516688,
          -4333.353171495323,
          106.44730782999291,
          -5414.849621380294,
          -1148.59271383632,
          834.6063416853485,
          -182.8750970628962,
          -12401.01261442263,
          384.4886537787794,
          -15876.014194933867,
          2392.951400013224,
          -4856.160277619087,
          -9604.976101231401,
          -3578.64116676373,
          3594.04242169083,
          -5713.304475031722,
          -7793.4543520865345,
          -18832.3230899951,
          277.3194547180345,
          2456.114942910887,
          3385.822049131318,
          -1867.50119520551,
          -4025.5345868614977,
          -5506.50477527731,
          1380.9095854822567,
          -1254.7961050822862,
          1223.3332842063558,
          -10817.514881421737,
          375.6120252474099,
          -18377.080919160893,
          -7740.904879089721,
          -9600.009525716896,
          -284.9346161317552,
          -15159.90191624568,
          -4335.121223668239,
          -3902.650760127411,
          -9955.599000501968,
          8122.080380415542,
          5073.487356522341,
          871.0561448640407,
          3735.222300120542,
          -8175.944783841653,
          -7927.279393999565,
          -3222.028497117644,
          2663.814142724259
         ],
         "xaxis": "x",
         "y": [
          6638.189488143047,
          3684.6952959403593,
          3500.596454313254,
          4314.803908984969,
          4177.140129281849,
          4273.2053018476345,
          4711.285967238693,
          3078.8964384945916,
          4688.370746949258,
          6211.274488459199,
          5556.666139133819,
          5713.442041909503,
          5468.743274286696,
          4638.724240674151,
          5588.800602998204,
          5174.470545977293,
          4771.515153180693,
          3424.0736039052877,
          4277.420432790429,
          3467.5659749114184,
          5223.642330390357,
          3943.117073633911,
          3374.2871342934272,
          7146.662858252779,
          4348.095679784136,
          8154.200533863807,
          5701.697575023512,
          4564.6176218553155,
          4795.659622307598,
          5996.549152653394,
          5267.3525532097765,
          6862.247572080607,
          4852.444518767336,
          3973.906997486512,
          5506.996622913861,
          5127.949261280454,
          5318.281993622224,
          5982.85822143913,
          4875.412034392041,
          4012.215493342313,
          4468.268102563842,
          7267.328542397003,
          5001.42078319685,
          6342.036901878027,
          5401.8216969671685,
          5711.6283932669685,
          6334.243251982047,
          5164.690387393574,
          5205.840154213878,
          5507.674538617933,
          5692.0917043594,
          5512.8098884721,
          5207.221097509009,
          7423.315368546433,
          6502.207882775593,
          5070.413098436325,
          6393.584927460234,
          5058.593507665865,
          3532.750801645636,
          6026.370137728771,
          4575.315245883314,
          6399.679457928577,
          4076.1888638584974,
          6716.38927008233,
          4450.5724650858,
          5121.94817799102,
          5174.060016070749,
          5595.425208078429,
          6237.455006749798,
          4834.953991865887,
          5030.1015099048445,
          5245.750156657963,
          6031.59778009812,
          5240.283697626604,
          3413.4609900340333,
          3266.4701832643786,
          4727.0798130553485,
          7033.832306225472,
          5686.132349951807,
          6221.683453940019,
          4384.687289531572,
          5053.974394482307,
          2451.3956456354913,
          6074.108821940037,
          2642.8564628733097,
          4574.029852480233,
          4918.861099714735,
          4039.0497082186075,
          4298.147934215798,
          6617.143404468857,
          3293.9257098257845,
          4305.605513370139,
          5484.06221013075,
          5033.927181148623,
          4760.726683836119,
          6827.73675228087,
          5239.83448625213,
          4092.5868105824966,
          4906.8213691170085,
          4571.311601888514,
          5435.293808150465,
          5122.298575466132,
          7150.2656862042095,
          5008.012103778606,
          6401.496850378555,
          4646.423038232094,
          4662.571801362162,
          4854.373611538006,
          5720.063910631848,
          3616.906622264861,
          1366.2175061913888,
          3878.0740056043537,
          6791.1217279871325,
          5019.545071865859,
          4509.37894804773,
          6154.518606181515,
          5141.10136743259,
          4411.324353776285,
          6731.622371228142,
          6845.14181437128,
          7337.4625843307695,
          5992.684094109708,
          6861.841710581504,
          5517.456998799792,
          4687.331305792246,
          5244.223767536206,
          6098.407171499209,
          5788.853893383748,
          6823.253328040565,
          5152.077722121314,
          5539.978254276126,
          4513.159427781256,
          2685.662685436794,
          5644.55219961427,
          6298.430178867734,
          5567.112673818731,
          6380.9154942927935,
          5666.367954752701,
          6677.482101590937,
          5049.606296947774,
          5086.374324713103,
          5133.639471687387,
          4923.281603355222,
          4064.008336080808,
          5573.243592768727,
          2658.297518890412,
          5499.339332721766,
          4085.3122504461207,
          4731.012058760929,
          5244.436809348917,
          5689.000453091911,
          4370.467828822717,
          5599.274828311294,
          5673.527728610804,
          4129.181189416356,
          3399.120354730324
         ],
         "yaxis": "y"
        },
        {
         "customdata": [
          [
           37
          ],
          [
           65
          ],
          [
           90
          ],
          [
           59
          ],
          [
           29
          ],
          [
           58
          ],
          [
           88
          ],
          [
           63
          ],
          [
           92
          ],
          [
           17
          ],
          [
           34
          ],
          [
           22
          ],
          [
           24
          ],
          [
           36
          ],
          [
           34
          ],
          [
           87
          ],
          [
           85
          ],
          [
           61
          ],
          [
           27
          ],
          [
           59
          ],
          [
           31
          ],
          [
           31
          ],
          [
           93
          ],
          [
           17
          ],
          [
           35
          ],
          [
           28
          ],
          [
           94
          ],
          [
           28
          ],
          [
           33
          ],
          [
           56
          ],
          [
           28
          ],
          [
           86
          ],
          [
           92
          ],
          [
           18
          ],
          [
           61
          ],
          [
           32
          ],
          [
           63
          ],
          [
           58
          ],
          [
           31
          ],
          [
           62
          ],
          [
           60
          ],
          [
           62
          ],
          [
           90
          ],
          [
           33
          ],
          [
           33
          ],
          [
           65
          ],
          [
           59
          ],
          [
           65
          ],
          [
           86
          ],
          [
           32
          ],
          [
           84
          ],
          [
           84
          ],
          [
           90
          ],
          [
           91
          ],
          [
           26
          ],
          [
           92
          ],
          [
           97
          ],
          [
           84
          ],
          [
           58
          ],
          [
           61
          ],
          [
           92
          ],
          [
           87
          ],
          [
           66
          ],
          [
           22
          ],
          [
           91
          ],
          [
           30
          ],
          [
           25
          ],
          [
           28
          ],
          [
           93
          ],
          [
           90
          ],
          [
           91
          ],
          [
           89
          ]
         ],
         "hoverlabel": {
          "namelength": 0
         },
         "hovertemplate": "Cluster=Cluster 3<br>PCA1=%{x}<br>PCA2=%{y}<br>Feature=%{customdata[0]}",
         "legendgroup": "Cluster=Cluster 3",
         "marker": {
          "color": "#ab63fa",
          "opacity": 0.5,
          "symbol": "circle"
         },
         "mode": "markers",
         "name": "Cluster=Cluster 3",
         "showlegend": true,
         "textposition": "top center",
         "type": "scatter",
         "x": [
          48551.89779119264,
          42414.13984409395,
          46271.74999066812,
          48029.235982960905,
          62912.45709780569,
          43629.012739237565,
          55587.351730733586,
          56651.45548374747,
          41328.252663309984,
          43861.74709102553,
          53899.234059979586,
          44952.90203538896,
          47549.76254622708,
          47842.883679066494,
          59798.17482849972,
          47182.06858155583,
          51395.22435599951,
          57857.28905692229,
          47415.38916240532,
          58984.55027496727,
          48410.00929047232,
          55168.451545061886,
          59803.04557919302,
          53976.79000263131,
          56449.67813828142,
          46993.641087908414,
          53422.55248570126,
          41580.27174463825,
          47836.44839182685,
          48602.571111840196,
          52465.033586659905,
          52263.49410874446,
          50433.85138453336,
          51532.4700584045,
          46000.80248469955,
          63317.06653244292,
          52086.38065892723,
          50397.083897731354,
          43600.21618030976,
          54542.560260911276,
          52679.13742245063,
          54778.91990969145,
          45728.401144344105,
          59239.85352839814,
          41859.154369975615,
          48281.9647640219,
          54230.31142047661,
          49923.23240258631,
          48577.24594456371,
          45920.30384600762,
          45302.570904167456,
          55809.60825993981,
          43084.4313010684,
          48697.32854440995,
          50874.59373315187,
          44074.744322679486,
          47210.61128412961,
          52844.21454083216,
          47518.88131856792,
          53924.59703955878,
          42157.80542870101,
          66750.62108457653,
          45280.296457487624,
          61617.256021857225,
          61085.161815426916,
          41933.8763490921,
          55783.42885801492,
          42045.79570257142,
          55795.997914963955,
          45049.71303774848,
          59196.59308633912,
          47964.55226138695
         ],
         "xaxis": "x",
         "y": [
          4668.214697412172,
          -5432.2818195096415,
          4207.414796612182,
          5422.323757682562,
          5261.355213266389,
          -6254.840941209123,
          3427.1351952588093,
          4271.292185091135,
          -4823.645899335596,
          -6877.035883382065,
          3176.746885409089,
          -4985.514801220396,
          3437.89648239478,
          4758.188729714915,
          4315.7517925590655,
          -4557.716601791875,
          5657.241494980817,
          5717.501137167643,
          4709.388807631826,
          3350.7116179336454,
          -5693.665441157447,
          4016.981622201614,
          8450.30756249261,
          5488.389984582107,
          5101.39869736752,
          -4647.12908858865,
          3894.235479127748,
          -5615.56077240864,
          6059.9833233745485,
          6249.537360930083,
          3371.5330650130986,
          5916.358054129831,
          -6854.206134077956,
          6006.733833662532,
          3884.452851319083,
          4946.1775101205085,
          3388.4270346813746,
          2890.5509685647035,
          -5657.4788315200085,
          4193.8829993723075,
          -4749.057025715363,
          4629.791365281097,
          3658.306501252221,
          4745.144589124807,
          -4543.326267067195,
          8499.966944599808,
          3238.428770323685,
          6048.724079227707,
          -6305.30775967273,
          -4953.92112942336,
          3778.181421309605,
          3879.149733262657,
          -4660.855622444509,
          5282.497809754306,
          -5178.052813440071,
          -6307.669140625978,
          6674.234677495916,
          -5677.667475551912,
          4941.99936297327,
          5765.842845736465,
          -5954.454601851142,
          2693.0081866217515,
          4437.356566167739,
          6726.313750520612,
          4243.721728508764,
          4717.997205237609,
          4732.087714707707,
          -3106.103475868357,
          4252.897540706996,
          4590.8725834561055,
          3903.9749268153687,
          -4397.186114919677
         ],
         "yaxis": "y"
        }
       ],
       "layout": {
        "height": 600,
        "legend": {
         "tracegroupgap": 0
        },
        "margin": {
         "t": 60
        },
        "plot_bgcolor": "rgb(240,240,240)",
        "template": {
         "data": {
          "bar": [
           {
            "error_x": {
             "color": "#2a3f5f"
            },
            "error_y": {
             "color": "#2a3f5f"
            },
            "marker": {
             "line": {
              "color": "#E5ECF6",
              "width": 0.5
             }
            },
            "type": "bar"
           }
          ],
          "barpolar": [
           {
            "marker": {
             "line": {
              "color": "#E5ECF6",
              "width": 0.5
             }
            },
            "type": "barpolar"
           }
          ],
          "carpet": [
           {
            "aaxis": {
             "endlinecolor": "#2a3f5f",
             "gridcolor": "white",
             "linecolor": "white",
             "minorgridcolor": "white",
             "startlinecolor": "#2a3f5f"
            },
            "baxis": {
             "endlinecolor": "#2a3f5f",
             "gridcolor": "white",
             "linecolor": "white",
             "minorgridcolor": "white",
             "startlinecolor": "#2a3f5f"
            },
            "type": "carpet"
           }
          ],
          "choropleth": [
           {
            "colorbar": {
             "outlinewidth": 0,
             "ticks": ""
            },
            "type": "choropleth"
           }
          ],
          "contour": [
           {
            "colorbar": {
             "outlinewidth": 0,
             "ticks": ""
            },
            "colorscale": [
             [
              0,
              "#0d0887"
             ],
             [
              0.1111111111111111,
              "#46039f"
             ],
             [
              0.2222222222222222,
              "#7201a8"
             ],
             [
              0.3333333333333333,
              "#9c179e"
             ],
             [
              0.4444444444444444,
              "#bd3786"
             ],
             [
              0.5555555555555556,
              "#d8576b"
             ],
             [
              0.6666666666666666,
              "#ed7953"
             ],
             [
              0.7777777777777778,
              "#fb9f3a"
             ],
             [
              0.8888888888888888,
              "#fdca26"
             ],
             [
              1,
              "#f0f921"
             ]
            ],
            "type": "contour"
           }
          ],
          "contourcarpet": [
           {
            "colorbar": {
             "outlinewidth": 0,
             "ticks": ""
            },
            "type": "contourcarpet"
           }
          ],
          "heatmap": [
           {
            "colorbar": {
             "outlinewidth": 0,
             "ticks": ""
            },
            "colorscale": [
             [
              0,
              "#0d0887"
             ],
             [
              0.1111111111111111,
              "#46039f"
             ],
             [
              0.2222222222222222,
              "#7201a8"
             ],
             [
              0.3333333333333333,
              "#9c179e"
             ],
             [
              0.4444444444444444,
              "#bd3786"
             ],
             [
              0.5555555555555556,
              "#d8576b"
             ],
             [
              0.6666666666666666,
              "#ed7953"
             ],
             [
              0.7777777777777778,
              "#fb9f3a"
             ],
             [
              0.8888888888888888,
              "#fdca26"
             ],
             [
              1,
              "#f0f921"
             ]
            ],
            "type": "heatmap"
           }
          ],
          "heatmapgl": [
           {
            "colorbar": {
             "outlinewidth": 0,
             "ticks": ""
            },
            "colorscale": [
             [
              0,
              "#0d0887"
             ],
             [
              0.1111111111111111,
              "#46039f"
             ],
             [
              0.2222222222222222,
              "#7201a8"
             ],
             [
              0.3333333333333333,
              "#9c179e"
             ],
             [
              0.4444444444444444,
              "#bd3786"
             ],
             [
              0.5555555555555556,
              "#d8576b"
             ],
             [
              0.6666666666666666,
              "#ed7953"
             ],
             [
              0.7777777777777778,
              "#fb9f3a"
             ],
             [
              0.8888888888888888,
              "#fdca26"
             ],
             [
              1,
              "#f0f921"
             ]
            ],
            "type": "heatmapgl"
           }
          ],
          "histogram": [
           {
            "marker": {
             "colorbar": {
              "outlinewidth": 0,
              "ticks": ""
             }
            },
            "type": "histogram"
           }
          ],
          "histogram2d": [
           {
            "colorbar": {
             "outlinewidth": 0,
             "ticks": ""
            },
            "colorscale": [
             [
              0,
              "#0d0887"
             ],
             [
              0.1111111111111111,
              "#46039f"
             ],
             [
              0.2222222222222222,
              "#7201a8"
             ],
             [
              0.3333333333333333,
              "#9c179e"
             ],
             [
              0.4444444444444444,
              "#bd3786"
             ],
             [
              0.5555555555555556,
              "#d8576b"
             ],
             [
              0.6666666666666666,
              "#ed7953"
             ],
             [
              0.7777777777777778,
              "#fb9f3a"
             ],
             [
              0.8888888888888888,
              "#fdca26"
             ],
             [
              1,
              "#f0f921"
             ]
            ],
            "type": "histogram2d"
           }
          ],
          "histogram2dcontour": [
           {
            "colorbar": {
             "outlinewidth": 0,
             "ticks": ""
            },
            "colorscale": [
             [
              0,
              "#0d0887"
             ],
             [
              0.1111111111111111,
              "#46039f"
             ],
             [
              0.2222222222222222,
              "#7201a8"
             ],
             [
              0.3333333333333333,
              "#9c179e"
             ],
             [
              0.4444444444444444,
              "#bd3786"
             ],
             [
              0.5555555555555556,
              "#d8576b"
             ],
             [
              0.6666666666666666,
              "#ed7953"
             ],
             [
              0.7777777777777778,
              "#fb9f3a"
             ],
             [
              0.8888888888888888,
              "#fdca26"
             ],
             [
              1,
              "#f0f921"
             ]
            ],
            "type": "histogram2dcontour"
           }
          ],
          "mesh3d": [
           {
            "colorbar": {
             "outlinewidth": 0,
             "ticks": ""
            },
            "type": "mesh3d"
           }
          ],
          "parcoords": [
           {
            "line": {
             "colorbar": {
              "outlinewidth": 0,
              "ticks": ""
             }
            },
            "type": "parcoords"
           }
          ],
          "pie": [
           {
            "automargin": true,
            "type": "pie"
           }
          ],
          "scatter": [
           {
            "marker": {
             "colorbar": {
              "outlinewidth": 0,
              "ticks": ""
             }
            },
            "type": "scatter"
           }
          ],
          "scatter3d": [
           {
            "line": {
             "colorbar": {
              "outlinewidth": 0,
              "ticks": ""
             }
            },
            "marker": {
             "colorbar": {
              "outlinewidth": 0,
              "ticks": ""
             }
            },
            "type": "scatter3d"
           }
          ],
          "scattercarpet": [
           {
            "marker": {
             "colorbar": {
              "outlinewidth": 0,
              "ticks": ""
             }
            },
            "type": "scattercarpet"
           }
          ],
          "scattergeo": [
           {
            "marker": {
             "colorbar": {
              "outlinewidth": 0,
              "ticks": ""
             }
            },
            "type": "scattergeo"
           }
          ],
          "scattergl": [
           {
            "marker": {
             "colorbar": {
              "outlinewidth": 0,
              "ticks": ""
             }
            },
            "type": "scattergl"
           }
          ],
          "scattermapbox": [
           {
            "marker": {
             "colorbar": {
              "outlinewidth": 0,
              "ticks": ""
             }
            },
            "type": "scattermapbox"
           }
          ],
          "scatterpolar": [
           {
            "marker": {
             "colorbar": {
              "outlinewidth": 0,
              "ticks": ""
             }
            },
            "type": "scatterpolar"
           }
          ],
          "scatterpolargl": [
           {
            "marker": {
             "colorbar": {
              "outlinewidth": 0,
              "ticks": ""
             }
            },
            "type": "scatterpolargl"
           }
          ],
          "scatterternary": [
           {
            "marker": {
             "colorbar": {
              "outlinewidth": 0,
              "ticks": ""
             }
            },
            "type": "scatterternary"
           }
          ],
          "surface": [
           {
            "colorbar": {
             "outlinewidth": 0,
             "ticks": ""
            },
            "colorscale": [
             [
              0,
              "#0d0887"
             ],
             [
              0.1111111111111111,
              "#46039f"
             ],
             [
              0.2222222222222222,
              "#7201a8"
             ],
             [
              0.3333333333333333,
              "#9c179e"
             ],
             [
              0.4444444444444444,
              "#bd3786"
             ],
             [
              0.5555555555555556,
              "#d8576b"
             ],
             [
              0.6666666666666666,
              "#ed7953"
             ],
             [
              0.7777777777777778,
              "#fb9f3a"
             ],
             [
              0.8888888888888888,
              "#fdca26"
             ],
             [
              1,
              "#f0f921"
             ]
            ],
            "type": "surface"
           }
          ],
          "table": [
           {
            "cells": {
             "fill": {
              "color": "#EBF0F8"
             },
             "line": {
              "color": "white"
             }
            },
            "header": {
             "fill": {
              "color": "#C8D4E3"
             },
             "line": {
              "color": "white"
             }
            },
            "type": "table"
           }
          ]
         },
         "layout": {
          "annotationdefaults": {
           "arrowcolor": "#2a3f5f",
           "arrowhead": 0,
           "arrowwidth": 1
          },
          "coloraxis": {
           "colorbar": {
            "outlinewidth": 0,
            "ticks": ""
           }
          },
          "colorscale": {
           "diverging": [
            [
             0,
             "#8e0152"
            ],
            [
             0.1,
             "#c51b7d"
            ],
            [
             0.2,
             "#de77ae"
            ],
            [
             0.3,
             "#f1b6da"
            ],
            [
             0.4,
             "#fde0ef"
            ],
            [
             0.5,
             "#f7f7f7"
            ],
            [
             0.6,
             "#e6f5d0"
            ],
            [
             0.7,
             "#b8e186"
            ],
            [
             0.8,
             "#7fbc41"
            ],
            [
             0.9,
             "#4d9221"
            ],
            [
             1,
             "#276419"
            ]
           ],
           "sequential": [
            [
             0,
             "#0d0887"
            ],
            [
             0.1111111111111111,
             "#46039f"
            ],
            [
             0.2222222222222222,
             "#7201a8"
            ],
            [
             0.3333333333333333,
             "#9c179e"
            ],
            [
             0.4444444444444444,
             "#bd3786"
            ],
            [
             0.5555555555555556,
             "#d8576b"
            ],
            [
             0.6666666666666666,
             "#ed7953"
            ],
            [
             0.7777777777777778,
             "#fb9f3a"
            ],
            [
             0.8888888888888888,
             "#fdca26"
            ],
            [
             1,
             "#f0f921"
            ]
           ],
           "sequentialminus": [
            [
             0,
             "#0d0887"
            ],
            [
             0.1111111111111111,
             "#46039f"
            ],
            [
             0.2222222222222222,
             "#7201a8"
            ],
            [
             0.3333333333333333,
             "#9c179e"
            ],
            [
             0.4444444444444444,
             "#bd3786"
            ],
            [
             0.5555555555555556,
             "#d8576b"
            ],
            [
             0.6666666666666666,
             "#ed7953"
            ],
            [
             0.7777777777777778,
             "#fb9f3a"
            ],
            [
             0.8888888888888888,
             "#fdca26"
            ],
            [
             1,
             "#f0f921"
            ]
           ]
          },
          "colorway": [
           "#636efa",
           "#EF553B",
           "#00cc96",
           "#ab63fa",
           "#FFA15A",
           "#19d3f3",
           "#FF6692",
           "#B6E880",
           "#FF97FF",
           "#FECB52"
          ],
          "font": {
           "color": "#2a3f5f"
          },
          "geo": {
           "bgcolor": "white",
           "lakecolor": "white",
           "landcolor": "#E5ECF6",
           "showlakes": true,
           "showland": true,
           "subunitcolor": "white"
          },
          "hoverlabel": {
           "align": "left"
          },
          "hovermode": "closest",
          "mapbox": {
           "style": "light"
          },
          "paper_bgcolor": "white",
          "plot_bgcolor": "#E5ECF6",
          "polar": {
           "angularaxis": {
            "gridcolor": "white",
            "linecolor": "white",
            "ticks": ""
           },
           "bgcolor": "#E5ECF6",
           "radialaxis": {
            "gridcolor": "white",
            "linecolor": "white",
            "ticks": ""
           }
          },
          "scene": {
           "xaxis": {
            "backgroundcolor": "#E5ECF6",
            "gridcolor": "white",
            "gridwidth": 2,
            "linecolor": "white",
            "showbackground": true,
            "ticks": "",
            "zerolinecolor": "white"
           },
           "yaxis": {
            "backgroundcolor": "#E5ECF6",
            "gridcolor": "white",
            "gridwidth": 2,
            "linecolor": "white",
            "showbackground": true,
            "ticks": "",
            "zerolinecolor": "white"
           },
           "zaxis": {
            "backgroundcolor": "#E5ECF6",
            "gridcolor": "white",
            "gridwidth": 2,
            "linecolor": "white",
            "showbackground": true,
            "ticks": "",
            "zerolinecolor": "white"
           }
          },
          "shapedefaults": {
           "line": {
            "color": "#2a3f5f"
           }
          },
          "ternary": {
           "aaxis": {
            "gridcolor": "white",
            "linecolor": "white",
            "ticks": ""
           },
           "baxis": {
            "gridcolor": "white",
            "linecolor": "white",
            "ticks": ""
           },
           "bgcolor": "#E5ECF6",
           "caxis": {
            "gridcolor": "white",
            "linecolor": "white",
            "ticks": ""
           }
          },
          "title": {
           "x": 0.05
          },
          "xaxis": {
           "automargin": true,
           "gridcolor": "white",
           "linecolor": "white",
           "ticks": "",
           "title": {
            "standoff": 15
           },
           "zerolinecolor": "white",
           "zerolinewidth": 2
          },
          "yaxis": {
           "automargin": true,
           "gridcolor": "white",
           "linecolor": "white",
           "ticks": "",
           "title": {
            "standoff": 15
           },
           "zerolinecolor": "white",
           "zerolinewidth": 2
          }
         }
        },
        "title": {
         "text": "2D Cluster PCA Plot"
        },
        "xaxis": {
         "anchor": "y",
         "domain": [
          0,
          1
         ],
         "title": {
          "text": "PCA1"
         }
        },
        "yaxis": {
         "anchor": "x",
         "domain": [
          0,
          1
         ],
         "title": {
          "text": "PCA2"
         }
        }
       }
      },
      "text/html": "<div>\n        \n        \n            <div id=\"fb374f96-0c9f-4804-bfec-05f1ccfd7b4c\" class=\"plotly-graph-div\" style=\"height:600px; width:100%;\"></div>\n            <script type=\"text/javascript\">\n                require([\"plotly\"], function(Plotly) {\n                    window.PLOTLYENV=window.PLOTLYENV || {};\n                    \n                if (document.getElementById(\"fb374f96-0c9f-4804-bfec-05f1ccfd7b4c\")) {\n                    Plotly.newPlot(\n                        'fb374f96-0c9f-4804-bfec-05f1ccfd7b4c',\n                        [{\"customdata\": [[58], [59], [62], [59], [87], [29], [54], [87], [83], [84], [85], [36], [30], [31], [61], [92], [55], [87], [82], [88], [30], [84], [53], [91], [89], [30], [17], [55], [90], [61], [59], [59], [88], [56], [33], [61], [84], [61], [39], [31], [60], [87], [20], [57], [61], [18], [83], [25], [31], [55], [84], [36], [27], [91], [53], [91], [25], [83], [87], [90], [83], [83], [83], [61], [64], [62], [91], [28], [23], [55], [58], [31], [83], [91], [30], [57], [33], [59], [58], [29], [59], [84], [64], [87], [88], [35], [34], [58], [56], [63], [58], [60], [24], [94], [58], [25], [36], [62], [66], [37], [27], [24], [31], [23], [34], [88], [89], [32], [38], [57], [90], [33], [66], [35], [31], [35], [63], [30], [22], [84], [28], [88], [84], [88], [35], [82], [64], [91], [62], [62]], \"hoverlabel\": {\"namelength\": 0}, \"hovertemplate\": \"Cluster=Cluster 0<br>PCA1=%{x}<br>PCA2=%{y}<br>Feature=%{customdata[0]}\", \"legendgroup\": \"Cluster=Cluster 0\", \"marker\": {\"color\": \"#636efa\", \"opacity\": 0.5, \"symbol\": \"circle\"}, \"mode\": \"markers\", \"name\": \"Cluster=Cluster 0\", \"showlegend\": true, \"textposition\": \"top center\", \"type\": \"scatter\", \"x\": [34815.25492053794, 23896.368807904077, 26578.153196266176, 28681.54988758575, 26003.522431925616, 31202.41268247607, 33217.92661094808, 22236.169474372266, 20592.346613007758, 39135.37622313006, 35036.7158554872, 31317.298064553706, 18943.372817813026, 20486.140695945447, 34834.90179466, 35572.715386853546, 30806.77634195278, 39399.40138181148, 34753.148485730795, 23022.21826312664, 33379.42058468908, 29861.546669621446, 28912.89513619994, 28627.259856400302, 37228.73474520067, 24491.38889864472, 26507.042872359903, 32691.869561685715, 28639.385002450483, 23196.213306438225, 32289.540207166643, 34830.86603735357, 31016.952770667864, 30268.705481263292, 40419.57669510415, 37194.90227907419, 33345.156271231164, 31502.360342968223, 26343.67867390246, 32561.025360063293, 23858.59824002341, 36008.725359122305, 30155.334159636983, 26312.372968927517, 16918.676201100116, 15177.319714667685, 30950.101839682382, 23748.677815454044, 23392.942046850578, 35023.21627080028, 29240.509748648103, 35711.07999432944, 19785.994393274665, 32853.062283695246, 30836.97830762744, 26023.566351406153, 27412.69140542122, 38543.62512292872, 32149.921292682862, 26228.37628643618, 34060.87750047382, 24819.360949497743, 31330.343984524774, 27758.387575808203, 28960.634964946767, 36813.767134203954, 33203.842568888016, 27456.913266673106, 31960.754514207256, 29210.556946439687, 36260.39985707387, 26983.046364278183, 37939.71700891234, 39941.23737509613, 30614.165778553554, 38938.11813871435, 23470.84703332801, 32322.908553122463, 26071.98118135924, 34360.481807350574, 24294.80847834632, 14006.000965365389, 25765.790042328346, 32307.93672914093, 25328.069962281672, 32416.93987389553, 22105.034591078245, 30046.48908092605, 31911.00123936632, 22350.769816321557, 23967.006087975617, 30148.68267391608, 41298.63129283506, 25363.91922672041, 25732.344972190545, 23032.680124651262, 38847.16976776082, 15764.491431415814, 32345.708428700582, 31045.220255678785, 31361.085267799142, 31253.46853044942, 32210.979768642395, 35758.275435536685, 35579.20581580633, 19295.267686809555, 21973.307950443814, 22258.60866856989, 22393.417730180117, 40673.85964432745, 31614.442565419093, 25474.40276379727, 32912.892063315834, 35187.91053468465, 24827.97878054596, 40849.48059769063, 30584.124615113244, 30949.636901997932, 24613.751980326113, 26298.14841024671, 38869.649452671685, 39513.27355543244, 32572.75027236617, 22224.556143435275, 32797.643669354926, 21900.785300032756, 25938.050496756237, 25376.693266073147, 19017.16946491749, 24706.128352845157], \"xaxis\": \"x\", \"y\": [-5108.281670571712, -4653.572550884038, -4542.181472406768, -4194.11245457707, -3786.13364247153, -4006.880782404124, -4387.404636496325, -4400.042331000773, -4611.587648361573, -4339.707016425757, -6415.699536226249, -6141.763263553495, -6099.92651167516, -4804.2037003568, -5079.540930731746, -4807.665202226774, -5560.204679600003, -5202.090344164468, -4008.589012753901, -4439.122859420634, -4139.053044046939, -4210.491742797325, -5224.554435670843, -3324.816421778017, -4575.537648425253, -3378.544090547869, -5484.6746561210975, -6066.457122934575, -3130.9505393461022, -5613.71494647387, -3634.3413606407385, -5377.2290211162135, -4865.00440731728, -4917.675594824387, -6642.233640263946, -4030.4860762357503, -6080.299826048202, -5081.205331963823, -3863.0068749343077, -5658.529147335398, -4857.997302514553, -6111.705171395259, -6491.845916302064, -4286.405360287333, -2877.194607876878, 4253.670268811264, -6274.3994076764575, -4085.38788854078, -5117.926369906292, -4416.577273256118, -5240.709879901141, -4543.481105344734, -4699.391527469765, -5910.595724540102, -4248.41099877993, -7172.334785619936, -5970.659605817778, -7198.063753004437, -5508.945169399095, -4266.484164687802, -5075.678351149005, -6443.1165674782, -5635.163544619186, -3524.6018820414943, -5439.902381792009, -4615.46212987063, -6552.893169384942, -4868.312164441829, -7950.1376799045365, -6286.356908964104, -3890.344796261255, -2897.4181107781196, -4683.440281859751, -5237.495032301002, -4762.4349126193365, -4443.169815276387, -4720.2489254083885, -3681.290385681804, -4687.76461949545, -5038.816440742177, -3156.174867738152, -1775.6050399833528, -4647.515091833699, -3401.0815217687787, -4507.818852759072, -3316.8737845198516, -4346.187741550611, -2733.1094851712646, -2672.911296966153, -5405.192380070511, -5918.696393593376, -3727.641222685245, -6422.065006311352, -6518.877743618625, -4846.280009746118, -5461.179044520954, -8209.63930809387, -2149.1522120766244, -2201.720436215355, -4354.880673536975, -4837.589604607753, -4792.820172444662, -5806.362366658898, -4122.472097486012, -6195.256515402726, -3266.650100279913, -5227.972306159951, -5195.925409188554, -5150.746928288212, -5771.827716588529, -3948.413153701507, -4541.161711915865, -4588.664684244311, -4164.858385743973, -5088.60831230161, -5591.4308623525085, -5198.651743783722, -4397.197322284792, -3288.464289351834, -5023.038755192274, -4117.836047019012, -4805.682520520937, -6711.005814772026, -5737.014216399172, -5654.54684838932, -5234.914435436246, -4054.252841897084, -3922.329207394542, -4587.056600403997, -6304.286871577942], \"yaxis\": \"y\"}, {\"customdata\": [[34], [60], [32], [65], [24], [88], [82], [26], [60], [31], [85], [63], [56], [28], [58], [26], [62], [86], [56], [91], [59], [28], [85], [65], [94], [86], [30], [62], [85], [59], [30], [83], [66], [31], [88], [28], [85], [64], [33], [62], [89], [61], [29], [56], [92], [62], [60], [85], [88], [94], [62], [64], [29], [27], [31], [87], [32], [63], [58], [62], [32], [93], [59], [61], [53], [82], [28], [32], [89], [84], [87], [29], [58], [29], [55], [25], [60], [88], [24], [56], [95], [89], [86], [85], [60], [87], [29], [23], [31], [89], [58], [56], [37], [89], [29], [23], [34], [64], [63], [85], [62], [59], [92], [67], [58], [58], [38], [57], [31], [36], [25], [66], [64], [59], [90], [68], [35], [84], [24], [29], [28], [81], [57], [37], [91], [82], [36], [31], [61], [64], [83], [63], [55], [86], [57], [94], [37], [26], [57], [37], [88], [61], [91], [84], [43], [59], [90]], \"hoverlabel\": {\"namelength\": 0}, \"hovertemplate\": \"Cluster=Cluster 1<br>PCA1=%{x}<br>PCA2=%{y}<br>Feature=%{customdata[0]}\", \"legendgroup\": \"Cluster=Cluster 1\", \"marker\": {\"color\": \"#EF553B\", \"opacity\": 0.5, \"symbol\": \"circle\"}, \"mode\": \"markers\", \"name\": \"Cluster=Cluster 1\", \"showlegend\": true, \"textposition\": \"top center\", \"type\": \"scatter\", \"x\": [-49206.0729792362, -54413.158553524736, -48754.553222931434, -50446.68725850558, -43231.47790879878, -63656.34758998013, -55368.984275680115, -48469.75822555577, -51191.18311026796, -39063.28667619091, -63634.72200273955, -49952.56386424755, -43811.472620393884, -36822.882729901066, -42594.24300193297, -53514.36608306822, -49610.67501015969, -28705.212826769803, -47927.756153353264, -45504.92821664386, -46897.28720484183, -56491.72616160142, -53103.8479128973, -50055.78756429356, -56854.24491468409, -48459.57885316466, -50029.048673484416, -53329.088908637925, -53484.99044797619, -49274.44239615929, -41272.8953398618, -48254.00622992489, -55116.83601816838, -58771.330100436164, -51459.51350546344, -57750.75774612389, -48448.18982139339, -39916.59061152688, -56820.08755360424, -42172.09142372813, -37510.58801132117, -42253.87287795822, -48890.162042831646, -43012.7697834914, -44821.27195537093, -46206.760709172864, -42432.645099662266, -48329.37521986343, -47000.1717087929, -48496.84792497304, -46522.91941975117, -39882.02333138302, -28723.991919566008, -37730.769340608174, -48762.364668271184, -50504.8231427377, -45508.35388587765, -46108.56441807311, -45148.062146087905, -58127.50387027001, -57495.82751822279, -56178.67327005175, -39708.646989663466, -45316.58140609555, -55300.438356116465, -51304.42079121019, -48867.33422412474, -47072.8327082788, -52350.13688160767, -42485.19893050838, -42546.30928703384, -52508.30353343573, -45053.501151340155, -53120.54070874581, -48031.600338698336, -57516.27318363642, -49855.36023906116, -38870.67264138034, -51858.95285225975, -49618.5642515839, -42334.047671506334, -53905.330808706676, -49083.98904448347, -47366.64939309712, -40276.44813108954, -44316.3909761365, -46888.40589877376, -41183.65207165711, -51006.62596717178, -46621.67518992086, -55003.11473536294, -40392.52353813574, -55837.89621255908, -57945.29400939378, -44891.72694017815, -33223.7879275869, -41229.0853264679, -48086.471615067814, -45889.16124528394, -39730.75492373197, -44207.36919669005, -52745.271995073825, -42152.502819378744, -52957.61629178097, -48338.70466261931, -56895.33602609464, -47591.225111219996, -52877.38164603336, -38257.012522678684, -45243.335995709785, -51590.97205811302, -57888.986937986156, -52219.78891026324, -39255.47386551346, -51240.79467490209, -47148.04950665259, -45489.12002421861, -60035.355735186306, -44680.893509319234, -47339.94733410826, -59885.183450800876, -41090.43271162365, -51335.69636219804, -53680.720585277886, -43219.57063079798, -58306.89374121131, -47490.05337363707, -42382.6988320362, -40724.156885096636, -44945.699014442995, -47271.41327624212, -40907.25147798809, -46752.171891149075, -42805.17469366227, -49640.5163339359, -47211.309218979404, -42194.79873495241, -57176.86780610604, -41047.376366850294, -47975.62989430368, -46294.69652581509, -45592.66271459645, -33685.82303783499, -41654.28537091672, -54957.49098917233, -47129.8441634206, -49427.52413702613], \"xaxis\": \"x\", \"y\": [646.5438723752033, -1055.9968931753695, -3476.7575329414076, -1789.8310613735064, -2464.3665067293477, -672.1303645871002, -990.6075970316534, -975.0110199269376, -2999.0481368530072, -2178.9512608782666, -958.536564511077, -1016.3628176053365, -3844.0506429942834, -3004.1359250357314, -4573.135949676131, -3511.6505427575603, -2494.3460158547696, -2125.5165732968326, 1139.067724989408, -1656.4250558163055, -1500.5997535503475, -1529.9495201383847, -1838.6646455566608, -458.73293797346946, -1039.8869670204508, -623.0248233972351, -2907.7981801354927, -3704.1152030668836, -2964.871161538945, -1819.141113343568, -2039.051945091478, -3586.392912339362, -3386.631387427837, -1946.425634881534, -1443.6312210611682, -1546.7860227984656, -424.49445160247075, -5860.406970913431, -2626.494760123042, -3482.950924420314, -2385.930673599972, -2813.4088657561038, -3117.0435724351246, -2388.3975155671865, -809.247850406614, -3972.4372911141963, -2804.3175987818177, -2106.956548531857, -3258.5927312494296, -1255.02312171752, -2395.150620327911, -3145.8388116696315, -1283.24934168422, -3447.5228656993527, -1902.3037525718132, -2541.104074402422, -1716.095751517995, -4704.900718140079, -918.4435413744579, -3329.4241557503906, -874.593832039625, -1450.7318688866635, -2812.640832274527, 72.34189620852506, -2379.4453929525357, -1341.6421504993375, -3330.095089314263, -3652.143022077505, -1271.8366968001828, -1573.129333946469, -2323.9550250667417, -2003.379558614895, -3267.8530880659678, -2373.906852113616, -2520.879670925899, -2662.2379174130597, -2551.6409458673006, -4966.632983631629, -1998.314514884127, -1200.4987085747016, -946.4427010468281, 776.7213551828802, -2706.9542458595424, -2226.523883594684, -3159.4030652887404, -1681.1078093986168, -1747.2845158743762, -2299.1775764582526, 1229.634202103798, -1061.3928297006287, -1806.3716349634778, -1918.0706539765365, -2913.151326193392, -1690.2235244245417, -1059.5099705589166, -4327.599800404026, -559.8887343311569, -3267.6645334787445, -3656.860040523121, -3215.311753103619, -1788.5950192551397, -3270.2500120301265, -3595.426499455155, -512.1681616652364, -296.94791022013663, -219.83567344032116, -2876.016821854162, -1034.0462861180692, -3209.705699855122, -2386.7446703879714, -1709.6809922654045, -2297.4104284560167, -361.82287722906057, -2456.0624695072065, -337.58311029945867, -948.1700320034151, -857.2365574199125, -2067.7852022028587, -3320.2381091067423, -2756.210456765216, 968.1821841701743, -2507.468037848859, -2253.324954790315, -1523.153182779477, -982.6374045457433, -1498.3070625904022, -1025.6556377131587, -1026.2178281219428, -3403.3549980948787, -2663.4363034143594, -1422.2632521531466, -2247.7230980697595, -4260.667936777424, -2383.923586492435, -2403.452656500528, -497.0287321468153, -2831.2449726497775, -500.3822260290366, 163.0086019424056, -2697.480649636872, -3445.1407626668756, -1858.7415428672753, -2359.981060852438, -1284.2763352326017, -1273.0340909671552, -2166.9455265130255, -3282.4967836895175], \"yaxis\": \"y\"}, {\"customdata\": [[88], [59], [59], [88], [37], [33], [90], [31], [90], [91], [29], [83], [84], [87], [22], [58], [31], [33], [56], [30], [85], [87], [34], [61], [30], [88], [56], [30], [25], [61], [88], [37], [35], [85], [85], [88], [59], [90], [33], [62], [59], [91], [33], [87], [26], [88], [24], [91], [86], [36], [87], [33], [59], [29], [59], [57], [40], [42], [89], [93], [17], [24], [34], [90], [20], [92], [84], [59], [61], [67], [82], [94], [28], [36], [91], [34], [77], [63], [35], [21], [86], [56], [83], [28], [59], [83], [83], [58], [91], [29], [61], [84], [34], [33], [55], [88], [91], [91], [84], [87], [39], [38], [89], [59], [35], [59], [87], [94], [86], [60], [79], [86], [60], [85], [92], [37], [89], [67], [31], [20], [37], [57], [87], [33], [56], [67], [58], [89], [34], [25], [44], [68], [31], [58], [55], [21], [36], [88], [26], [29], [38], [79], [51], [82], [39], [87], [36], [57], [61], [86], [86], [35], [89], [30], [60], [64]], \"hoverlabel\": {\"namelength\": 0}, \"hovertemplate\": \"Cluster=Cluster 2<br>PCA1=%{x}<br>PCA2=%{y}<br>Feature=%{customdata[0]}\", \"legendgroup\": \"Cluster=Cluster 2\", \"marker\": {\"color\": \"#00cc96\", \"opacity\": 0.5, \"symbol\": \"circle\"}, \"mode\": \"markers\", \"name\": \"Cluster=Cluster 2\", \"showlegend\": true, \"textposition\": \"top center\", \"type\": \"scatter\", \"x\": [3574.8676282851334, -1709.0067116984346, -6075.723945911875, 5619.125538763621, -2220.6354506100633, -1755.3663563989924, 5679.935032255562, -4114.665812502659, -4883.720561797811, -10371.487057071723, -5149.414552966316, 4615.60458978389, 1855.0479869186836, -967.1345292294847, 7017.407229806946, -4794.730185972459, -811.2733012583016, 5122.282562298918, -12402.614006035736, -7981.746810683438, 2868.6753358918077, 4968.7646458745685, 7034.56699184688, -9176.939917160453, -805.5182840466955, -6214.354917756381, -7827.504392605751, -7225.656651496556, -6586.375015596338, -9270.983246113974, -1864.5940590614487, -9823.292971418665, 3607.621847535446, 1547.9124395594213, -3147.971690102405, -3197.770674931709, -3127.746475407193, -10419.650727093283, -4661.643199436443, 3333.037008198894, -4588.845682887329, -1424.296852785254, -11770.09622190469, -7431.169946592949, -6270.130057704636, -5787.584457334289, -7793.211508914158, 2555.784235160211, -5898.744479681148, -5327.512619806889, -1710.0091006297778, -2630.794135208179, 1381.2925438038915, -10238.83792874304, -2329.6167597527683, -3536.624899618863, -11570.013629472294, -12594.175242128531, -3881.2792235448283, -9447.566957019657, -4595.725467462927, 5567.478117111804, 9121.208329826177, 4848.442764387977, 499.49661809613406, -4176.7226317043105, -6529.597912750263, -7423.928769536235, -9153.992100917838, 4864.683651412995, -7249.02812979693, 7325.256189492691, 1198.215527285721, -6945.490220855903, -5628.983771409207, -6874.447300583783, 3175.73010088768, -10072.875118803542, -5806.077052611819, -6051.7980271496435, 11039.02694203171, -4972.92214112997, 11129.424149229606, 6644.597612798226, -611.892076683543, -879.6961231840203, 1270.5926186365064, -3354.409395492048, -3652.0516272195223, 1535.320034923854, 3442.067865401046, 1691.1469990055032, -9514.74212229377, -5495.930030665689, -11393.264281389042, -1006.7942808926996, -11385.807297750884, 10499.407295945583, -5228.773548143096, -2009.7086141751695, -847.3002227743442, -13124.391604038408, -6112.701966838939, -14757.626854505606, -5414.451723823096, -4197.995995572508, -907.669087609121, 4241.775895153043, -2601.869628345948, 1797.8692846207534, -860.4354477953755, 13091.374153516688, -4333.353171495323, 106.44730782999291, -5414.849621380294, -1148.59271383632, 834.6063416853485, -182.8750970628962, -12401.01261442263, 384.4886537787794, -15876.014194933867, 2392.951400013224, -4856.160277619087, -9604.976101231401, -3578.64116676373, 3594.04242169083, -5713.304475031722, -7793.4543520865345, -18832.3230899951, 277.3194547180345, 2456.114942910887, 3385.822049131318, -1867.50119520551, -4025.5345868614977, -5506.50477527731, 1380.9095854822567, -1254.7961050822862, 1223.3332842063558, -10817.514881421737, 375.6120252474099, -18377.080919160893, -7740.904879089721, -9600.009525716896, -284.9346161317552, -15159.90191624568, -4335.121223668239, -3902.650760127411, -9955.599000501968, 8122.080380415542, 5073.487356522341, 871.0561448640407, 3735.222300120542, -8175.944783841653, -7927.279393999565, -3222.028497117644, 2663.814142724259], \"xaxis\": \"x\", \"y\": [6638.189488143047, 3684.6952959403593, 3500.596454313254, 4314.803908984969, 4177.140129281849, 4273.2053018476345, 4711.285967238693, 3078.8964384945916, 4688.370746949258, 6211.274488459199, 5556.666139133819, 5713.442041909503, 5468.743274286696, 4638.724240674151, 5588.800602998204, 5174.470545977293, 4771.515153180693, 3424.0736039052877, 4277.420432790429, 3467.5659749114184, 5223.642330390357, 3943.117073633911, 3374.2871342934272, 7146.662858252779, 4348.095679784136, 8154.200533863807, 5701.697575023512, 4564.6176218553155, 4795.659622307598, 5996.549152653394, 5267.3525532097765, 6862.247572080607, 4852.444518767336, 3973.906997486512, 5506.996622913861, 5127.949261280454, 5318.281993622224, 5982.85822143913, 4875.412034392041, 4012.215493342313, 4468.268102563842, 7267.328542397003, 5001.42078319685, 6342.036901878027, 5401.8216969671685, 5711.6283932669685, 6334.243251982047, 5164.690387393574, 5205.840154213878, 5507.674538617933, 5692.0917043594, 5512.8098884721, 5207.221097509009, 7423.315368546433, 6502.207882775593, 5070.413098436325, 6393.584927460234, 5058.593507665865, 3532.750801645636, 6026.370137728771, 4575.315245883314, 6399.679457928577, 4076.1888638584974, 6716.38927008233, 4450.5724650858, 5121.94817799102, 5174.060016070749, 5595.425208078429, 6237.455006749798, 4834.953991865887, 5030.1015099048445, 5245.750156657963, 6031.59778009812, 5240.283697626604, 3413.4609900340333, 3266.4701832643786, 4727.0798130553485, 7033.832306225472, 5686.132349951807, 6221.683453940019, 4384.687289531572, 5053.974394482307, 2451.3956456354913, 6074.108821940037, 2642.8564628733097, 4574.029852480233, 4918.861099714735, 4039.0497082186075, 4298.147934215798, 6617.143404468857, 3293.9257098257845, 4305.605513370139, 5484.06221013075, 5033.927181148623, 4760.726683836119, 6827.73675228087, 5239.83448625213, 4092.5868105824966, 4906.8213691170085, 4571.311601888514, 5435.293808150465, 5122.298575466132, 7150.2656862042095, 5008.012103778606, 6401.496850378555, 4646.423038232094, 4662.571801362162, 4854.373611538006, 5720.063910631848, 3616.906622264861, 1366.2175061913888, 3878.0740056043537, 6791.1217279871325, 5019.545071865859, 4509.37894804773, 6154.518606181515, 5141.10136743259, 4411.324353776285, 6731.622371228142, 6845.14181437128, 7337.4625843307695, 5992.684094109708, 6861.841710581504, 5517.456998799792, 4687.331305792246, 5244.223767536206, 6098.407171499209, 5788.853893383748, 6823.253328040565, 5152.077722121314, 5539.978254276126, 4513.159427781256, 2685.662685436794, 5644.55219961427, 6298.430178867734, 5567.112673818731, 6380.9154942927935, 5666.367954752701, 6677.482101590937, 5049.606296947774, 5086.374324713103, 5133.639471687387, 4923.281603355222, 4064.008336080808, 5573.243592768727, 2658.297518890412, 5499.339332721766, 4085.3122504461207, 4731.012058760929, 5244.436809348917, 5689.000453091911, 4370.467828822717, 5599.274828311294, 5673.527728610804, 4129.181189416356, 3399.120354730324], \"yaxis\": \"y\"}, {\"customdata\": [[37], [65], [90], [59], [29], [58], [88], [63], [92], [17], [34], [22], [24], [36], [34], [87], [85], [61], [27], [59], [31], [31], [93], [17], [35], [28], [94], [28], [33], [56], [28], [86], [92], [18], [61], [32], [63], [58], [31], [62], [60], [62], [90], [33], [33], [65], [59], [65], [86], [32], [84], [84], [90], [91], [26], [92], [97], [84], [58], [61], [92], [87], [66], [22], [91], [30], [25], [28], [93], [90], [91], [89]], \"hoverlabel\": {\"namelength\": 0}, \"hovertemplate\": \"Cluster=Cluster 3<br>PCA1=%{x}<br>PCA2=%{y}<br>Feature=%{customdata[0]}\", \"legendgroup\": \"Cluster=Cluster 3\", \"marker\": {\"color\": \"#ab63fa\", \"opacity\": 0.5, \"symbol\": \"circle\"}, \"mode\": \"markers\", \"name\": \"Cluster=Cluster 3\", \"showlegend\": true, \"textposition\": \"top center\", \"type\": \"scatter\", \"x\": [48551.89779119264, 42414.13984409395, 46271.74999066812, 48029.235982960905, 62912.45709780569, 43629.012739237565, 55587.351730733586, 56651.45548374747, 41328.252663309984, 43861.74709102553, 53899.234059979586, 44952.90203538896, 47549.76254622708, 47842.883679066494, 59798.17482849972, 47182.06858155583, 51395.22435599951, 57857.28905692229, 47415.38916240532, 58984.55027496727, 48410.00929047232, 55168.451545061886, 59803.04557919302, 53976.79000263131, 56449.67813828142, 46993.641087908414, 53422.55248570126, 41580.27174463825, 47836.44839182685, 48602.571111840196, 52465.033586659905, 52263.49410874446, 50433.85138453336, 51532.4700584045, 46000.80248469955, 63317.06653244292, 52086.38065892723, 50397.083897731354, 43600.21618030976, 54542.560260911276, 52679.13742245063, 54778.91990969145, 45728.401144344105, 59239.85352839814, 41859.154369975615, 48281.9647640219, 54230.31142047661, 49923.23240258631, 48577.24594456371, 45920.30384600762, 45302.570904167456, 55809.60825993981, 43084.4313010684, 48697.32854440995, 50874.59373315187, 44074.744322679486, 47210.61128412961, 52844.21454083216, 47518.88131856792, 53924.59703955878, 42157.80542870101, 66750.62108457653, 45280.296457487624, 61617.256021857225, 61085.161815426916, 41933.8763490921, 55783.42885801492, 42045.79570257142, 55795.997914963955, 45049.71303774848, 59196.59308633912, 47964.55226138695], \"xaxis\": \"x\", \"y\": [4668.214697412172, -5432.2818195096415, 4207.414796612182, 5422.323757682562, 5261.355213266389, -6254.840941209123, 3427.1351952588093, 4271.292185091135, -4823.645899335596, -6877.035883382065, 3176.746885409089, -4985.514801220396, 3437.89648239478, 4758.188729714915, 4315.7517925590655, -4557.716601791875, 5657.241494980817, 5717.501137167643, 4709.388807631826, 3350.7116179336454, -5693.665441157447, 4016.981622201614, 8450.30756249261, 5488.389984582107, 5101.39869736752, -4647.12908858865, 3894.235479127748, -5615.56077240864, 6059.9833233745485, 6249.537360930083, 3371.5330650130986, 5916.358054129831, -6854.206134077956, 6006.733833662532, 3884.452851319083, 4946.1775101205085, 3388.4270346813746, 2890.5509685647035, -5657.4788315200085, 4193.8829993723075, -4749.057025715363, 4629.791365281097, 3658.306501252221, 4745.144589124807, -4543.326267067195, 8499.966944599808, 3238.428770323685, 6048.724079227707, -6305.30775967273, -4953.92112942336, 3778.181421309605, 3879.149733262657, -4660.855622444509, 5282.497809754306, -5178.052813440071, -6307.669140625978, 6674.234677495916, -5677.667475551912, 4941.99936297327, 5765.842845736465, -5954.454601851142, 2693.0081866217515, 4437.356566167739, 6726.313750520612, 4243.721728508764, 4717.997205237609, 4732.087714707707, -3106.103475868357, 4252.897540706996, 4590.8725834561055, 3903.9749268153687, -4397.186114919677], \"yaxis\": \"y\"}],\n                        {\"height\": 600, \"legend\": {\"tracegroupgap\": 0}, \"margin\": {\"t\": 60}, \"plot_bgcolor\": \"rgb(240,240,240)\", \"template\": {\"data\": {\"bar\": [{\"error_x\": {\"color\": \"#2a3f5f\"}, \"error_y\": {\"color\": \"#2a3f5f\"}, \"marker\": {\"line\": {\"color\": \"#E5ECF6\", \"width\": 0.5}}, \"type\": \"bar\"}], \"barpolar\": [{\"marker\": {\"line\": {\"color\": \"#E5ECF6\", \"width\": 0.5}}, \"type\": \"barpolar\"}], \"carpet\": [{\"aaxis\": {\"endlinecolor\": \"#2a3f5f\", \"gridcolor\": \"white\", \"linecolor\": \"white\", \"minorgridcolor\": \"white\", \"startlinecolor\": \"#2a3f5f\"}, \"baxis\": {\"endlinecolor\": \"#2a3f5f\", \"gridcolor\": \"white\", \"linecolor\": \"white\", \"minorgridcolor\": \"white\", \"startlinecolor\": \"#2a3f5f\"}, \"type\": \"carpet\"}], \"choropleth\": [{\"colorbar\": {\"outlinewidth\": 0, \"ticks\": \"\"}, \"type\": \"choropleth\"}], \"contour\": [{\"colorbar\": {\"outlinewidth\": 0, \"ticks\": \"\"}, \"colorscale\": [[0.0, \"#0d0887\"], [0.1111111111111111, \"#46039f\"], [0.2222222222222222, \"#7201a8\"], [0.3333333333333333, \"#9c179e\"], [0.4444444444444444, \"#bd3786\"], [0.5555555555555556, \"#d8576b\"], [0.6666666666666666, \"#ed7953\"], [0.7777777777777778, \"#fb9f3a\"], [0.8888888888888888, \"#fdca26\"], [1.0, \"#f0f921\"]], \"type\": \"contour\"}], \"contourcarpet\": [{\"colorbar\": {\"outlinewidth\": 0, \"ticks\": \"\"}, \"type\": \"contourcarpet\"}], \"heatmap\": [{\"colorbar\": {\"outlinewidth\": 0, \"ticks\": \"\"}, \"colorscale\": [[0.0, \"#0d0887\"], [0.1111111111111111, \"#46039f\"], [0.2222222222222222, \"#7201a8\"], [0.3333333333333333, \"#9c179e\"], [0.4444444444444444, \"#bd3786\"], [0.5555555555555556, \"#d8576b\"], [0.6666666666666666, \"#ed7953\"], [0.7777777777777778, \"#fb9f3a\"], [0.8888888888888888, \"#fdca26\"], [1.0, \"#f0f921\"]], \"type\": \"heatmap\"}], \"heatmapgl\": [{\"colorbar\": {\"outlinewidth\": 0, \"ticks\": \"\"}, \"colorscale\": [[0.0, \"#0d0887\"], [0.1111111111111111, \"#46039f\"], [0.2222222222222222, \"#7201a8\"], [0.3333333333333333, \"#9c179e\"], [0.4444444444444444, \"#bd3786\"], [0.5555555555555556, \"#d8576b\"], [0.6666666666666666, \"#ed7953\"], [0.7777777777777778, \"#fb9f3a\"], [0.8888888888888888, \"#fdca26\"], [1.0, \"#f0f921\"]], \"type\": \"heatmapgl\"}], \"histogram\": [{\"marker\": {\"colorbar\": {\"outlinewidth\": 0, \"ticks\": \"\"}}, \"type\": \"histogram\"}], \"histogram2d\": [{\"colorbar\": {\"outlinewidth\": 0, \"ticks\": \"\"}, \"colorscale\": [[0.0, \"#0d0887\"], [0.1111111111111111, \"#46039f\"], [0.2222222222222222, \"#7201a8\"], [0.3333333333333333, \"#9c179e\"], [0.4444444444444444, \"#bd3786\"], [0.5555555555555556, \"#d8576b\"], [0.6666666666666666, \"#ed7953\"], [0.7777777777777778, \"#fb9f3a\"], [0.8888888888888888, \"#fdca26\"], [1.0, \"#f0f921\"]], \"type\": \"histogram2d\"}], \"histogram2dcontour\": [{\"colorbar\": {\"outlinewidth\": 0, \"ticks\": \"\"}, \"colorscale\": [[0.0, \"#0d0887\"], [0.1111111111111111, \"#46039f\"], [0.2222222222222222, \"#7201a8\"], [0.3333333333333333, \"#9c179e\"], [0.4444444444444444, \"#bd3786\"], [0.5555555555555556, \"#d8576b\"], [0.6666666666666666, \"#ed7953\"], [0.7777777777777778, \"#fb9f3a\"], [0.8888888888888888, \"#fdca26\"], [1.0, \"#f0f921\"]], \"type\": \"histogram2dcontour\"}], \"mesh3d\": [{\"colorbar\": {\"outlinewidth\": 0, \"ticks\": \"\"}, \"type\": \"mesh3d\"}], \"parcoords\": [{\"line\": {\"colorbar\": {\"outlinewidth\": 0, \"ticks\": \"\"}}, \"type\": \"parcoords\"}], \"pie\": [{\"automargin\": true, \"type\": \"pie\"}], \"scatter\": [{\"marker\": {\"colorbar\": {\"outlinewidth\": 0, \"ticks\": \"\"}}, \"type\": \"scatter\"}], \"scatter3d\": [{\"line\": {\"colorbar\": {\"outlinewidth\": 0, \"ticks\": \"\"}}, \"marker\": {\"colorbar\": {\"outlinewidth\": 0, \"ticks\": \"\"}}, \"type\": \"scatter3d\"}], \"scattercarpet\": [{\"marker\": {\"colorbar\": {\"outlinewidth\": 0, \"ticks\": \"\"}}, \"type\": \"scattercarpet\"}], \"scattergeo\": [{\"marker\": {\"colorbar\": {\"outlinewidth\": 0, \"ticks\": \"\"}}, \"type\": \"scattergeo\"}], \"scattergl\": [{\"marker\": {\"colorbar\": {\"outlinewidth\": 0, \"ticks\": \"\"}}, \"type\": \"scattergl\"}], \"scattermapbox\": [{\"marker\": {\"colorbar\": {\"outlinewidth\": 0, \"ticks\": \"\"}}, \"type\": \"scattermapbox\"}], \"scatterpolar\": [{\"marker\": {\"colorbar\": {\"outlinewidth\": 0, \"ticks\": \"\"}}, \"type\": \"scatterpolar\"}], \"scatterpolargl\": [{\"marker\": {\"colorbar\": {\"outlinewidth\": 0, \"ticks\": \"\"}}, \"type\": \"scatterpolargl\"}], \"scatterternary\": [{\"marker\": {\"colorbar\": {\"outlinewidth\": 0, \"ticks\": \"\"}}, \"type\": \"scatterternary\"}], \"surface\": [{\"colorbar\": {\"outlinewidth\": 0, \"ticks\": \"\"}, \"colorscale\": [[0.0, \"#0d0887\"], [0.1111111111111111, \"#46039f\"], [0.2222222222222222, \"#7201a8\"], [0.3333333333333333, \"#9c179e\"], [0.4444444444444444, \"#bd3786\"], [0.5555555555555556, \"#d8576b\"], [0.6666666666666666, \"#ed7953\"], [0.7777777777777778, \"#fb9f3a\"], [0.8888888888888888, \"#fdca26\"], [1.0, \"#f0f921\"]], \"type\": \"surface\"}], \"table\": [{\"cells\": {\"fill\": {\"color\": \"#EBF0F8\"}, \"line\": {\"color\": \"white\"}}, \"header\": {\"fill\": {\"color\": \"#C8D4E3\"}, \"line\": {\"color\": \"white\"}}, \"type\": \"table\"}]}, \"layout\": {\"annotationdefaults\": {\"arrowcolor\": \"#2a3f5f\", \"arrowhead\": 0, \"arrowwidth\": 1}, \"coloraxis\": {\"colorbar\": {\"outlinewidth\": 0, \"ticks\": \"\"}}, \"colorscale\": {\"diverging\": [[0, \"#8e0152\"], [0.1, \"#c51b7d\"], [0.2, \"#de77ae\"], [0.3, \"#f1b6da\"], [0.4, \"#fde0ef\"], [0.5, \"#f7f7f7\"], [0.6, \"#e6f5d0\"], [0.7, \"#b8e186\"], [0.8, \"#7fbc41\"], [0.9, \"#4d9221\"], [1, \"#276419\"]], \"sequential\": [[0.0, \"#0d0887\"], [0.1111111111111111, \"#46039f\"], [0.2222222222222222, \"#7201a8\"], [0.3333333333333333, \"#9c179e\"], [0.4444444444444444, \"#bd3786\"], [0.5555555555555556, \"#d8576b\"], [0.6666666666666666, \"#ed7953\"], [0.7777777777777778, \"#fb9f3a\"], [0.8888888888888888, \"#fdca26\"], [1.0, \"#f0f921\"]], \"sequentialminus\": [[0.0, \"#0d0887\"], [0.1111111111111111, \"#46039f\"], [0.2222222222222222, \"#7201a8\"], [0.3333333333333333, \"#9c179e\"], [0.4444444444444444, \"#bd3786\"], [0.5555555555555556, \"#d8576b\"], [0.6666666666666666, \"#ed7953\"], [0.7777777777777778, \"#fb9f3a\"], [0.8888888888888888, \"#fdca26\"], [1.0, \"#f0f921\"]]}, \"colorway\": [\"#636efa\", \"#EF553B\", \"#00cc96\", \"#ab63fa\", \"#FFA15A\", \"#19d3f3\", \"#FF6692\", \"#B6E880\", \"#FF97FF\", \"#FECB52\"], \"font\": {\"color\": \"#2a3f5f\"}, \"geo\": {\"bgcolor\": \"white\", \"lakecolor\": \"white\", \"landcolor\": \"#E5ECF6\", \"showlakes\": true, \"showland\": true, \"subunitcolor\": \"white\"}, \"hoverlabel\": {\"align\": \"left\"}, \"hovermode\": \"closest\", \"mapbox\": {\"style\": \"light\"}, \"paper_bgcolor\": \"white\", \"plot_bgcolor\": \"#E5ECF6\", \"polar\": {\"angularaxis\": {\"gridcolor\": \"white\", \"linecolor\": \"white\", \"ticks\": \"\"}, \"bgcolor\": \"#E5ECF6\", \"radialaxis\": {\"gridcolor\": \"white\", \"linecolor\": \"white\", \"ticks\": \"\"}}, \"scene\": {\"xaxis\": {\"backgroundcolor\": \"#E5ECF6\", \"gridcolor\": \"white\", \"gridwidth\": 2, \"linecolor\": \"white\", \"showbackground\": true, \"ticks\": \"\", \"zerolinecolor\": \"white\"}, \"yaxis\": {\"backgroundcolor\": \"#E5ECF6\", \"gridcolor\": \"white\", \"gridwidth\": 2, \"linecolor\": \"white\", \"showbackground\": true, \"ticks\": \"\", \"zerolinecolor\": \"white\"}, \"zaxis\": {\"backgroundcolor\": \"#E5ECF6\", \"gridcolor\": \"white\", \"gridwidth\": 2, \"linecolor\": \"white\", \"showbackground\": true, \"ticks\": \"\", \"zerolinecolor\": \"white\"}}, \"shapedefaults\": {\"line\": {\"color\": \"#2a3f5f\"}}, \"ternary\": {\"aaxis\": {\"gridcolor\": \"white\", \"linecolor\": \"white\", \"ticks\": \"\"}, \"baxis\": {\"gridcolor\": \"white\", \"linecolor\": \"white\", \"ticks\": \"\"}, \"bgcolor\": \"#E5ECF6\", \"caxis\": {\"gridcolor\": \"white\", \"linecolor\": \"white\", \"ticks\": \"\"}}, \"title\": {\"x\": 0.05}, \"xaxis\": {\"automargin\": true, \"gridcolor\": \"white\", \"linecolor\": \"white\", \"ticks\": \"\", \"title\": {\"standoff\": 15}, \"zerolinecolor\": \"white\", \"zerolinewidth\": 2}, \"yaxis\": {\"automargin\": true, \"gridcolor\": \"white\", \"linecolor\": \"white\", \"ticks\": \"\", \"title\": {\"standoff\": 15}, \"zerolinecolor\": \"white\", \"zerolinewidth\": 2}}}, \"title\": {\"text\": \"2D Cluster PCA Plot\"}, \"xaxis\": {\"anchor\": \"y\", \"domain\": [0.0, 1.0], \"title\": {\"text\": \"PCA1\"}}, \"yaxis\": {\"anchor\": \"x\", \"domain\": [0.0, 1.0], \"title\": {\"text\": \"PCA2\"}}},\n                        {\"responsive\": true}\n                    ).then(function(){\n                            \nvar gd = document.getElementById('fb374f96-0c9f-4804-bfec-05f1ccfd7b4c');\nvar x = new MutationObserver(function (mutations, observer) {{\n        var display = window.getComputedStyle(gd).display;\n        if (!display || display === 'none') {{\n            console.log([gd, 'removed!']);\n            Plotly.purge(gd);\n            observer.disconnect();\n        }}\n}});\n\n// Listen for the removal of the full notebook cells\nvar notebookContainer = gd.closest('#notebook-container');\nif (notebookContainer) {{\n    x.observe(notebookContainer, {childList: true});\n}}\n\n// Listen for the clearing of the current output cell\nvar outputEl = gd.closest('.output');\nif (outputEl) {{\n    x.observe(outputEl, {childList: true});\n}}\n\n                        })\n                };\n                });\n            </script>\n        </div>"
     },
     "metadata": {}
    }
   ],
   "source": [
    "plot_model(kmeans)"
   ]
  },
  {
   "cell_type": "code",
   "execution_count": 23,
   "metadata": {},
   "outputs": [
    {
     "output_type": "execute_result",
     "data": {
      "text/plain": "   Age  Income  SpendingScore       Savings    Cluster\n0   58   77769       0.791329   6559.829923  Cluster 2\n1   59   81799       0.791082   5417.661426  Cluster 2\n2   62   74751       0.702657   9258.992965  Cluster 2\n3   59   74373       0.765680   7346.334504  Cluster 2\n4   87   17760       0.348778  16869.507130  Cluster 1",
      "text/html": "<div>\n<style scoped>\n    .dataframe tbody tr th:only-of-type {\n        vertical-align: middle;\n    }\n\n    .dataframe tbody tr th {\n        vertical-align: top;\n    }\n\n    .dataframe thead th {\n        text-align: right;\n    }\n</style>\n<table border=\"1\" class=\"dataframe\">\n  <thead>\n    <tr style=\"text-align: right;\">\n      <th></th>\n      <th>Age</th>\n      <th>Income</th>\n      <th>SpendingScore</th>\n      <th>Savings</th>\n      <th>Cluster</th>\n    </tr>\n  </thead>\n  <tbody>\n    <tr>\n      <th>0</th>\n      <td>58</td>\n      <td>77769</td>\n      <td>0.791329</td>\n      <td>6559.829923</td>\n      <td>Cluster 2</td>\n    </tr>\n    <tr>\n      <th>1</th>\n      <td>59</td>\n      <td>81799</td>\n      <td>0.791082</td>\n      <td>5417.661426</td>\n      <td>Cluster 2</td>\n    </tr>\n    <tr>\n      <th>2</th>\n      <td>62</td>\n      <td>74751</td>\n      <td>0.702657</td>\n      <td>9258.992965</td>\n      <td>Cluster 2</td>\n    </tr>\n    <tr>\n      <th>3</th>\n      <td>59</td>\n      <td>74373</td>\n      <td>0.765680</td>\n      <td>7346.334504</td>\n      <td>Cluster 2</td>\n    </tr>\n    <tr>\n      <th>4</th>\n      <td>87</td>\n      <td>17760</td>\n      <td>0.348778</td>\n      <td>16869.507130</td>\n      <td>Cluster 1</td>\n    </tr>\n  </tbody>\n</table>\n</div>"
     },
     "metadata": {},
     "execution_count": 23
    }
   ],
   "source": [
    "kmeans_df.head()"
   ]
  }
 ],
 "metadata": {
  "language_info": {
   "codemirror_mode": {
    "name": "ipython",
    "version": 3
   },
   "file_extension": ".py",
   "mimetype": "text/x-python",
   "name": "python",
   "nbconvert_exporter": "python",
   "pygments_lexer": "ipython3",
   "version": "3.7.7-final"
  },
  "orig_nbformat": 2,
  "kernelspec": {
   "name": "python_defaultSpec_1595777482979",
   "display_name": "Python 3.7.7 64-bit ('pycaret': conda)"
  }
 },
 "nbformat": 4,
 "nbformat_minor": 2
}